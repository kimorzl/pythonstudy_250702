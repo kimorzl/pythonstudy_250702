{
 "cells": [
  {
   "cell_type": "markdown",
   "id": "7fe94e10-9d7f-494e-b479-f6859a5daf6e",
   "metadata": {},
   "source": [
    "# PYTHON이란?\n",
    "- 객체 지향형 언어\n",
    "- 객체는 Object라 칭함\n",
    "\n",
    "## Python Basic\n",
    "\n",
    "### 1. 기본 규칙\n",
    "- code작성 시, 띄어쓰기 & 대,소문자 구분 주의할 것\n",
    "- class라는 문법을 통해 각 변수, 문법, 기능들을 정의해 놓음\n",
    "- alt+shift+아랫방향 화살표(윗 코드 복제)\n",
    "\n",
    "### 2. 변수\n",
    "\n",
    "#### 변수입력방식\n",
    "- 직관적이고 명시적인 단어 활용\n",
    "\n",
    "#### 변수 표기법\n",
    "1. sneak : hello_world (2순위로 사용되는 표기법)\n",
    "2. camel : helloWorld (1순위로 사용되는 표기법)\n",
    "3. hungarian : HelloWorld (과거 주로 사용하던 표기법)\n",
    "\n",
    "#### 변수 이름 설정시 주의사항\n",
    "1. 변수의 이름은 숫자로 시작할 수 없음\n",
    "2. Bool 타입 작성시 첫글자는 대문자( True, False )\n",
    "  \n",
    "### 3. 연산자\n",
    "- 사칙연산\n",
    "- 비교연산\n",
    "\n",
    "### 4. 자료타입\n",
    "- type\n",
    "- Str : 문자열\n",
    "- int : 정수\n",
    "- float : 부동소수\n",
    "- bool : 참, 거짓 판별\n",
    "\n",
    "- ex.\n",
    "1. str_data = \"Hello\" # 문자열 데이터\n",
    "2. int_data = 1 # 정수형 데이터\n",
    "3. float_data = 1.1 # 부동소수\n",
    "4. bool_data = True # 논리형 (true, False 구분) 데이터\n",
    "\n",
    "print(type(str_data), type(int_data), type(float_data), type(bool_data))\n",
    "<class 'str'> <class 'int'> <class 'float'> <class 'bool'>\n",
    "\n",
    "\n",
    " \n",
    "### 5. 형변환\n",
    "- int()\n",
    "- float()\n",
    "- str()\n",
    "\n",
    "\n",
    "## 6. 문자열\n",
    "- \\n : 개행\n",
    "- \"\"\" \"\"\" : 문자열을 자유자제로 활용하게 만들어주는 것\n",
    "- count() : 객체 안에 특정 문언가를 셀때 사용 (문자형 객체에서 사용)\n",
    "- len() : 객체의 길이를 세는 용도\n",
    "- find() : 특정 문자열이 어디서부터 시작하는가를 찾고싶을때 사용\n",
    "- replace() : 인자값을 찾아 다른 인자값으로 변경할 때 사용\n",
    "- [index]\n",
    "- [index:index] : 슬라이싱을 의미\n",
    "- strip() : 잘라내기 기능을 제공\n",
    "- format() **유의사항/독립적으로 사용될때 주의\n",
    "\n",
    "### 7. F-string\n",
    "- f\"문자열{변수}\"\n",
    "\n",
    "\n",
    "## 내장함수(*Built-in Function)\n",
    "- print()\n",
    "- input() : input값은 기본적으로 str처리가 되어 숫자 입력 희망시 형변환을 해야한다.\n",
    "- type()\n",
    "\n",
    "\n",
    "## 단축키\n",
    "- a, cell 위에 신규 cell 생성\n",
    "- b, cell 아래에 신규 cell 생성\n",
    "- dd, 희망 cell 삭제\n",
    "- ctrl+z, 되돌리기\n",
    "- enter, 행바꿈(*개행)\n",
    "- ctrl+enter, cell 실행(*code running)\n",
    "\n",
    "## 개행 문자열\n",
    "- \\n 행바꿈\n",
    "- "
   ]
  },
  {
   "cell_type": "code",
   "execution_count": 7,
   "id": "2f64ffce-09cc-407b-b230-ed05c4289b42",
   "metadata": {},
   "outputs": [
    {
     "name": "stdout",
     "output_type": "stream",
     "text": [
      "1\n"
     ]
    }
   ],
   "source": [
    "num =1 \n",
    "# 위 코드 읽는 방법, num이라는 변수 안에 1이라는 값을 할당\n",
    "# num -> 변수 (변수란, 어떤값을 담을 수 있는 그릇, 직관&명시적 단어 활용)\n",
    "\n",
    "print(num) \n",
    "# 위 코드 읽는 방법, print라는 함수 안에 num이라는 변수를 인자값(argument)으로 사용한다.\n",
    "# print() -> 특정 텍스트 뒤에 소괄호()가 나오면 함수(function/특정한 기능을 가진 단어)이라고 부름\n",
    "# () 소괄호에 들어간 내용은 인자값이라고 부름(변수가 아님)"
   ]
  },
  {
   "cell_type": "code",
   "execution_count": 14,
   "id": "cdc7ae01-491b-43a3-9cd7-4db3cc739069",
   "metadata": {},
   "outputs": [
    {
     "name": "stdout",
     "output_type": "stream",
     "text": [
      "<class 'int'>\n",
      "<class 'str'>\n"
     ]
    }
   ],
   "source": [
    "#자료의 타입이 중요한 이유\n",
    "print(type(1))\n",
    "print(type(\"1\"))\n",
    "#문법, 문장, 변수의 입력 방식에 따라 class 및 타입이 변경됨."
   ]
  },
  {
   "cell_type": "code",
   "execution_count": 24,
   "id": "a405e1f2-9da3-46e7-b8e5-1f02966dfa83",
   "metadata": {},
   "outputs": [
    {
     "name": "stdout",
     "output_type": "stream",
     "text": [
      "10\n",
      "-4\n",
      "21\n",
      "0.42857142857142855\n",
      "2.3333333333333335\n",
      "4\n",
      "2.5\n"
     ]
    }
   ],
   "source": [
    "# 4칙연산+우선연산 가능\n",
    "a = 3 #a라는 변수에 3이라는 인자값을 할당한다\n",
    "b = 7\n",
    "print(a+b)\n",
    "print(a-b)\n",
    "print(a*b)\n",
    "print(a/b)\n",
    "print(b/a)\n",
    "print(b-a)\n",
    "print(7*3/2-8)"
   ]
  },
  {
   "cell_type": "code",
   "execution_count": null,
   "id": "897d6483-119e-4292-a866-9ed490baf633",
   "metadata": {},
   "outputs": [],
   "source": [
    "print(15/7) # 나누기 연산자\n",
    "print(15//7) # //의 의미, 나눗셈 후 몫의 값을 정수로 찾아오는 연산자\n",
    "print(15 % 7) # %의미, 나머지 연산자\n",
    "print(2**3) # **의 의미, 밑의 값(2)을 지수(3)만큼 곱하는 연산자"
   ]
  },
  {
   "cell_type": "code",
   "execution_count": 23,
   "id": "d6fe0a31-281f-4aa5-8244-93204255d78f",
   "metadata": {},
   "outputs": [
    {
     "name": "stdout",
     "output_type": "stream",
     "text": [
      "<class 'str'> <class 'int'> <class 'float'> <class 'bool'>\n"
     ]
    }
   ],
   "source": [
    "str_data = \"Hello\" # 문자열 데이터\n",
    "int_data = 1 # 정수형 데이터\n",
    "float_data = 1.1 # 부동소수\n",
    "bool_data = True # 논리형 (true, False 구분) 데이터\n",
    "\n",
    "print(type(str_data), type(int_data), type(float_data), type(bool_data))"
   ]
  },
  {
   "cell_type": "code",
   "execution_count": 27,
   "id": "51c4967e-652d-4d71-8aba-1d82722247dc",
   "metadata": {},
   "outputs": [
    {
     "name": "stdout",
     "output_type": "stream",
     "text": [
      "30\n"
     ]
    }
   ],
   "source": [
    "digit1 = 10\n",
    "digit2 = 20\n",
    "name = \"orzl\"\n",
    "print(digit1 + digit2) # 동일한 자료형태의 경우 연산처리 가능\n",
    "# print(digit1 + name) 도일하지 않은 자료 형태의 경우 연산처리 불가"
   ]
  },
  {
   "cell_type": "code",
   "execution_count": 33,
   "id": "edfbf533-855e-42b3-a7e7-097faec49284",
   "metadata": {},
   "outputs": [
    {
     "name": "stdout",
     "output_type": "stream",
     "text": [
      "True\n",
      "False\n",
      "False\n",
      "True\n",
      "False\n",
      "True\n"
     ]
    }
   ],
   "source": [
    "num1 = 2\n",
    "num2 = 4\n",
    "\n",
    "print(num1 < num2)\n",
    "print(num1 > num2)\n",
    "print(num1 >= num2)\n",
    "print(num1 <= num2)\n",
    "print(num1 == num2) # ==은 동치의 의미, 주의사항 =는 할당, 배정의 의미라 활용 주의\n",
    "print(num1 != num2) # !의 의미, not을 의미함\n",
    "# run하여 나온 True, False의 값이 반환되었다고 표현함.\n",
    "# 추후 기저조건을 설정할때 활용"
   ]
  },
  {
   "cell_type": "code",
   "execution_count": null,
   "id": "6cbd6eda-2e20-497a-bfe1-d55f8c0d522b",
   "metadata": {},
   "outputs": [],
   "source": [
    "age = 30\n",
    "name = \"orzl\"\n",
    "weight = 53\n",
    "height = 161\n",
    "foot_size = 230\n",
    "glass = True\n",
    "marriage = True\n",
    "gender = \"female\"\n",
    "hobby = \"dance\""
   ]
  },
  {
   "cell_type": "code",
   "execution_count": 45,
   "id": "0a2b3731-42bd-47d4-a37c-e5659694739e",
   "metadata": {},
   "outputs": [
    {
     "name": "stdout",
     "output_type": "stream",
     "text": [
      "반지름 -  10\n",
      "지름 -  20\n",
      "둘레 -  62.800000000000004\n",
      "넓이 -  314.0\n",
      "1. 반지름 :  10\n",
      "2. 지름 :  20\n",
      "3. 둘레 :  62.830000000000005\n",
      "4. 넓이 :  314.15000000000003\n",
      "1. 반지름 :  10 , 2. 지름 :  20 , 3. 둘레 :  62.800000000000004 , 4. 넓이 :  314.0\n",
      "1.반지름 : 10\n",
      "1.반지름 : 10 ,  2.지름 : 20 ,  3.둘레 : 62.830000000000005 ,  4.넓이 : 314.15000000000003\n"
     ]
    }
   ],
   "source": [
    "### 반지름이 10인 변수를 선언하고, 해당 반지름을 기준으로 하는 지름, 둘레, 넓이 값을 변수로 선언 및 할당 후 출력\n",
    "\n",
    "r = 10 # 반지름\n",
    "\n",
    "a = 2*r\n",
    "b = 3.14*2*r\n",
    "c = 3.14*(r**2)\n",
    "print(\"반지름 - \",r)\n",
    "print(\"지름 - \",a)\n",
    "print(\"둘레 - \",b)\n",
    "print(\"넓이 - \",c)\n",
    "\n",
    "\n",
    "\n",
    "#answer\n",
    "radius = 10\n",
    "pi = 3.1415\n",
    "\n",
    "radius2 = radius*2\n",
    "radius3 = 2*pi*radius\n",
    "radius4 = pi*(radius**2)\n",
    "print(\"1. 반지름 : \",radius)\n",
    "print(\"2. 지름 : \",radius2)\n",
    "print(\"3. 둘레 : \",radius3)\n",
    "print(\"4. 넓이 : \",radius4)\n",
    "print(\"1. 반지름 : \",r,\",\", \"2. 지름 : \",a,\",\", \"3. 둘레 : \",b,\",\", \"4. 넓이 : \",c)\n",
    "\n",
    "print(f\"1.반지름 : {radius}\") #F-String문법 = Formatted String\n",
    "print(f\"1.반지름 : {radius}\",\", \",f\"2.지름 : {radius2}\",\", \",f\"3.둘레 : {radius3}\",\", \",f\"4.넓이 : {radius4}\")"
   ]
  },
  {
   "cell_type": "code",
   "execution_count": 63,
   "id": "d3d84e39-6c31-498b-bea3-7345d06ac9f6",
   "metadata": {},
   "outputs": [
    {
     "name": "stdin",
     "output_type": "stream",
     "text": [
      "what is your name? orzl\n",
      "where are you from? south korea\n",
      "man or woman? woman\n",
      "How old are you 30\n"
     ]
    },
    {
     "name": "stdout",
     "output_type": "stream",
     "text": [
      "<class 'int'>\n",
      "hi my name is orzl, I from south korea and woman, 30\n"
     ]
    }
   ],
   "source": [
    "#input\n",
    "name = input(\"what is your name?\")\n",
    "address = input(\"where are you from?\")\n",
    "gender = input(\"man or woman?\")\n",
    "age = input(\"How old are you\")\n",
    "\n",
    "print(type(int(age)))\n",
    "print(f\"hi my name is {name}, I from {address} and {gender}, {int(age)}\")\n"
   ]
  },
  {
   "cell_type": "code",
   "execution_count": 66,
   "id": "e81cf4fd-2497-4ae3-9364-06a3f0c85092",
   "metadata": {},
   "outputs": [
    {
     "name": "stdin",
     "output_type": "stream",
     "text": [
      " 10\n",
      " 10\n"
     ]
    },
    {
     "name": "stdout",
     "output_type": "stream",
     "text": [
      "100\n"
     ]
    }
   ],
   "source": [
    "#형변환(자료형 변환)\n",
    "#num1 = input()\n",
    "#num2 = input()\n",
    "#input값은 기본적으로 str으로 입력되기 때문에 multiply(곱셈) 희망시, int, float 등의 형태로 형변환이 필요\n",
    "num1 = int(input())\n",
    "num2 = int(input())\n",
    "print(num1*num2)"
   ]
  },
  {
   "cell_type": "code",
   "execution_count": 79,
   "id": "3eed4770-48ea-4a60-974c-a7914a5e9bc3",
   "metadata": {},
   "outputs": [
    {
     "name": "stdout",
     "output_type": "stream",
     "text": [
      "6.3\n",
      "6\n",
      "1 <class 'int'>\n",
      "1.0\n",
      "1 의 원래 타입은 <class 'int'> 이었으나 1 로 치환됨에 따라 <class 'str'> 로 변경되었습니다.\n",
      "1 의 원래 타입은 <class 'int'> 이었으나 1.0 로 치환됨에 따라 <class 'float'> 로 변경되었습니다.\n",
      "6.3 의 원래 타입은 <class 'float'> 이었으나 6 로 치환됨에 따라 <class 'int'> 로 변경되었습니다.\n"
     ]
    }
   ],
   "source": [
    "num3 = 6.3\n",
    "num4 = 1\n",
    "\n",
    "print(num3)\n",
    "print(int(num3))\n",
    "\n",
    "\n",
    "#부동소수를 int로 치환하는 순간 정수값만 출력됨\n",
    "\n",
    "print(num4, type(num4)) #아직 반환되기 전\n",
    "print(float(num4))\n",
    "num5 = float(num4)\n",
    "\n",
    "#print(num5, type(num5))\n",
    "#정수를 float으로 치환하는 순간 부동소수화된 값이 출력됨\n",
    "\n",
    "num6 = str(num4) #반환작업\n",
    "#print(num6, type(num6))\n",
    "#기본 정수값을 str으로 치환하면 겉보기엔 정수값처럼 보이나 type이 문자열로 변경됨\n",
    "\n",
    "num7 = int(num3)\n",
    "#num5, num6으로 type치환한 내용을 할당하는 방법도 있지만 num3, num4에 type치환한 내용을 재반환하는 방법도 있음\n",
    "#num3 = int(num3)\n",
    "#num4 = float(num4)\n",
    "#print(num3,\",\",type(num3))\n",
    "#print(num4,\",\",type(num4))\n",
    "print(num4,\"의 원래 타입은\",type(num4),\"이었으나\",num6,\"로 치환됨에 따라\",type(num6),\"로 변경되었습니다.\")\n",
    "print(num4,\"의 원래 타입은\",type(num4),\"이었으나\",num5,\"로 치환됨에 따라\",type(num5),\"로 변경되었습니다.\")\n",
    "print(num3,\"의 원래 타입은\",type(num3),\"이었으나\",num7,\"로 치환됨에 따라\",type(num7),\"로 변경되었습니다.\")"
   ]
  },
  {
   "cell_type": "code",
   "execution_count": 100,
   "id": "6c10a7f5-8391-4fa1-977c-bdc0690b0b78",
   "metadata": {},
   "outputs": [
    {
     "name": "stdout",
     "output_type": "stream",
     "text": [
      "성인이 된 기훈은 이혼한 뒤 대리운전 기사 등을 전전하다 백발의 노모에게 얹혀살고 있었고,\n",
      "하나뿐인 어린 딸 가영의 생일 선물을 살 돈도 어머니에게서 받아내는 비루한 인생을 살고 있었다.\n",
      "이혼 후 가영은 재혼한 전처가 키우고 있었지만, 기훈은 가영의 생일도 챙겨주지 않고\n",
      "어머니의 돈을 몰래 빼내서 경마 도박에 올인하는데 딸의 생일(6월 8일) 날짜를 이용해 베팅하며\n",
      "우여곡절 끝에 456만 원이라는 거금을 얻게 된다. [4]밖으로 나와 가영이와 전화 통화를 하며 즐거워하던 것도 잠시,\n",
      "자신을 찾아온 사채업자 김정래 대표 때문에 황급히 도망치다 누군가와 부딪히고 주머니에 있는 455만 원을 전부 소매치기당하고 만다.\n",
      "기훈은 이를 눈치챌 틈도 없이 도망치다 결국 사채업자들에게 붙잡혀 화장실에서 신체포기각서를 쓰게 된다. [5]\n",
      "어떻게든 만 원이라도 만들어서[6] 인형뽑기로 권총 라이터를 선물했다가[7] 황급히 가져간 뒤에 떡볶이를 사주지만,\n",
      "아버지 노릇도 제대로 못해준 나머지 그저 자괴감만 든다. 결국 \"내년 생일에는 더 잘 챙겨줄게.\"라며 애써 가영을\n",
      "위로하지만 가영이는 아무런 대답을 못하고 머뭇거린다.\n"
     ]
    }
   ],
   "source": [
    "# string : 문자열\n",
    "\n",
    "article1 = \"주인공 성기훈의 내레이션과 함께, 어릴 적 기훈이 동네 친구들과의 오징어 게임에서 이기는 장면을 보여준 후 타이틀이 등장하면서 시작한다.\"\n",
    "article2 = \"\"\"성인이 된 기훈은 이혼한 뒤 대리운전 기사 등을 전전하다 백발의 노모에게 얹혀살고 있었고,\n",
    "하나뿐인 어린 딸 가영의 생일 선물을 살 돈도 어머니에게서 받아내는 비루한 인생을 살고 있었다.\n",
    "이혼 후 가영은 재혼한 전처가 키우고 있었지만, 기훈은 가영의 생일도 챙겨주지 않고\n",
    "어머니의 돈을 몰래 빼내서 경마 도박에 올인하는데 딸의 생일(6월 8일) 날짜를 이용해 베팅하며\n",
    "우여곡절 끝에 456만 원이라는 거금을 얻게 된다. [4]밖으로 나와 가영이와 전화 통화를 하며 즐거워하던 것도 잠시,\n",
    "자신을 찾아온 사채업자 김정래 대표 때문에 황급히 도망치다 누군가와 부딪히고 주머니에 있는 455만 원을 전부 소매치기당하고 만다.\n",
    "기훈은 이를 눈치챌 틈도 없이 도망치다 결국 사채업자들에게 붙잡혀 화장실에서 신체포기각서를 쓰게 된다. [5]\n",
    "어떻게든 만 원이라도 만들어서[6] 인형뽑기로 권총 라이터를 선물했다가[7] 황급히 가져간 뒤에 떡볶이를 사주지만,\n",
    "아버지 노릇도 제대로 못해준 나머지 그저 자괴감만 든다. 결국 \"내년 생일에는 더 잘 챙겨줄게.\"라며 애써 가영을\n",
    "위로하지만 가영이는 아무런 대답을 못하고 머뭇거린다.\"\"\"\n",
    "\n",
    "# 의도하지 않은 개행처리가 많이 들어간 문장이 경우, \"\"\"를 삽입하여 자유롭게 변경할 수 있는 문장으로 변경할 수 있다\n",
    "\n",
    "print(article2)\n"
   ]
  },
  {
   "cell_type": "code",
   "execution_count": 101,
   "id": "77c00f13-14c2-4d42-a482-cf003c784d2b",
   "metadata": {},
   "outputs": [
    {
     "name": "stdout",
     "output_type": "stream",
     "text": [
      "6\n",
      "3\n",
      "567\n",
      "0\n",
      "1\n"
     ]
    }
   ],
   "source": [
    "# article2라는 변수를 선언했고, 해당 변수에 문자열 형태의 값을 할당\n",
    "# article2라는 변수에 문자열 형태의 값이 할당됨으로 인해, article2라는 변수는 문자열 객체라고 부를 수 있게 됨.\n",
    "# 객체는 어떤 타입의 객체이냐에 따라 사용할 수 있는 메서드 함수가 결정된다.\n",
    "# 함수의 형태 => 문자열()\n",
    "\n",
    "print(article2.count(\"가영\")) #article2 객체 안에 특정 문언가를 셀때 사용하는 메서드 함수(문자형 객체에서 사용)\n",
    "print(article2.count(\"기훈\"))\n",
    "print(len(article2))\n",
    "\n",
    "print(article2.find(\"성\")) #컴퓨터 언어는 binary language이기때문에 이분법적 사고를 적용하여 첫 시작점을 1이 아닌 0으로 봐야한다\n",
    "print(article2.find(\"인\")) #성이라는 문자열은 0번째 인덱스값을 가지며 인이라는 문자열은 1번째 인덱스값을 갖는다.\n",
    "\n",
    "# 동의보감 -> 동(0번째 인덱스), 의(1번째 인덱스), 보(2번째 인덱스), 감(3번째 인덱스) \n",
    "## 문자열의 전체 총개수 - 1 = 마지막 문자열의 인덱스값과 항상 동일"
   ]
  },
  {
   "cell_type": "code",
   "execution_count": 106,
   "id": "222f9a45-c465-454b-8bc4-cba4f931069c",
   "metadata": {},
   "outputs": [
    {
     "name": "stdout",
     "output_type": "stream",
     "text": [
      "Actor Brad Pitt's home in Los Angeles has been ransacked by a trio of thieves.\n",
      "\n",
      "Three suspects broke into the home in Los Feliz late on Wednesday through a front window and \"ransacked the location,\" according to the Los Angeles Police Department.\n",
      "\n",
      "Police did not confirm the home belonged to the Oscar-winning actor, but the address matched that of a home Mr Pitt purchased in 2023.\n",
      "0\n",
      "8\n",
      "Actor David home in Los Angeles has been ransacked by a trio of thieves.\n",
      "\n",
      "Three suspects broke into the home in Los Feliz late on Wednesday through a front window and \"ransacked the location,\" according to the Los Angeles Police Department.\n",
      "\n",
      "Police did not confirm the home belonged to the Oscar-winning actor, but the address matched that of a home Mr Pitt purchased in 2023.\n"
     ]
    }
   ],
   "source": [
    "article3 = \"\"\"Actor Brad Pitt's home in Los Angeles has been ransacked by a trio of thieves.\n",
    "\n",
    "Three suspects broke into the home in Los Feliz late on Wednesday through a front window and \"ransacked the location,\" according to the Los Angeles Police Department.\n",
    "\n",
    "Police did not confirm the home belonged to the Oscar-winning actor, but the address matched that of a home Mr Pitt purchased in 2023.\"\"\"\n",
    "print(article3)\n",
    "print(article3.find(\"A\"))\n",
    "print(article3.find(\"a\"))\n",
    "\n",
    "# 프로그래밍 언어는 영어의 대문자, 소문자는 꼭 구분함\n",
    "# 컴퓨터는 띄어쓰기도 하나의 문자열로 인식\n",
    "\n",
    "print(article3.replace(\"Brad Pitt's\", \"David\")) #replace는 인자값이 2개 필요"
   ]
  },
  {
   "cell_type": "code",
   "execution_count": 132,
   "id": "77cf7fb6-108b-4a90-b142-b162b895e11e",
   "metadata": {},
   "outputs": [
    {
     "name": "stdout",
     "output_type": "stream",
     "text": [
      "python\n",
      "0\n",
      "p\n",
      "h\n",
      "6\n",
      "n\n",
      "py\n",
      "th\n",
      "on\n",
      "o\n"
     ]
    }
   ],
   "source": [
    "# 파이썬>문자열>슬라이스 기능제공\n",
    "\n",
    "\n",
    "text01 = \"python\"\n",
    "print(text01)\n",
    "print(text01.find(\"p\"))\n",
    "print(text01[0])\n",
    "print(text01[3])\n",
    "print(len(text01))\n",
    "print(text01[len(text01)-1])\n",
    "\n",
    "print(text01[0:2])\n",
    "print(text01[2:4])\n",
    "print(text01[4:6])\n",
    "print(text01[-2])"
   ]
  },
  {
   "cell_type": "code",
   "execution_count": 144,
   "id": "e809ce02-a577-48b6-90c6-018dc3d8d046",
   "metadata": {},
   "outputs": [
    {
     "name": "stdout",
     "output_type": "stream",
     "text": [
      "14\n",
      "computer\n",
      "8\n",
      "David\n"
     ]
    }
   ],
   "source": [
    "#strip\n",
    "\n",
    "some_string = \"   computer   \"\n",
    "print(len(some_string))\n",
    "print(some_string.strip())\n",
    "\n",
    "some_string2 = some_string.strip()\n",
    "print(len(some_string2))\n",
    "\n",
    "some_string3 = \",,,David,,,\"\n",
    "print(some_string3.strip(\",\"))"
   ]
  },
  {
   "cell_type": "code",
   "execution_count": 158,
   "id": "50273771-2826-406d-b3ea-628017e933da",
   "metadata": {},
   "outputs": [
    {
     "name": "stdout",
     "output_type": "stream",
     "text": [
      "I have a pen. I have a apple, uh applepen\n",
      "I have a pen. I have a apple\n",
      "I have a apple. I have a pen\n",
      "I have a pen. I have a pen\n"
     ]
    }
   ],
   "source": [
    "var01 = \"pen\"\n",
    "var02 = \"apple\"\n",
    "var03 = \"pineapple\"\n",
    "print(f\"I have a {var01}. I have a {var02}, uh {var02}{var01}\")\n",
    "print(\"I have a {}. I have a {}\".format(\"pen\",\"apple\"))\n",
    "print(\"I have a {1}. I have a {0}\".format(\"pen\",\"apple\"))\n",
    "print(\"I have a {0}. I have a {0}\".format(\"pen\",\"apple\"))"
   ]
  },
  {
   "cell_type": "code",
   "execution_count": 166,
   "id": "5ec05fc4-60df-41f0-89ab-e6c977163f1d",
   "metadata": {},
   "outputs": [
    {
     "name": "stdout",
     "output_type": "stream",
     "text": [
      "0.90\n"
     ]
    }
   ],
   "source": [
    "interest = 0.897\n",
    "print(format(interest, \".2f\"))"
   ]
  },
  {
   "cell_type": "code",
   "execution_count": 175,
   "id": "fc425cf0-02a6-4d24-965e-4d70252efe82",
   "metadata": {},
   "outputs": [
    {
     "name": "stdout",
     "output_type": "stream",
     "text": [
      "I have a 1.375000, I have a apple.\n"
     ]
    }
   ],
   "source": [
    "print(\"I have a %f, I have a %s.\" % (1.375,\"apple\"))\n",
    "\n",
    "# %s : 문자열, %d/%i : 정수, %f : 부동소수"
   ]
  }
 ],
 "metadata": {
  "kernelspec": {
   "display_name": "Python [conda env:base] *",
   "language": "python",
   "name": "conda-base-py"
  },
  "language_info": {
   "codemirror_mode": {
    "name": "ipython",
    "version": 3
   },
   "file_extension": ".py",
   "mimetype": "text/x-python",
   "name": "python",
   "nbconvert_exporter": "python",
   "pygments_lexer": "ipython3",
   "version": "3.13.5"
  }
 },
 "nbformat": 4,
 "nbformat_minor": 5
}
