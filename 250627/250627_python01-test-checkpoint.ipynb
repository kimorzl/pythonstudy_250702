{
 "cells": [
  {
   "cell_type": "code",
   "execution_count": 11,
   "id": "5bf3aacc-a585-4ada-b147-99bfc3662a32",
   "metadata": {},
   "outputs": [
    {
     "name": "stdout",
     "output_type": "stream",
     "text": [
      "Hello World\n"
     ]
    }
   ],
   "source": [
    "# 셀 화면에 \"Hello World\"라는 문자열을 출력해 주세요.\n",
    "print(\"Hello World\")"
   ]
  },
  {
   "cell_type": "code",
   "execution_count": 23,
   "id": "80e7ffa0-99c8-481a-884b-7ad41015d69d",
   "metadata": {},
   "outputs": [
    {
     "name": "stdout",
     "output_type": "stream",
     "text": [
      "3.1\n"
     ]
    }
   ],
   "source": [
    "# 부동소수값 3.1415의 값을 출력하세요. (*단, 소수점 첫번째 자리까지만 출력해주세요.)\n",
    "a = 3.1415\n",
    "print(format(a,\".1f\")) #다시 한번 더 체크하기"
   ]
  },
  {
   "cell_type": "code",
   "execution_count": 10,
   "id": "d4d2aaeb-c385-45b1-989f-b192355f5977",
   "metadata": {},
   "outputs": [
    {
     "name": "stdout",
     "output_type": "stream",
     "text": [
      "720 <class 'str'>\n",
      "720 <class 'int'>\n"
     ]
    }
   ],
   "source": [
    "# 문자열 \"720\"을 정수형의 형태값으로 형변환 후 출력하세요.\n",
    "num = \"720\"\n",
    "print(num, type(num))\n",
    "num1 = int(num)\n",
    "print(num1, type(num1))"
   ]
  },
  {
   "cell_type": "code",
   "execution_count": 18,
   "id": "d829f320-4713-4fd4-982c-ec4df21faa5e",
   "metadata": {},
   "outputs": [
    {
     "name": "stdout",
     "output_type": "stream",
     "text": [
      "36\n"
     ]
    }
   ],
   "source": [
    "# 밑이 6이고, 지수가 2인 거듭제곱의 값을 출력하세요.\n",
    "under = 6\n",
    "upper = 2\n",
    "total = under**upper\n",
    "print(total)"
   ]
  },
  {
   "cell_type": "code",
   "execution_count": 22,
   "id": "6438a738-f08f-47a0-bdbc-38cfdd6ab6dc",
   "metadata": {},
   "outputs": [
    {
     "name": "stdin",
     "output_type": "stream",
     "text": [
      "please input num :  3\n",
      "please input num :  7\n"
     ]
    },
    {
     "name": "stdout",
     "output_type": "stream",
     "text": [
      "입력 받은 두 숫자의 합은 : 10\n",
      "결과값:10\n"
     ]
    }
   ],
   "source": [
    "# 사용자로부터 2개의 숫자를 입력받은 후 해당 숫자들을 더한 값을 출력하세요(*output:결과값)\n",
    "k = int(input(\"please input num : \"))\n",
    "i = int(input(\"please input num : \"))\n",
    "m = k+i\n",
    "print(\"입력 받은 두 숫자의 합은 :\",m)\n",
    "print(f\"결과값:{m}\")"
   ]
  },
  {
   "cell_type": "code",
   "execution_count": null,
   "id": "cecaed0e-45db-487d-9eb7-33cf51461819",
   "metadata": {},
   "outputs": [],
   "source": []
  }
 ],
 "metadata": {
  "kernelspec": {
   "display_name": "Python [conda env:base] *",
   "language": "python",
   "name": "conda-base-py"
  },
  "language_info": {
   "codemirror_mode": {
    "name": "ipython",
    "version": 3
   },
   "file_extension": ".py",
   "mimetype": "text/x-python",
   "name": "python",
   "nbconvert_exporter": "python",
   "pygments_lexer": "ipython3",
   "version": "3.13.5"
  }
 },
 "nbformat": 4,
 "nbformat_minor": 5
}
