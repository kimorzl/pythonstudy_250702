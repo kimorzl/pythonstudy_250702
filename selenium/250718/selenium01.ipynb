{
 "cells": [
  {
   "cell_type": "markdown",
   "id": "61240dae-0497-4dba-8d97-e2e1d941a6ee",
   "metadata": {},
   "source": [
    "#### 기본이론\n",
    "1. 셀레니움?\n",
    "   - 파이썬을 활용해 크롤링해오고자 할 때 사용할 수 있는 도구로 Framework 중 하나\n",
    "  \n",
    "   - 셀레니움 사용하는 이유\n",
    "     * 최근 웹 사이트들이 SPA(Single Page Application)방식으로 구현\n",
    "       -> 기존 requests, BS4 방식으로 크롤링 안되는 경우 빈번\n",
    "     * 셀레니움 사용시, 직접 엡 브라우저 통제 및 관리 가능\n",
    "       -> 실제 사람이 접속해 사이트를 보고 있는 것인지 아니면 크롤링을 통한 사이트 확인인지 인지 못하도록 조치\n",
    "     * 동적 사이트의 정보값 찾아오는데 효율적\n",
    "       -> 크롤링을 하는데 일정시간 지연값 적용, 자바스크립트 내 특정 구문 찾아와 크롤링을 하는 등의 기능 제공\n",
    "\n",
    "    - 셀레니움 설치하는 방법\n",
    "     * !pip install selenium webdriver-manager\n",
    "       -> 셀레니움이 브라우저 통제하기 위해서 브라우저가 사용중인 웹드라이브 통제가 가능해야함\n",
    "       -> 웹드라이버 매니저 설치 필요\n",
    "\n",
    "    - 찾고싶은 요소를 찾을때\n",
    "      * find_element(By.TAG_NAME, 태그이름)\n",
    "        - 문서 내 상단부터 값을 찾기 시작하다 최초로 값이 찾아지게 되면 찾는 기능을 멈춘 후, 찾은 요소를 반환\n",
    "      * find elements(By.TAG_NAME, 태그이름)\n",
    "        - 문서 내 검색된 모든 값을 리스트 형태로 반환\n",
    "      * fine element(By.ID\n",
    "      * fine element(By.CSS_SELECTOR)\n",
    "\n",
    "  양식 : selenium.webdriver.chrome.service #셀레니움기능을 통해 크롬 서비스 정보를 쓸거야\n",
    "\n",
    "2. library vs Framework\n",
    "    - 라이브러리 : 특정 언어 문법 토대로 그 안에서 라이브러리만의 기능을 사용할 수 있도록 도와주는 도구\n",
    "      ex. requests, bs4 등\n",
    "    - 프레임워크 : 특정 언어의 문법안에서 자신들만의 독창적 문법을 새롭게 창조하여 그 문법을 사용해야만 사용할 수 있는 도구\n",
    "      ex. "
   ]
  },
  {
   "cell_type": "code",
   "execution_count": 2,
   "id": "e827263c-9ed8-40f9-b183-19583c2b6de3",
   "metadata": {},
   "outputs": [
    {
     "name": "stdout",
     "output_type": "stream",
     "text": [
      "Defaulting to user installation because normal site-packages is not writeable\n",
      "Requirement already satisfied: selenium in c:\\users\\user\\appdata\\roaming\\python\\python313\\site-packages (4.34.2)\n",
      "Collecting webdriver-manager\n",
      "  Downloading webdriver_manager-4.0.2-py2.py3-none-any.whl.metadata (12 kB)\n",
      "Requirement already satisfied: urllib3~=2.5.0 in c:\\users\\user\\appdata\\roaming\\python\\python313\\site-packages (from urllib3[socks]~=2.5.0->selenium) (2.5.0)\n",
      "Requirement already satisfied: trio~=0.30.0 in c:\\users\\user\\appdata\\roaming\\python\\python313\\site-packages (from selenium) (0.30.0)\n",
      "Requirement already satisfied: trio-websocket~=0.12.2 in c:\\users\\user\\appdata\\roaming\\python\\python313\\site-packages (from selenium) (0.12.2)\n",
      "Requirement already satisfied: certifi>=2025.6.15 in c:\\programdata\\anaconda3\\lib\\site-packages (from selenium) (2025.6.15)\n",
      "Requirement already satisfied: typing_extensions~=4.14.0 in c:\\users\\user\\appdata\\roaming\\python\\python313\\site-packages (from selenium) (4.14.1)\n",
      "Requirement already satisfied: websocket-client~=1.8.0 in c:\\programdata\\anaconda3\\lib\\site-packages (from selenium) (1.8.0)\n",
      "Requirement already satisfied: attrs>=23.2.0 in c:\\programdata\\anaconda3\\lib\\site-packages (from trio~=0.30.0->selenium) (24.3.0)\n",
      "Requirement already satisfied: sortedcontainers in c:\\programdata\\anaconda3\\lib\\site-packages (from trio~=0.30.0->selenium) (2.4.0)\n",
      "Requirement already satisfied: idna in c:\\programdata\\anaconda3\\lib\\site-packages (from trio~=0.30.0->selenium) (3.7)\n",
      "Requirement already satisfied: outcome in c:\\users\\user\\appdata\\roaming\\python\\python313\\site-packages (from trio~=0.30.0->selenium) (1.3.0.post0)\n",
      "Requirement already satisfied: sniffio>=1.3.0 in c:\\programdata\\anaconda3\\lib\\site-packages (from trio~=0.30.0->selenium) (1.3.0)\n",
      "Requirement already satisfied: cffi>=1.14 in c:\\programdata\\anaconda3\\lib\\site-packages (from trio~=0.30.0->selenium) (1.17.1)\n",
      "Requirement already satisfied: wsproto>=0.14 in c:\\users\\user\\appdata\\roaming\\python\\python313\\site-packages (from trio-websocket~=0.12.2->selenium) (1.2.0)\n",
      "Requirement already satisfied: pysocks!=1.5.7,<2.0,>=1.5.6 in c:\\programdata\\anaconda3\\lib\\site-packages (from urllib3[socks]~=2.5.0->selenium) (1.7.1)\n",
      "Requirement already satisfied: requests in c:\\programdata\\anaconda3\\lib\\site-packages (from webdriver-manager) (2.32.3)\n",
      "Requirement already satisfied: python-dotenv in c:\\programdata\\anaconda3\\lib\\site-packages (from webdriver-manager) (1.1.0)\n",
      "Requirement already satisfied: packaging in c:\\programdata\\anaconda3\\lib\\site-packages (from webdriver-manager) (24.2)\n",
      "Requirement already satisfied: pycparser in c:\\programdata\\anaconda3\\lib\\site-packages (from cffi>=1.14->trio~=0.30.0->selenium) (2.21)\n",
      "Requirement already satisfied: h11<1,>=0.9.0 in c:\\programdata\\anaconda3\\lib\\site-packages (from wsproto>=0.14->trio-websocket~=0.12.2->selenium) (0.16.0)\n",
      "Requirement already satisfied: charset-normalizer<4,>=2 in c:\\programdata\\anaconda3\\lib\\site-packages (from requests->webdriver-manager) (3.3.2)\n",
      "Downloading webdriver_manager-4.0.2-py2.py3-none-any.whl (27 kB)\n",
      "Installing collected packages: webdriver-manager\n",
      "Successfully installed webdriver-manager-4.0.2\n",
      "Note: you may need to restart the kernel to use updated packages.\n"
     ]
    }
   ],
   "source": [
    "pip install selenium webdriver-manager"
   ]
  },
  {
   "cell_type": "code",
   "execution_count": 10,
   "id": "c99885da-491f-4dfb-8bfd-54c492e7fffb",
   "metadata": {},
   "outputs": [
    {
     "name": "stdout",
     "output_type": "stream",
     "text": [
      "Teddy의 선물 블로그\n"
     ]
    }
   ],
   "source": [
    "# import selenium #셀레니움 lib 불러오기\n",
    "#해당 드라이버를 셀레니움이 통제, 관리할 수 있도록 설정\n",
    "from selenium import webdriver #중간 관리자 = # 브라우저들은 모두 저마다의 웹 브라우저 드라이버 존재\n",
    "                                #webdriver는 셀레니움이 브라우저를 통제, 관리 할 수 있도록 도와주는 객체 역할\n",
    "from selenium.webdriver.chrome.service import Service  #Service는 webdriver를 통해 설정해야하는 서비스의 값을 정의할 수 있도록 해주는 프로토타입 객체\n",
    "from selenium.webdriver.common.by import By\n",
    "from webdriver_manager.chrome import ChromeDriverManager \n",
    "#ChromeDriverManager는 서비스 값을 실제 정의할 때 필요한 함수의 역할\n",
    "import time #크롤링하는 시간과 페이지 데이터 읽어오는 시간 사이에 데이터 로딩 타임 차이를 조정하기 위함\n",
    "\n",
    "service = Service(ChromeDriverManager().install())\n",
    "driver = webdriver.Chrome(service=service)\n",
    "\n",
    "driver.get(\"https://davelee-fun.github.io/\") #driver에 들어있는 데이터를 가져온다.\n",
    "\n",
    "# print(driver.title)\n",
    "# print(driver.current_url)\n",
    "#assert \"Teddy의 선물 블로그\" in driver.title #최초 데이터 통신 여부 확인을 위한 것, 셀레니움을 통해 어떤 사이트 크롤링 할때, 기본적으로 찾아온 데이터에 이 값이 있다고 단언하는것, error가 뜨면 없는 것으로 코드 수정 필요\n",
    "\n",
    "element = driver.find_element(By.TAG_NAME, \"h1\") #태그 형식의 데이터를 불러옴\n",
    "print(element.text) #알기 쉬운 텍스트 형식의 데이터를 불러옴\n",
    "\n",
    "time.sleep(1)\n",
    "\n",
    "driver.quit() #사람인것처럼 행동하게 만드는 것이라 행동을 끝내주지 않으면 서버에서 크롤링 한다고 생각해 후속조치 들어올 수 있음"
   ]
  },
  {
   "cell_type": "code",
   "execution_count": 15,
   "id": "0a5440f5-b473-4c32-8671-fbee46bf3b2c",
   "metadata": {},
   "outputs": [
    {
     "name": "stdout",
     "output_type": "stream",
     "text": [
      "1 .  보몽드 순면스퀘어 솔리드 누빔매트커버, 다크블루\n",
      "2 .  슈에뜨룸 선인장 리플 침구 세트, 베이지\n",
      "3 .  선우랜드 레인보우 2단 문걸이용 옷걸이 _중형, 화이트, 상세페이지참조\n",
      "4 .  보드래 헬로우 누빔 매트리스커버, 핑크\n",
      "5 .  보드래 퍼펙트 누빔 매트리스커버, 차콜\n",
      "6 .  피아블 클래식 방수 매트리스커버, 화이트\n",
      "7 .  더자리 에코항균 마이크로 매트리스커버, 밀키차콜그레이\n",
      "8 .  더자리 프레쉬 퓨어 매트리스 커버, 퓨어 차콜그레이\n",
      "9 .  몽쉐어 알러스킨 항균 매트리스 커버, 카키그레이\n",
      "10 .  쿠팡 브랜드 - 코멧 홈 40수 트윌 순면 100% 홑겹 매트리스커버, 그레이\n",
      "11 .  패브릭아트 항균 마이크로 원단 매트리스 커버, 아이보리\n",
      "12 .  바숨 순면 누빔 침대 매트리스커버, 차콜\n",
      "13 .  WEMAX 다용도 문옷걸이, 화이트, 1개\n",
      "14 .  타카타카 프리미엄 나노 화이바 누빔 매트리스 커버, 젠틀핑핑\n",
      "15 .  보몽드 순면스퀘어 누빔매트커버, 다크그레이\n",
      "16 .  보드래 국내산 순면 60수 누빔 매트리스커버, 그레이\n"
     ]
    }
   ],
   "source": [
    "from selenium import webdriver \n",
    "from selenium.webdriver.chrome.service import Service \n",
    "from selenium.webdriver.common.by import By\n",
    "from webdriver_manager.chrome import ChromeDriverManager \n",
    "\n",
    "import time \n",
    "\n",
    "service = Service(ChromeDriverManager().install())\n",
    "driver = webdriver.Chrome(service=service)\n",
    "\n",
    "driver.get(\"https://davelee-fun.github.io/\") \n",
    "\n",
    "#\n",
    "elements = driver.find_elements(By.TAG_NAME, \"h4\") \n",
    "num = 0\n",
    "for element in elements:\n",
    "    num+=1\n",
    "    print(num,\".\",element.text.split(\":\")[1])       \n",
    "\n",
    "time.sleep(1)\n",
    "\n",
    "driver.quit()"
   ]
  },
  {
   "cell_type": "code",
   "execution_count": 17,
   "id": "59108fc6-66ff-4e15-845f-8f73095984c0",
   "metadata": {},
   "outputs": [
    {
     "name": "stdout",
     "output_type": "stream",
     "text": [
      "\n"
     ]
    }
   ],
   "source": [
    "from selenium import webdriver \n",
    "from selenium.webdriver.chrome.service import Service \n",
    "from selenium.webdriver.common.by import By\n",
    "from webdriver_manager.chrome import ChromeDriverManager \n",
    "import time \n",
    "\n",
    "service = Service(ChromeDriverManager().install())\n",
    "driver = webdriver.Chrome(service=service)\n",
    "\n",
    "driver.get(\"https://davelee-fun.github.io/\") \n",
    "\n",
    "#\n",
    "elements = driver.find_elements(By.ID, \"navbarMediumish\")\n",
    "for element in elements:\n",
    "    print(element.text)\n",
    "\n",
    "time.sleep(1)\n",
    "\n",
    "driver.quit()"
   ]
  }
 ],
 "metadata": {
  "kernelspec": {
   "display_name": "Python [conda env:base] *",
   "language": "python",
   "name": "conda-base-py"
  },
  "language_info": {
   "codemirror_mode": {
    "name": "ipython",
    "version": 3
   },
   "file_extension": ".py",
   "mimetype": "text/x-python",
   "name": "python",
   "nbconvert_exporter": "python",
   "pygments_lexer": "ipython3",
   "version": "3.13.5"
  }
 },
 "nbformat": 4,
 "nbformat_minor": 5
}
