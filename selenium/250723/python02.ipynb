{
 "cells": [
  {
   "cell_type": "code",
   "execution_count": 4,
   "id": "7e43315a-d850-4d1a-95cd-093f56583cca",
   "metadata": {},
   "outputs": [
    {
     "name": "stdout",
     "output_type": "stream",
     "text": [
      "Teddy의 선물 블로그\n"
     ]
    }
   ],
   "source": [
    "from selenium import webdriver\n",
    "from selenium.webdriver.chrome.service import Service\n",
    "from selenium.webdriver.common.by import By \n",
    "from webdriver_manager.chrome import ChromeDriverManager \n",
    "from selenium.webdriver.common.keys import Keys\n",
    "from selenium.webdriver.chrome.options import Options\n",
    "import time \n",
    "import pyautogui\n",
    "\n",
    "service = Service(ChromeDriverManager().install())\n",
    "options = Options()\n",
    "#options.add_argument(\"headless\") #사이트에서 막는 경우도 있음\n",
    "options.add_argument(\"window-size=1920x1080\")\n",
    "options.add_argument(\"--disable-gpu\") \n",
    "options.add_argument(\"Mozilla/5.0 (Windows NT 10.0; Win64; x64) AppleWebKit/537.36 (KHTML, like Gecko) Chrome/138.0.0.0 Safari/537.36\")\n",
    "options.add_argument(\"lang=ko_KR\") #우리가 만든 문서는 한국어다\n",
    "driver = webdriver.Chrome(service=service, options=options)\n",
    "driver.get(\"https://davelee-fun.github.io/\")\n",
    "\n",
    "element = driver.find_element(By.TAG_NAME, \"h1\")\n",
    "print(element.text)\n",
    "\n",
    "time.sleep(3)\n",
    "\n",
    "driver.quit()"
   ]
  },
  {
   "cell_type": "code",
   "execution_count": 15,
   "id": "d4be2323-1f2e-4bbf-9c31-44792732defa",
   "metadata": {},
   "outputs": [
    {
     "name": "stdout",
     "output_type": "stream",
     "text": [
      "(초급) - 강사가 실제 사용하는 자동 프로그램 소개 [2]\n",
      "(초급) - 필요한 프로그램 설치 시연 [5]\n",
      "(초급) - 데이터를 엑셀 파일로 만들기 [9]\n",
      "(초급) -     엑셀 파일 이쁘게! 이쁘게! [8]\n",
      "(초급) -     나대신 주기적으로 파이썬 프로그램 실행하기 [7]\n",
      "(초급) - 파이썬으로 슬랙(slack) 메신저에 글쓰기 [40]\n",
      "(초급) - 웹사이트 변경사항 주기적으로 체크해서, 메신저로 알람주기 [12]\n",
      "(초급) - 네이버 API 사용해서, 블로그에 글쓰기 [42]\n",
      "(중급) - 자동으로 쿠팡파트너스 API 로 가져온 상품 정보, 네이버 블로그/트위터에 홍보하기 [412]\n"
     ]
    }
   ],
   "source": [
    "# 웹사이트에 접속한 후, selenium을 활용해 크롤링 해오기\n",
    "# https://crawlingtest.netlify.app/\n",
    "# 부모요소 id 속성값 = dev_course_list인 자식요서의 class가 course인 데이터만 출력해주세요.\n",
    "\n",
    "from selenium import webdriver\n",
    "from selenium.webdriver.chrome.service import Service\n",
    "from selenium.webdriver.common.by import By \n",
    "from webdriver_manager.chrome import ChromeDriverManager \n",
    "from selenium.webdriver.common.keys import Keys\n",
    "from selenium.webdriver.chrome.options import Options\n",
    "import time \n",
    "import pyautogui\n",
    "\n",
    "service = Service(ChromeDriverManager().install())\n",
    "options = Options()\n",
    "#options.add_argument(\"headless\") #사이트에서 막는 경우도 있음\n",
    "options.add_argument(\"window-size=1920x1080\")\n",
    "options.add_argument(\"--disable-gpu\") \n",
    "options.add_argument(\"Mozilla/5.0 (Windows NT 10.0; Win64; x64) AppleWebKit/537.36 (KHTML, like Gecko) Chrome/138.0.0.0 Safari/537.36\")\n",
    "options.add_argument(\"lang=ko_KR\") #우리가 만든 문서는 한국어다\n",
    "driver = webdriver.Chrome(service=service, options=options)\n",
    "driver.get(\"https://crawlingtest.netlify.app/\")\n",
    "\n",
    "elements = driver.find_elements(By.CSS_SELECTOR, \"ul#dev_course_list > li.course\")\n",
    "for element in elements:\n",
    "    print(element.text)\n",
    "\n",
    "time.sleep(3)\n",
    "\n",
    "driver.quit()"
   ]
  },
  {
   "cell_type": "code",
   "execution_count": 22,
   "id": "5e1ca21f-95f0-4f55-8726-0a41f439247d",
   "metadata": {},
   "outputs": [
    {
     "name": "stdout",
     "output_type": "stream",
     "text": [
      "일정 커리큘럼 타이틀 난이도\n",
      "5.1 ~ 6.15 나만의 엣지있는 블로그 사이트 만들기 (취미로 익히는 IT) 초급\n",
      "6.16 ~ 7.31 파이썬과 데이터과학 첫걸음 (IT 기본기 익히기) 중급\n"
     ]
    }
   ],
   "source": [
    "# https://crawlingtest.netlify.app/에서 접속하여 크롤링 준비\n",
    "# 커리큘럼 일정에 해당하는 모든 데이터를 가져오기\n",
    "\n",
    "from selenium import webdriver\n",
    "from selenium.webdriver.chrome.service import Service\n",
    "from selenium.webdriver.common.by import By \n",
    "from webdriver_manager.chrome import ChromeDriverManager \n",
    "from selenium.webdriver.common.keys import Keys\n",
    "from selenium.webdriver.chrome.options import Options\n",
    "import time \n",
    "import pyautogui\n",
    "\n",
    "service = Service(ChromeDriverManager().install())\n",
    "options = Options()\n",
    "options.add_argument(\"headless\") #사이트에서 막는 경우도 있음\n",
    "options.add_argument(\"window-size=1920x1080\")\n",
    "options.add_argument(\"--disable-gpu\") \n",
    "options.add_argument(\"lang=ko_KR\") #우리가 만든 문서는 한국어다\n",
    "driver = webdriver.Chrome(service=service, options=options)\n",
    "driver.get(\"https://crawlingtest.netlify.app/\")\n",
    "\n",
    "elements = driver.find_elements(By.TAG_NAME, \"tr\")\n",
    "for element in elements:\n",
    "    print(element.text)\n",
    "\n",
    "time.sleep(3)\n",
    "\n",
    "driver.quit()\n"
   ]
  },
  {
   "cell_type": "code",
   "execution_count": 23,
   "id": "5ac5f211-461a-463b-b0a4-e67687becd64",
   "metadata": {},
   "outputs": [
    {
     "name": "stdout",
     "output_type": "stream",
     "text": [
      "일정\n",
      "커리큘럼 타이틀\n",
      "난이도\n",
      "5.1 ~ 6.15\n",
      "나만의 엣지있는 블로그 사이트 만들기 (취미로 익히는 IT)\n",
      "초급\n",
      "6.16 ~ 7.31\n",
      "파이썬과 데이터과학 첫걸음 (IT 기본기 익히기)\n",
      "중급\n"
     ]
    }
   ],
   "source": [
    "#table을 만들기 위한 구성요소 > thead, tbody, footer\n",
    "#컨텐츠는 tbody안에 있으면 tr (행) td (열)로 이루어져있음\n",
    "\n",
    "from selenium import webdriver\n",
    "from selenium.webdriver.chrome.service import Service\n",
    "from selenium.webdriver.common.by import By \n",
    "from webdriver_manager.chrome import ChromeDriverManager \n",
    "from selenium.webdriver.common.keys import Keys\n",
    "from selenium.webdriver.chrome.options import Options\n",
    "import time \n",
    "import pyautogui\n",
    "\n",
    "service = Service(ChromeDriverManager().install())\n",
    "options = Options()\n",
    "#options.add_argument(\"headless\") #사이트에서 막는 경우도 있음\n",
    "options.add_argument(\"window-size=1920x1080\")\n",
    "options.add_argument(\"--disable-gpu\") \n",
    "options.add_argument(\"Mozilla/5.0 (Windows NT 10.0; Win64; x64) AppleWebKit/537.36 (KHTML, like Gecko) Chrome/138.0.0.0 Safari/537.36\")\n",
    "options.add_argument(\"lang=ko_KR\") #우리가 만든 문서는 한국어다\n",
    "driver = webdriver.Chrome(service=service, options=options)\n",
    "driver.get(\"https://crawlingtest.netlify.app/\")\n",
    "\n",
    "elements = driver.find_elements(By.CSS_SELECTOR, \"table tr td\")\n",
    "for element in elements:\n",
    "    print(element.text)\n",
    "\n",
    "time.sleep(3)\n",
    "\n",
    "driver.quit()"
   ]
  },
  {
   "cell_type": "code",
   "execution_count": 33,
   "id": "5f8e441e-5f7d-456a-9107-b0a7df69d3b4",
   "metadata": {},
   "outputs": [
    {
     "name": "stdout",
     "output_type": "stream",
     "text": [
      "(중급) - 자동으로 쿠팡파트너스 API 로 가져온 상품 정보, 네이버 블로그/트위터에 홍보하기 [412]\n"
     ]
    }
   ],
   "source": [
    "# 같은 페이지에서 (중급) - 자동으로 쿠팡파트너스 ~ 트위터에 홍보하기 [412]만 추출\n",
    "from selenium import webdriver\n",
    "from selenium.webdriver.chrome.service import Service\n",
    "from selenium.webdriver.common.by import By \n",
    "from webdriver_manager.chrome import ChromeDriverManager \n",
    "from selenium.webdriver.common.keys import Keys\n",
    "from selenium.webdriver.chrome.options import Options\n",
    "from bs4 import BeautifulSoup\n",
    "import time \n",
    "import pyautogui\n",
    "\n",
    "service = Service(ChromeDriverManager().install())\n",
    "options = Options()\n",
    "#options.add_argument(\"headless\") #사이트에서 막는 경우도 있음\n",
    "options.add_argument(\"window-size=1920x1080\")\n",
    "options.add_argument(\"--disable-gpu\") \n",
    "options.add_argument(\"Mozilla/5.0 (Windows NT 10.0; Win64; x64) AppleWebKit/537.36 (KHTML, like Gecko) Chrome/138.0.0.0 Safari/537.36\")\n",
    "options.add_argument(\"lang=ko_KR\") #우리가 만든 문서는 한국어다\n",
    "driver = webdriver.Chrome(service=service, options=options)\n",
    "driver.get(\"https://crawlingtest.netlify.app/\")\n",
    "\n",
    "elements = driver.find_elements(By.CSS_SELECTOR, \"ul#dev_course_list > li.course\")\n",
    "\n",
    "# for element in elements:\n",
    "#     element_list = [element.text]\n",
    "# print(element_list[-1])\n",
    "print(elements[8].text)\n",
    "\n",
    "time.sleep(3)\n",
    "\n",
    "driver.quit()"
   ]
  },
  {
   "cell_type": "code",
   "execution_count": 36,
   "id": "64e53565-108c-4b8b-befa-c97ea5b7b6e1",
   "metadata": {},
   "outputs": [
    {
     "name": "stdout",
     "output_type": "stream",
     "text": [
      "뉴스: 머신러닝 강좌가 나왔어요~~~\n"
     ]
    }
   ],
   "source": [
    "from selenium import webdriver\n",
    "from selenium.webdriver.chrome.service import Service\n",
    "from selenium.webdriver.common.by import By \n",
    "from webdriver_manager.chrome import ChromeDriverManager \n",
    "from selenium.webdriver.common.keys import Keys\n",
    "from selenium.webdriver.chrome.options import Options\n",
    "from bs4 import BeautifulSoup\n",
    "import time \n",
    "import pyautogui\n",
    "\n",
    "service = Service(ChromeDriverManager().install())\n",
    "options = Options()\n",
    "#options.add_argument(\"headless\") #사이트에서 막는 경우도 있음\n",
    "options.add_argument(\"window-size=1920x1080\")\n",
    "options.add_argument(\"--disable-gpu\") \n",
    "options.add_argument(\"Mozilla/5.0 (Windows NT 10.0; Win64; x64) AppleWebKit/537.36 (KHTML, like Gecko) Chrome/138.0.0.0 Safari/537.36\")\n",
    "options.add_argument(\"lang=ko_KR\") #우리가 만든 문서는 한국어다\n",
    "driver = webdriver.Chrome(service=service, options=options)\n",
    "driver.get(\"https://divjason.github.io/sellenium-test/index.html?\")\n",
    "\n",
    "element = driver.find_element(By.CSS_SELECTOR, \"span.news\")\n",
    "\n",
    "print(element.text)\n",
    "\n",
    "time.sleep(3)\n",
    "\n",
    "driver.quit()"
   ]
  },
  {
   "cell_type": "code",
   "execution_count": 41,
   "id": "3293d6b8-db56-4125-be6a-29935a48b43a",
   "metadata": {},
   "outputs": [],
   "source": [
    "from selenium import webdriver\n",
    "from selenium.webdriver.chrome.service import Service\n",
    "from selenium.webdriver.common.by import By \n",
    "from webdriver_manager.chrome import ChromeDriverManager \n",
    "from selenium.webdriver.common.keys import Keys\n",
    "from selenium.webdriver.chrome.options import Options\n",
    "from bs4 import BeautifulSoup\n",
    "import time \n",
    "import pyautogui\n",
    "\n",
    "service = Service(ChromeDriverManager().install())\n",
    "options = Options()\n",
    "#options.add_argument(\"headless\") #사이트에서 막는 경우도 있음\n",
    "options.add_argument(\"window-size=1920x1080\")\n",
    "options.add_argument(\"--disable-gpu\") \n",
    "options.add_argument(\"--User-agent=Mozilla/5.0 (Windows NT 10.0; Win64; x64) AppleWebKit/537.36 (KHTML, like Gecko) Chrome/138.0.0.0 Safari/537.36\")\n",
    "options.add_argument(\"lang=ko_KR\") #우리가 만든 문서는 한국어다\n",
    "driver = webdriver.Chrome(service=service, options=options)\n",
    "driver.get(\"https://divjason.github.io/sellenium-test/index.html?\")\n",
    "\n",
    "\n",
    "element = driver.find_element(By.ID, \"username\") #ID는 한개씩만 부여될 수 있는 고유 값, 단 체크박스같은 다중정보를 받는 경우는 같은 항목 내 다중 배정될 수 있음 \n",
    "element.clear()\n",
    "element.send_keys(\"error@error.com\")\n",
    "element = driver.find_element(By.ID, \"password\") #ID는 한개씩만 부여될 수 있는 고유 값, 단 체크박스같은 다중정보를 받는 경우는 같은 항목 내 다중 배정될 수 있음 \n",
    "element.clear()\n",
    "element.send_keys(\"12345\")\n",
    "\n",
    "\n",
    "time.sleep(5)\n",
    "#버튼을 엔터가 아닌 버튼 클릭을 막는 경우도 있음, event로 GA4를 통해 클릭률 수집하기 위함\n",
    "#element.send_keys(Keys.RETURN)\n",
    "element = driver.find_element(By.CSS_SELECTOR, \"input[type='submit']\") #CSS선택자 내에서 속성을 찾아올때 쓰는 문법\n",
    "element.click()\n",
    "\n",
    "time.sleep(5)\n",
    "\n",
    "driver.quit()"
   ]
  },
  {
   "cell_type": "code",
   "execution_count": 53,
   "id": "a0bcae04-4f9a-404d-a913-c753fa2b3a47",
   "metadata": {},
   "outputs": [
    {
     "name": "stdout",
     "output_type": "stream",
     "text": [
      "실제 사이트는 https://megaitlab.com/ 입니다\n",
      "본 페이지는 로그인된 페이지입니다!\n",
      "뉴스: 머신러닝 강좌가 나왔어요~~~\n",
      "실제 사이트는 https://megaitlab.com/ 입니다\n",
      "뉴스: 머신러닝 강좌가 나왔어요~~~\n"
     ]
    }
   ],
   "source": [
    "from selenium import webdriver\n",
    "from selenium.webdriver.chrome.service import Service\n",
    "from selenium.webdriver.common.by import By \n",
    "from webdriver_manager.chrome import ChromeDriverManager \n",
    "from selenium.webdriver.common.keys import Keys\n",
    "from selenium.webdriver.chrome.options import Options\n",
    "from bs4 import BeautifulSoup\n",
    "import time \n",
    "import pyautogui\n",
    "\n",
    "service = Service(ChromeDriverManager().install())\n",
    "options = Options()\n",
    "#options.add_argument(\"headless\") #사이트에서 막는 경우도 있음\n",
    "options.add_argument(\"window-size=1920x1080\")\n",
    "options.add_argument(\"--disable-gpu\") \n",
    "options.add_argument(\"--User-agent=Mozilla/5.0 (Windows NT 10.0; Win64; x64) AppleWebKit/537.36 (KHTML, like Gecko) Chrome/138.0.0.0 Safari/537.36\")\n",
    "options.add_argument(\"lang=ko_KR\") #우리가 만든 문서는 한국어다\n",
    "driver = webdriver.Chrome(service=service, options=options)\n",
    "driver.get(\"https://divjason.github.io/sellenium-test/index.html?\")\n",
    "\n",
    "\n",
    "element = driver.find_element(By.ID, \"username\") #ID는 한개씩만 부여될 수 있는 고유 값, 단 체크박스같은 다중정보를 받는 경우는 같은 항목 내 다중 배정될 수 있음 \n",
    "element.clear()\n",
    "element.send_keys(\"error@error.com\")\n",
    "element = driver.find_element(By.ID, \"password\") #ID는 한개씩만 부여될 수 있는 고유 값, 단 체크박스같은 다중정보를 받는 경우는 같은 항목 내 다중 배정될 수 있음 \n",
    "element.clear()\n",
    "element.send_keys(\"12345\")\n",
    "\n",
    "\n",
    "time.sleep(1)\n",
    "#버튼을 엔터가 아닌 버튼 클릭을 막는 경우도 있음, event로 GA4를 통해 클릭률 수집하기 위함\n",
    "#element.send_keys(Keys.RETURN)\n",
    "element = driver.find_element(By.CSS_SELECTOR, \"input[type='submit']\") #CSS선택자 내에서 속성을 찾아올때 쓰는 문법\n",
    "element.click()\n",
    "\n",
    "element= driver.find_element(By.CSS_SELECTOR, \"div.message\")\n",
    "print(element.text)\n",
    "time.sleep(5)\n",
    "\n",
    "element = driver.find_element(By.CSS_SELECTOR, \"input[type='submit']\") #CSS선택자 내에서 속성을 찾아올때 쓰는 문법\n",
    "element.click()\n",
    "time.sleep(3)\n",
    "\n",
    "element= driver.find_element(By.CSS_SELECTOR, \"div.message\")\n",
    "print(element.text)\n",
    "time.sleep(2)\n",
    "\n",
    "driver.quit()"
   ]
  },
  {
   "cell_type": "code",
   "execution_count": null,
   "id": "01b9546b-e633-41a5-92f3-6b57c4088e0b",
   "metadata": {},
   "outputs": [],
   "source": []
  }
 ],
 "metadata": {
  "kernelspec": {
   "display_name": "Python [conda env:base] *",
   "language": "python",
   "name": "conda-base-py"
  },
  "language_info": {
   "codemirror_mode": {
    "name": "ipython",
    "version": 3
   },
   "file_extension": ".py",
   "mimetype": "text/x-python",
   "name": "python",
   "nbconvert_exporter": "python",
   "pygments_lexer": "ipython3",
   "version": "3.13.5"
  }
 },
 "nbformat": 4,
 "nbformat_minor": 5
}
