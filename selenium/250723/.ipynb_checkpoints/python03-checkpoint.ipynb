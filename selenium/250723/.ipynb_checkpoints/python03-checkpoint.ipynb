{
 "cells": [
  {
   "cell_type": "code",
   "execution_count": 4,
   "id": "41b6bbba-93e7-4de6-81f9-f44533d291ea",
   "metadata": {},
   "outputs": [
    {
     "name": "stdout",
     "output_type": "stream",
     "text": [
      "실제 사이트는 https://megaitlab.com/ 입니다\n",
      "본 페이지는 로그인된 페이지입니다!\n",
      "뉴스: 머신러닝 강좌가 나왔어요~~~\n",
      "실제 사이트는 https://megaitlab.com/ 입니다\n",
      "뉴스: 머신러닝 강좌가 나왔어요~~~\n"
     ]
    }
   ],
   "source": [
    "from selenium import webdriver\n",
    "from selenium.webdriver.chrome.service import Service\n",
    "from selenium.webdriver.common.by import By \n",
    "from webdriver_manager.chrome import ChromeDriverManager \n",
    "from selenium.webdriver.common.keys import Keys\n",
    "from selenium.webdriver.chrome.options import Options\n",
    "from bs4 import BeautifulSoup\n",
    "import time \n",
    "import pyautogui\n",
    "\n",
    "service = Service(ChromeDriverManager().install())\n",
    "\n",
    "prefs = {\n",
    "    \"credentials_enable_service\": False, #크롬 웹 브라우저 자체 로그인 팝업 비활성화\n",
    "    \"profile.password_manager_enabled\" : False, #비밀번호 저장 팝업 끄기\n",
    "}\n",
    "options = Options()\n",
    "#options.add_argument(\"headless\") #사이트에서 막는 경우도 있음\n",
    "options.add_argument(\"window-size=1920x1080\")\n",
    "options.add_experimental_option(\"prefs\",prefs)\n",
    "options.add_argument(\"--disable-gpu\") \n",
    "options.add_argument(\"--User-agent=Mozilla/5.0 (Windows NT 10.0; Win64; x64) AppleWebKit/537.36 (KHTML, like Gecko) Chrome/138.0.0.0 Safari/537.36\")\n",
    "options.add_argument(\"lang=ko_KR\") #우리가 만든 문서는 한국어다\n",
    "driver = webdriver.Chrome(service=service, options=options)\n",
    "driver.get(\"https://divjason.github.io/sellenium-test/index.html?\")\n",
    "\n",
    "\n",
    "element = driver.find_element(By.ID, \"username\") #ID는 한개씩만 부여될 수 있는 고유 값, 단 체크박스같은 다중정보를 받는 경우는 같은 항목 내 다중 배정될 수 있음 \n",
    "element.clear()\n",
    "element.send_keys(\"error@error.com\")\n",
    "element = driver.find_element(By.ID, \"password\") #ID는 한개씩만 부여될 수 있는 고유 값, 단 체크박스같은 다중정보를 받는 경우는 같은 항목 내 다중 배정될 수 있음 \n",
    "element.clear()\n",
    "element.send_keys(\"12345\")\n",
    "\n",
    "\n",
    "time.sleep(1)\n",
    "#버튼을 엔터가 아닌 버튼 클릭을 막는 경우도 있음, event로 GA4를 통해 클릭률 수집하기 위함\n",
    "#element.send_keys(Keys.RETURN)\n",
    "element = driver.find_element(By.CSS_SELECTOR, \"input[type='submit']\") #CSS선택자 내에서 속성을 찾아올때 쓰는 문법\n",
    "element.click()\n",
    "\n",
    "element1= driver.find_element(By.CSS_SELECTOR, \"div.message\")\n",
    "print(element1.text)\n",
    "time.sleep(5)\n",
    "\n",
    "element = driver.find_element(By.CSS_SELECTOR, \"input[type='submit']\") #CSS선택자 내에서 속성을 찾아올때 쓰는 문법\n",
    "element.click()\n",
    "\n",
    "driver.get(\"https://divjason.github.io/sellenium-test/index.html?\")\n",
    "\n",
    "element2= driver.find_element(By.CSS_SELECTOR, \"div.message\")\n",
    "print(element2.text)\n",
    "time.sleep(2)\n",
    "\n",
    "driver.quit()"
   ]
  },
  {
   "cell_type": "code",
   "execution_count": 13,
   "id": "06d9fee5-da34-49c1-af04-c49441ef44d4",
   "metadata": {},
   "outputs": [
    {
     "name": "stdout",
     "output_type": "stream",
     "text": [
      "['https://davelee-fun.github.io/page-7/']\n"
     ]
    }
   ],
   "source": [
    "from selenium import webdriver\n",
    "from selenium.webdriver.chrome.service import Service\n",
    "from selenium.webdriver.common.by import By \n",
    "from webdriver_manager.chrome import ChromeDriverManager \n",
    "from selenium.webdriver.common.keys import Keys\n",
    "from selenium.webdriver.chrome.options import Options\n",
    "from bs4 import BeautifulSoup\n",
    "import time \n",
    "import pyautogui\n",
    "\n",
    "service = Service(ChromeDriverManager().install())\n",
    "\n",
    "options = Options()\n",
    "options.add_argument(\"headless\") #사이트에서 막는 경우도 있음\n",
    "options.add_argument(\"window-size=1920x1080\")\n",
    "options.add_experimental_option(\"prefs\",prefs)\n",
    "options.add_argument(\"--disable-gpu\") \n",
    "options.add_argument(\"--User-agent=Mozilla/5.0 (Windows NT 10.0; Win64; x64) AppleWebKit/537.36 (KHTML, like Gecko) Chrome/138.0.0.0 Safari/537.36\")\n",
    "options.add_argument(\"lang=ko_KR\") #우리가 만든 문서는 한국어다\n",
    "\n",
    "driver = webdriver.Chrome(service=service, options=options)\n",
    "num=0\n",
    "for i in range(1,8):\n",
    "    address=[f\"https://davelee-fun.github.io/page-{i}/\"]    \n",
    "print(address)\n",
    "\n",
    "elements = driver.find_elements(By.CSS_SELECTOR, \"h4.card-text\")\n",
    "for element in elements :\n",
    "    print(element.text)\n",
    "    # if driver.find_elements(By.CSS_SELECTOR, \"a.ml-1 mr-1.href=\")<1:\n",
    "    #     for i in range(1,8):\n",
    "    #         elements.click()\n",
    "            \n",
    "    \n",
    "    \n",
    "time.sleep(3)\n",
    "driver.quit()"
   ]
  }
 ],
 "metadata": {
  "kernelspec": {
   "display_name": "Python [conda env:base] *",
   "language": "python",
   "name": "conda-base-py"
  },
  "language_info": {
   "codemirror_mode": {
    "name": "ipython",
    "version": 3
   },
   "file_extension": ".py",
   "mimetype": "text/x-python",
   "name": "python",
   "nbconvert_exporter": "python",
   "pygments_lexer": "ipython3",
   "version": "3.13.5"
  }
 },
 "nbformat": 4,
 "nbformat_minor": 5
}
