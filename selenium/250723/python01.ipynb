{
 "cells": [
  {
   "cell_type": "code",
   "execution_count": 1,
   "id": "9470426c-4287-4780-b852-efb893e36e3b",
   "metadata": {},
   "outputs": [
    {
     "name": "stdout",
     "output_type": "stream",
     "text": [
      "Home | Teddy의 선물 블로그\n"
     ]
    }
   ],
   "source": [
    "from selenium import webdriver\n",
    "from selenium.webdriver.chrome.service import Service\n",
    "from webdriver_manager.chrome import ChromeDriverManager #내 로컬컴퓨터에 셀레니움이 인식한 driver버전과 내가 사용한 웹 브라우저 driver 버전이 일치하지 않으면 오류가 날 수 있어서 버전관리를 하기 위한 lib와 요소\n",
    "import time #일정시간 지연을 하기위한 lib\n",
    "\n",
    "#pip install webdriver-manager : 사전에 webdriver-manager를 설치한 후, from&import를 통해 불러올 수 있음\n",
    "#pip show webdriver-manager : 설치한 pip을 확인하는 방법\n",
    "\n",
    "service = Service(ChromeDriverManager().install())\n",
    "driver = webdriver.Chrome(service=service) #requests의 역할을 할 수 있는 인스턴스 객체가 됨, 특정 사이트에서 데이터 크롤링이 가능한 상태가 됨\n",
    "\n",
    "driver.get(\"https://davelee-fun.github.io/\")\n",
    "\n",
    "# print(driver.title)\n",
    "# print(driver.current_url) #크롤링하고자하는 사이트의 주소를 찾아라\n",
    "\n",
    "assert \"Teddy\" in driver.title #페이지의 제목에 Teddy가 있는지 단언\n",
    "#코드 작동이 되면서 별 창, 문구가 나오지 않으면 단언한 단어가 페이지 내에서 확인이 된 것, AssertionError가 뜨면 없는 것\n",
    "\n",
    "\n",
    "time.sleep(1) #1초의 시간동안 페이지에서 기다려라\n",
    "driver.quit() #크롤링을 마무리 짓는 행위, 하지 않으면 페이지에서 이상을 감지하고 크롤링을 저지할 수 있음"
   ]
  },
  {
   "cell_type": "code",
   "execution_count": 9,
   "id": "a1180dec-06e2-4a62-a6ee-1b25ef0bd5db",
   "metadata": {},
   "outputs": [
    {
     "name": "stdout",
     "output_type": "stream",
     "text": [
      "상품명: 보몽드 순면스퀘어 솔리드 누빔매트커버, 다크블루\n",
      "상품명: 슈에뜨룸 선인장 리플 침구 세트, 베이지\n",
      "상품명: 선우랜드 레인보우 2단 문걸이용 옷걸이 _중형, 화이트, 상세페이지참조\n",
      "상품명: 보드래 헬로우 누빔 매트리스커버, 핑크\n",
      "상품명: 보드래 퍼펙트 누빔 매트리스커버, 차콜\n",
      "상품명: 피아블 클래식 방수 매트리스커버, 화이트\n",
      "상품명: 더자리 에코항균 마이크로 매트리스커버, 밀키차콜그레이\n",
      "상품명: 더자리 프레쉬 퓨어 매트리스 커버, 퓨어 차콜그레이\n",
      "상품명: 몽쉐어 알러스킨 항균 매트리스 커버, 카키그레이\n",
      "상품명: 쿠팡 브랜드 - 코멧 홈 40수 트윌 순면 100% 홑겹 매트리스커버, 그레이\n",
      "상품명: 패브릭아트 항균 마이크로 원단 매트리스 커버, 아이보리\n",
      "상품명: 바숨 순면 누빔 침대 매트리스커버, 차콜\n",
      "상품명: WEMAX 다용도 문옷걸이, 화이트, 1개\n",
      "상품명: 타카타카 프리미엄 나노 화이바 누빔 매트리스 커버, 젠틀핑핑\n",
      "상품명: 보몽드 순면스퀘어 누빔매트커버, 다크그레이\n",
      "상품명: 보드래 국내산 순면 60수 누빔 매트리스커버, 그레이\n"
     ]
    }
   ],
   "source": [
    "from selenium import webdriver\n",
    "from selenium.webdriver.chrome.service import Service\n",
    "from selenium.webdriver.common.by import By #common은 명령이라는 뜻, By또한 프로토타입 객체\n",
    "from webdriver_manager.chrome import ChromeDriverManager \n",
    "import time \n",
    "\n",
    "service = Service(ChromeDriverManager().install())\n",
    "driver = webdriver.Chrome(service=service)\n",
    "\n",
    "driver.get(\"https://davelee-fun.github.io/\")\n",
    "\n",
    "# element = driver.find_element(By.TAG_NAME, \"h1\")  # h1이라는 태그를 가지고 있는 요소 처음 하나를 찾아와라\n",
    "#                                                   #driver내에서 찾고 싶은 요소를 찾는 방법,  find_element (단일 요소) find_elements (복수 요소)\n",
    "# print(element.text) #element라는 요소 안에 text값을 가져와줘\n",
    "\n",
    "elements = driver.find_elements(By.TAG_NAME, \"h4\")\n",
    "for element in elements:\n",
    "    print(element.text)\n",
    "\n",
    "time.sleep(1) \n",
    "driver.quit()"
   ]
  },
  {
   "cell_type": "code",
   "execution_count": 12,
   "id": "e63759a1-ecf9-4223-a2d3-4b1fce024475",
   "metadata": {},
   "outputs": [
    {
     "name": "stdout",
     "output_type": "stream",
     "text": [
      "\n"
     ]
    }
   ],
   "source": [
    "from selenium import webdriver\n",
    "from selenium.webdriver.chrome.service import Service\n",
    "from selenium.webdriver.common.by import By \n",
    "from webdriver_manager.chrome import ChromeDriverManager \n",
    "import time \n",
    "\n",
    "service = Service(ChromeDriverManager().install())\n",
    "driver = webdriver.Chrome(service=service)\n",
    "\n",
    "driver.get(\"https://davelee-fun.github.io/\")\n",
    "\n",
    "# element = driver.find_element(By.ID, \"navbarMediumish\") #navbarMediumish라는 ID값을 가진 요소를 가져와라\n",
    "# print(element.text)\n",
    "\n",
    "elements = driver.find_elements(By.ID, \"navbarMediumish\") #navbarMediumish라는 ID값을 가진 요소를 가져와라\n",
    "for element in elements :\n",
    "    print(element.text)\n",
    "\n",
    "time.sleep(1) \n",
    "driver.quit()\n",
    "\n",
    "#해당 코드가 작동되지 않는 문제의 원인\n",
    "#로컬 컴퓨터에 설치된 구글 크롬 드라이버 버전이 현재 실행중인 웹 드라이버 버전과 일치하지 않음\n",
    "#bootstrap때문에 발생한 문제\n"
   ]
  },
  {
   "cell_type": "code",
   "execution_count": 16,
   "id": "15de7ddf-b8b7-46eb-9084-6d31fd4af404",
   "metadata": {},
   "outputs": [
    {
     "name": "stdout",
     "output_type": "stream",
     "text": [
      "Blog\n",
      "About\n"
     ]
    }
   ],
   "source": [
    "from selenium import webdriver\n",
    "from selenium.webdriver.chrome.service import Service\n",
    "from selenium.webdriver.common.by import By \n",
    "from selenium.webdriver.chrome.options import Options\n",
    "from webdriver_manager.chrome import ChromeDriverManager \n",
    "import time \n",
    "\n",
    "service = Service(\"C:\\\\Users\\\\user\\\\Downloads\\\\chromedriver\\\\chromedriver.exe\")\n",
    "options = Options()\n",
    "options.add_argument(\"--disable-gpu\") #graphic process unit을 작동시키지 말아라\n",
    "options.add_argument(\"--start-maximized\") #크롤링 할 때, 현재 브라우저 운영체제에 해상도 및 기타환경 최적화를 시켜줘\n",
    "\n",
    "driver = webdriver.Chrome(service=service, options=options)\n",
    "\n",
    "driver.get(\"https://davelee-fun.github.io/\")\n",
    "\n",
    "# element = driver.find_element(By.ID, \"navbarMediumish\") #navbarMediumish라는 ID값을 가진 요소를 가져와라\n",
    "# print(element.text)\n",
    "\n",
    "elements = driver.find_elements(By.ID, \"navbarMediumish\") #navbarMediumish라는 ID값을 가진 요소를 가져와라\n",
    "for element in elements :\n",
    "    print(element.text)\n",
    "\n",
    "time.sleep(1) \n",
    "driver.quit()"
   ]
  },
  {
   "cell_type": "code",
   "execution_count": 19,
   "id": "9fec298b-a928-4964-b1e8-82465f429aa0",
   "metadata": {},
   "outputs": [
    {
     "name": "stdout",
     "output_type": "stream",
     "text": [
      "매트리스커버 관련 상품 추천\n",
      "여름이불세트 관련 상품 추천\n",
      "행거도어 관련 상품 추천\n",
      "매트리스커버 관련 상품 추천\n",
      "매트리스커버 관련 상품 추천\n",
      "매트리스커버 관련 상품 추천\n",
      "매트리스커버 관련 상품 추천\n",
      "매트리스커버 관련 상품 추천\n",
      "매트리스커버 관련 상품 추천\n",
      "매트리스커버 관련 상품 추천\n",
      "매트리스커버 관련 상품 추천\n",
      "매트리스커버 관련 상품 추천\n",
      "행거도어 관련 상품 추천\n",
      "매트리스커버 관련 상품 추천\n",
      "매트리스커버 관련 상품 추천\n",
      "매트리스커버 관련 상품 추천\n"
     ]
    }
   ],
   "source": [
    "from selenium import webdriver\n",
    "from selenium.webdriver.chrome.service import Service\n",
    "from selenium.webdriver.common.by import By \n",
    "from selenium.webdriver.chrome.options import Options\n",
    "from webdriver_manager.chrome import ChromeDriverManager \n",
    "import time \n",
    "\n",
    "service = Service(\"C:\\\\Users\\\\user\\\\Downloads\\\\chromedriver\\\\chromedriver.exe\")\n",
    "options = Options()\n",
    "options.add_argument(\"--disable-gpu\") \n",
    "options.add_argument(\"--start-maximized\") \n",
    "\n",
    "driver = webdriver.Chrome(service=service, options=options)\n",
    "\n",
    "driver.get(\"https://davelee-fun.github.io/\")\n",
    "\n",
    "#css선택자는 부모-자손, 부모-후손 관계의 값을 찾아올 수 있는 방식\n",
    "# element = driver.find_element(By.CSS_SELECTOR, \"div.card-body>h4.card-text\") #>는 자손 (띄어쓰기)는 후손\n",
    "# print(element.text)\n",
    "\n",
    "elements = driver.find_elements(By.CSS_SELECTOR, \"div.card-body>h4.card-text\") #>는 자손 (띄어쓰기)는 후손\n",
    "for element in elements:\n",
    "    print(element.text)\n",
    "\n",
    "time.sleep(1) \n",
    "driver.quit()"
   ]
  },
  {
   "cell_type": "code",
   "execution_count": 26,
   "id": "16b1069b-4b61-40e8-a3e0-1ec76cc83db4",
   "metadata": {},
   "outputs": [
    {
     "name": "stdout",
     "output_type": "stream",
     "text": [
      "text :  매트리스커버 관련 상품 추천\n",
      "driver.title :  https://davelee-fun.github.io/product-83/\n",
      "get_attribute('class') :  text-dark\n",
      "get_attribute('text') :  매트리스커버 관련 상품 추천\n",
      "----------------------------------------\n",
      "text :  여름이불세트 관련 상품 추천\n",
      "driver.title :  https://davelee-fun.github.io/product-69/\n",
      "get_attribute('class') :  text-dark\n",
      "get_attribute('text') :  여름이불세트 관련 상품 추천\n",
      "----------------------------------------\n",
      "text :  행거도어 관련 상품 추천\n",
      "driver.title :  https://davelee-fun.github.io/product-20/\n",
      "get_attribute('class') :  text-dark\n",
      "get_attribute('text') :  행거도어 관련 상품 추천\n",
      "----------------------------------------\n",
      "text :  매트리스커버 관련 상품 추천\n",
      "driver.title :  https://davelee-fun.github.io/product-105/\n",
      "get_attribute('class') :  text-dark\n",
      "get_attribute('text') :  매트리스커버 관련 상품 추천\n",
      "----------------------------------------\n",
      "text :  매트리스커버 관련 상품 추천\n",
      "driver.title :  https://davelee-fun.github.io/product-99/\n",
      "get_attribute('class') :  text-dark\n",
      "get_attribute('text') :  매트리스커버 관련 상품 추천\n",
      "----------------------------------------\n",
      "text :  매트리스커버 관련 상품 추천\n",
      "driver.title :  https://davelee-fun.github.io/product-98/\n",
      "get_attribute('class') :  text-dark\n",
      "get_attribute('text') :  매트리스커버 관련 상품 추천\n",
      "----------------------------------------\n",
      "text :  매트리스커버 관련 상품 추천\n",
      "driver.title :  https://davelee-fun.github.io/product-97/\n",
      "get_attribute('class') :  text-dark\n",
      "get_attribute('text') :  매트리스커버 관련 상품 추천\n",
      "----------------------------------------\n",
      "text :  매트리스커버 관련 상품 추천\n",
      "driver.title :  https://davelee-fun.github.io/product-96/\n",
      "get_attribute('class') :  text-dark\n",
      "get_attribute('text') :  매트리스커버 관련 상품 추천\n",
      "----------------------------------------\n",
      "text :  매트리스커버 관련 상품 추천\n",
      "driver.title :  https://davelee-fun.github.io/product-95/\n",
      "get_attribute('class') :  text-dark\n",
      "get_attribute('text') :  매트리스커버 관련 상품 추천\n",
      "----------------------------------------\n",
      "text :  매트리스커버 관련 상품 추천\n",
      "driver.title :  https://davelee-fun.github.io/product-94/\n",
      "get_attribute('class') :  text-dark\n",
      "get_attribute('text') :  매트리스커버 관련 상품 추천\n",
      "----------------------------------------\n",
      "text :  매트리스커버 관련 상품 추천\n",
      "driver.title :  https://davelee-fun.github.io/product-93/\n",
      "get_attribute('class') :  text-dark\n",
      "get_attribute('text') :  매트리스커버 관련 상품 추천\n",
      "----------------------------------------\n",
      "text :  매트리스커버 관련 상품 추천\n",
      "driver.title :  https://davelee-fun.github.io/product-92/\n",
      "get_attribute('class') :  text-dark\n",
      "get_attribute('text') :  매트리스커버 관련 상품 추천\n",
      "----------------------------------------\n",
      "text :  행거도어 관련 상품 추천\n",
      "driver.title :  https://davelee-fun.github.io/product-91/\n",
      "get_attribute('class') :  text-dark\n",
      "get_attribute('text') :  행거도어 관련 상품 추천\n",
      "----------------------------------------\n",
      "text :  매트리스커버 관련 상품 추천\n",
      "driver.title :  https://davelee-fun.github.io/product-90/\n",
      "get_attribute('class') :  text-dark\n",
      "get_attribute('text') :  매트리스커버 관련 상품 추천\n",
      "----------------------------------------\n",
      "text :  매트리스커버 관련 상품 추천\n",
      "driver.title :  https://davelee-fun.github.io/product-89/\n",
      "get_attribute('class') :  text-dark\n",
      "get_attribute('text') :  매트리스커버 관련 상품 추천\n",
      "----------------------------------------\n",
      "text :  매트리스커버 관련 상품 추천\n",
      "driver.title :  https://davelee-fun.github.io/product-88/\n",
      "get_attribute('class') :  text-dark\n",
      "get_attribute('text') :  매트리스커버 관련 상품 추천\n",
      "----------------------------------------\n"
     ]
    }
   ],
   "source": [
    "from selenium import webdriver\n",
    "from selenium.webdriver.chrome.service import Service\n",
    "from selenium.webdriver.common.by import By \n",
    "from selenium.webdriver.chrome.options import Options\n",
    "from webdriver_manager.chrome import ChromeDriverManager \n",
    "import time \n",
    "\n",
    "service = Service(\"C:\\\\Users\\\\user\\\\Downloads\\\\chromedriver\\\\chromedriver.exe\")\n",
    "options = Options()\n",
    "options.add_argument(\"--disable-gpu\") \n",
    "options.add_argument(\"--start-maximized\") \n",
    "\n",
    "driver = webdriver.Chrome(service=service, options=options)\n",
    "\n",
    "driver.get(\"https://davelee-fun.github.io/\")\n",
    "\n",
    "#특성한 속성을 지닌 속성값을 통해 가져오기\n",
    "# element = driver.find_element(By.CSS_SELECTOR, \"a.text-dark\") \n",
    "# print(\"text : \", element.text)\n",
    "\n",
    "# element = driver.find_element(By.CSS_SELECTOR, \"a.text-dark\") \n",
    "# print(\"text : \", element.text)\n",
    "# print(\"driver.title : \", element.get_attribute(\"href\")) #attribute가 속성을 의미\n",
    "# print(\"get_attribute('class') : \", element.get_attribute(\"class\")) #속성 중 class를 출력해 주 \n",
    "# print(\"get_attribute('text') : \", element.get_attribute(\"text\")) #속성들의 내용/텍스트를 출력해줘\n",
    "\n",
    "elements = driver.find_elements(By.CSS_SELECTOR, \"a.text-dark\") \n",
    "for element in elements :\n",
    "    print(\"text : \", element.text)\n",
    "    print(\"driver.title : \", element.get_attribute(\"href\")) #attribute가 속성을 의미\n",
    "    print(\"get_attribute('class') : \", element.get_attribute(\"class\")) #속성 중 class를 출력해 주 \n",
    "    print(\"get_attribute('text') : \", element.get_attribute(\"text\")) #속성들의 내용/텍스트를 출력해줘\n",
    "    print(\"--\"*20)\n",
    "\n",
    "time.sleep(1) \n",
    "driver.quit()"
   ]
  },
  {
   "cell_type": "code",
   "execution_count": 28,
   "id": "1399cb40-428a-49a4-bdb6-9aa90529fad0",
   "metadata": {},
   "outputs": [
    {
     "name": "stdout",
     "output_type": "stream",
     "text": [
      "get_attribute :  Home | Teddy의 선물 블로그\n"
     ]
    }
   ],
   "source": [
    "from selenium import webdriver\n",
    "from selenium.webdriver.chrome.service import Service\n",
    "from selenium.webdriver.common.by import By \n",
    "from selenium.webdriver.chrome.options import Options\n",
    "from webdriver_manager.chrome import ChromeDriverManager \n",
    "import time \n",
    "\n",
    "service = Service(\"C:\\\\Users\\\\user\\\\Downloads\\\\chromedriver\\\\chromedriver.exe\")\n",
    "options = Options()\n",
    "options.add_argument(\"--disable-gpu\") \n",
    "options.add_argument(\"--start-maximized\") \n",
    "\n",
    "driver = webdriver.Chrome(service=service, options=options)\n",
    "\n",
    "driver.get(\"https://davelee-fun.github.io/\")\n",
    "\n",
    "#head에 있는 값들은 Body들과 다른 방식으로 출력해야함.\n",
    "element = driver.find_element(By.CSS_SELECTOR, \"title\")\n",
    "print(\"get_attribute : \", element.get_attribute(\"text\"))\n",
    "\n",
    "time.sleep(1) \n",
    "driver.quit()"
   ]
  },
  {
   "cell_type": "markdown",
   "id": "e72af117-317e-43d0-a0fb-5afbbd058b34",
   "metadata": {},
   "source": [
    "#### 크롤링 방법\n",
    "1. requests & bs4\n",
    "   - 웹 브라우저가 현재 읽고 있는 (*파싱) 사이트의 문서를 전체적으로 스캔 후 크롤링하는 방식\n",
    "   - 단, SPA 방식의 페이지에 대한 정보를 크롤링 할 수 없음\n",
    "  \n",
    "2. selenium\n",
    "    - 웹 브라우저가 현재 읽고 있는 사이트의 현재 보여지는 부분을 크롤링하는 방식\n",
    "    - 단, 보여지지 않는 동적인 요소의 값을 가져올때 사용할 수 없음  \n",
    "    * selenium의 특징\n",
    "      - 리액트와 같은 SPA 방식으로 만들어진 동적인 사이트의 크롤링 가능\n",
    "      - 브라우저 직접 제어 가능으로 requests & BS4 보다 안정성있게 크롤링 할 수 있음\n",
    "      - form태그 제어 가능\n",
    "        ex. form이라는 태그 안에 input값으로 제어 가능 \"button click\"\n",
    "\n",
    "#### Headless 기능\n",
    "- 실제 브라우저를 띄우지 않아도 마치 띄운 것처럼 인식시켜 주게 하는 기능\n"
   ]
  },
  {
   "cell_type": "code",
   "execution_count": 32,
   "id": "801aaf5e-d6f5-41d4-9a0e-3f6f0abba77f",
   "metadata": {},
   "outputs": [
    {
     "name": "stdout",
     "output_type": "stream",
     "text": [
      "scrollHeight :  5318\n",
      "clientHeight :  873\n",
      "offsetHeight :  5318\n"
     ]
    }
   ],
   "source": [
    "from selenium import webdriver\n",
    "from selenium.webdriver.chrome.service import Service\n",
    "from selenium.webdriver.common.by import By \n",
    "from selenium.webdriver.chrome.options import Options\n",
    "from webdriver_manager.chrome import ChromeDriverManager \n",
    "import time \n",
    "\n",
    "service = Service(ChromeDriverManager().install())\n",
    "driver = webdriver.Chrome(service=service)\n",
    "\n",
    "driver.get(\"https://davelee-fun.github.io/\")\n",
    "\n",
    "#스크롤 길이를 알아보는 방법, 스크롤 길이 가능한 만큼 데이터를 긁어오는 방법\n",
    "#driver.execute_script(\"window.scrollTo(0,document.body.scrollHeight\") #scrollTo  지정한 위치까지 스크롤을 하라는 명령을 담고있는 함수, document.body.scrollHeight은 기기마다 다르기 때문에 숫자가 아닌 코드로 입력\n",
    "height = driver.execute_script(\"return document.body.scrollHeight\") #전체 문서의 scroll을 감안한 문서의 길이\n",
    "print(\"scrollHeight : \", height)\n",
    "\n",
    "client_height = driver.execute_script(\"return document.documentElement.clientHeight\") #현재 우리의 브라우저 (눈에 직관적으로 보여지는 높이)의 화면상 높이\n",
    "print(\"clientHeight : \", client_height) #해당 요소의 실제 본문만 가져옴, 스크롤바와 메뉴창도 허용하지 않음\n",
    "\n",
    "offset_height = driver.execute_script(\"return document.body.offsetHeight\") #문서 자체를 의미\n",
    "print(\"offsetHeight : \", offset_height)\n",
    "\n",
    "time.sleep(1) \n",
    "driver.quit()"
   ]
  },
  {
   "cell_type": "code",
   "execution_count": 37,
   "id": "a5cd9acf-9130-490a-9c28-939f207c9676",
   "metadata": {},
   "outputs": [],
   "source": [
    "from selenium import webdriver\n",
    "from selenium.webdriver.chrome.service import Service\n",
    "from selenium.webdriver.common.by import By \n",
    "from webdriver_manager.chrome import ChromeDriverManager \n",
    "import time \n",
    "\n",
    "service = Service(ChromeDriverManager().install())\n",
    "driver = webdriver.Chrome(service=service)\n",
    "\n",
    "driver.get(\"https://davelee-fun.github.io/\")\n",
    "\n",
    "#driver.execute_script(\"window.scrollTo(0,document.body.scrollHeight)\")\n",
    "driver.execute_script(\"window.scrollTo(0,2155)\")\n",
    "\n",
    "time.sleep(1) \n",
    "driver.quit()"
   ]
  },
  {
   "cell_type": "code",
   "execution_count": 43,
   "id": "10ab3d62-5ce0-474c-93e6-7374d75c68ef",
   "metadata": {},
   "outputs": [
    {
     "name": "stdout",
     "output_type": "stream",
     "text": [
      "Defaulting to user installation because normal site-packages is not writeable\n",
      "Requirement already satisfied: pyautogui in c:\\users\\user\\appdata\\roaming\\python\\python313\\site-packages (0.9.54)\n",
      "Requirement already satisfied: pymsgbox in c:\\users\\user\\appdata\\roaming\\python\\python313\\site-packages (from pyautogui) (1.0.9)\n",
      "Requirement already satisfied: pytweening>=1.0.4 in c:\\users\\user\\appdata\\roaming\\python\\python313\\site-packages (from pyautogui) (1.2.0)\n",
      "Requirement already satisfied: pyscreeze>=0.1.21 in c:\\users\\user\\appdata\\roaming\\python\\python313\\site-packages (from pyautogui) (1.0.1)\n",
      "Requirement already satisfied: pygetwindow>=0.0.5 in c:\\users\\user\\appdata\\roaming\\python\\python313\\site-packages (from pyautogui) (0.0.9)\n",
      "Requirement already satisfied: mouseinfo in c:\\users\\user\\appdata\\roaming\\python\\python313\\site-packages (from pyautogui) (0.1.3)\n",
      "Requirement already satisfied: pyrect in c:\\users\\user\\appdata\\roaming\\python\\python313\\site-packages (from pygetwindow>=0.0.5->pyautogui) (0.2.0)\n",
      "Requirement already satisfied: pyperclip in c:\\users\\user\\appdata\\roaming\\python\\python313\\site-packages (from mouseinfo->pyautogui) (1.9.0)\n",
      "Note: you may need to restart the kernel to use updated packages.\n"
     ]
    }
   ],
   "source": [
    "pip install pyautogui"
   ]
  },
  {
   "cell_type": "code",
   "execution_count": 4,
   "id": "dab32e99-0a4a-4edf-a509-ff5c69dd753c",
   "metadata": {},
   "outputs": [
    {
     "name": "stdout",
     "output_type": "stream",
     "text": [
      "1920 1080\n"
     ]
    }
   ],
   "source": [
    "from selenium import webdriver\n",
    "from selenium.webdriver.chrome.service import Service\n",
    "from selenium.webdriver.common.by import By \n",
    "from webdriver_manager.chrome import ChromeDriverManager \n",
    "from selenium.webdriver.common.keys import Keys\n",
    "import time \n",
    "import pyautogui #외부 lib로 설치가 필요하며, gui = graphic user interface의 약자, width&height값을 자동으로 수집하는 역할을 함\n",
    "\n",
    "screen_width, screen_height = pyautogui.size() #반환값이 width, height임\n",
    "print(screen_width, screen_height)\n",
    "\n",
    "service = Service(ChromeDriverManager().install())\n",
    "driver = webdriver.Chrome(service=service)\n",
    "\n",
    "driver.get(\"https://davelee-fun.github.io/\")\n",
    "\n",
    "#스크롤할 화면 사이즈를 정하는 것\n",
    "#driver.set_window_size(1400,1000) #1400, 1000만큼의 사이즈만 크롤링하길 원해\n",
    "driver.set_window_size(screen_width,screen_height)#브라우저의 화면 사이즈에 맞춰서 크롤링 할거야\n",
    "element = driver.find_element(By.TAG_NAME, \"body\")\n",
    "\n",
    "element.screenshot(\"samplesite.png\") #지정해놓은 브라우저 화면을 캡쳐해 올것\n",
    "\n",
    "time.sleep(3)\n",
    "\n",
    "driver.quit()"
   ]
  },
  {
   "cell_type": "code",
   "execution_count": null,
   "id": "62341a8f-38b4-4804-b4c4-be34903768fe",
   "metadata": {},
   "outputs": [],
   "source": []
  },
  {
   "cell_type": "code",
   "execution_count": null,
   "id": "e9a09dc2-e67d-4a02-a0c9-119149acc9a4",
   "metadata": {},
   "outputs": [],
   "source": []
  }
 ],
 "metadata": {
  "kernelspec": {
   "display_name": "Python [conda env:base] *",
   "language": "python",
   "name": "conda-base-py"
  },
  "language_info": {
   "codemirror_mode": {
    "name": "ipython",
    "version": 3
   },
   "file_extension": ".py",
   "mimetype": "text/x-python",
   "name": "python",
   "nbconvert_exporter": "python",
   "pygments_lexer": "ipython3",
   "version": "3.13.5"
  }
 },
 "nbformat": 4,
 "nbformat_minor": 5
}
