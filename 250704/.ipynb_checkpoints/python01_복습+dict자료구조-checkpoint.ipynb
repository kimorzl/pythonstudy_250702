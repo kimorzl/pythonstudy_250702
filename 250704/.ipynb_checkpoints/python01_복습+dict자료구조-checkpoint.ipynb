{
 "cells": [
  {
   "cell_type": "markdown",
   "id": "7f26b3d3-3845-4777-8eb0-3d051e017b9c",
   "metadata": {},
   "source": [
    "#### 파이썬 자료구조\n",
    "- list => 하나의 그룹안에 순번을 매겨 값을 저장해놓은 형태 (* 단일 값을 수정, 삭제 등 변경 허용)\n",
    "- tupel => 하나의 그룹안에 순번을 매겨 값을 저장해놓은 형태 (* 단일 값을 수정, 삭제 등 변경 불가)\n",
    "- dictionary => 사전 (* 단어 : 뜻, 형태, 예시 등 세부정보를 담는 그릇) => key (*단어) & value(*해당 단어에 대한 의미) => 속성 (* property)\n",
    "- CRUD => 웹 사이트 구현 정도 // 프로그램 난이도 // 고급언어인지 저급언어인지 구분\n",
    "- Create // Read // Update // Delete => 고급 언어로 난이도 상단게 포지션\n",
    "- 프로그래밍 언어는 정답이 없음 => 예제 문제 => 문제를 해결하는 다양한 방법 존재, 선생님과 수강생 사이에 차이가 나오 누군가가 제일 정확한 정답이다가 없음\n",
    "- 개발 영역 : 결과가 도출된다면 모두 정답으로 처리 됨/ 다만, 어떤 답이 효과적인가? 효율적인가?에 대한 생각만 차이가 있을 뿐\n",
    "- 만들고자 하는 프로그램이 지향하는 것이 무엇이냐? => 안정성 // 속도 // 메모리 크기\n",
    "- 회사들의 판단 지표 : 얼마나 빠른 시간 내에 코드 처리가 가능한가 (== 시간복잡도)\n",
    "- 시간복잡도 : 어떤 코드가 실행됨에 있어 얼마나 빠른 처리를 하는가 => 빅오메가 // 빅세타 // 빅오 개념\n",
    "- (*하드웨어) 컴퓨터의 성능 차이에 따른 복잡도 => 빅오메가 // 빅세타\n",
    "- 빅오 시간 체크 => 가장 많은 시간을 차지하는 것 하나를 체크 => 반복문"
   ]
  },
  {
   "cell_type": "code",
   "execution_count": 1,
   "id": "abb5053d-7dfa-4d93-85a0-52e8511a1d25",
   "metadata": {},
   "outputs": [
    {
     "data": {
      "text/plain": [
       "{'name': 'David'}"
      ]
     },
     "execution_count": 1,
     "metadata": {},
     "output_type": "execute_result"
    }
   ],
   "source": [
    "dict = {\"name\" : \"David\"} # {} 안에 들어가는 값 중 왼쪽은 key, 오른쪽은 value값으로 지칭함\n",
    "dict"
   ]
  },
  {
   "cell_type": "code",
   "execution_count": 2,
   "id": "f02dc27e-4bf6-4520-9437-95df50829b1a",
   "metadata": {},
   "outputs": [
    {
     "data": {
      "text/plain": [
       "{'korea': 95, 'math': 100, 'science': 80}"
      ]
     },
     "execution_count": 2,
     "metadata": {},
     "output_type": "execute_result"
    }
   ],
   "source": [
    "dict2 = {\"korea\" : 95, \"math\" : 100, \"science\" : 80} #dict구조는 key/value값을 쌍으로 저장이 가능하며, {}안에 쌍만 이루면 몇개의 데이터를 한번에 할당이 가능\n",
    "dict2"
   ]
  },
  {
   "cell_type": "code",
   "execution_count": 3,
   "id": "56259880-9be4-445f-8405-d817be0d0318",
   "metadata": {},
   "outputs": [],
   "source": [
    "# list1 = [] | [ 1, 2] | list()\n",
    "# tupl1 = () | ( 1, 2) | tuple()\n",
    "\n",
    "dict1 = {} #{} -> set자료구조로 넣을 수 있음\n",
    "dict2 = dict()\n",
    "\n",
    "print(type(dict2))"
   ]
  },
  {
   "cell_type": "code",
   "execution_count": null,
   "id": "7e8318ec-ad92-4791-a989-ded03f708558",
   "metadata": {},
   "outputs": [],
   "source": [
    "data_dict = {\"한국\";\"KR\", \"일본\";\"JP\", \"중국\";\"CN\"} "
   ]
  },
  {
   "cell_type": "code",
   "execution_count": null,
   "id": "3cce6e63-4bc7-4675-8624-410c8bb5e27a",
   "metadata": {},
   "outputs": [],
   "source": [
    "data_dict[\"한국\"] # dict에서는 key인덱스를 호출하면 value 인덱스를 반환한다."
   ]
  },
  {
   "cell_type": "code",
   "execution_count": null,
   "id": "5b3249c8-0e27-4d75-8179-5efa9079ec0f",
   "metadata": {},
   "outputs": [],
   "source": [
    "data_dict[\"미국\"] = \"US\" #dic안에는 인덱스 key와 value값을 넣을 수 있다.\n",
    "                         #dic형태의 변수에 key로 미국, value를 US로 설정해라."
   ]
  },
  {
   "cell_type": "code",
   "execution_count": null,
   "id": "0e93d035-3c73-46e7-bb88-371c1fb596ee",
   "metadata": {},
   "outputs": [],
   "source": [
    "data_dict"
   ]
  },
  {
   "cell_type": "code",
   "execution_count": null,
   "id": "3393f2f4-6da6-444a-892e-b691e090ce61",
   "metadata": {},
   "outputs": [],
   "source": [
    "del data_dict[\"일본\"] #삭제하고자 하는 key값을 입력하면 value와 함께 요소가 삭제된다."
   ]
  },
  {
   "cell_type": "code",
   "execution_count": null,
   "id": "cb7961d5-1a0d-44e9-92ab-40cdec636d36",
   "metadata": {},
   "outputs": [],
   "source": [
    "data_dict"
   ]
  },
  {
   "cell_type": "code",
   "execution_count": null,
   "id": "219e7c39-9dd6-4aee-b65c-39d7e5283abd",
   "metadata": {},
   "outputs": [],
   "source": [
    "data_dict[\"미국\"] = \"USA\""
   ]
  },
  {
   "cell_type": "code",
   "execution_count": null,
   "id": "0e0008e4-c8e0-465c-8e0d-33782689558c",
   "metadata": {},
   "outputs": [],
   "source": [
    "data_dict"
   ]
  },
  {
   "cell_type": "code",
   "execution_count": null,
   "id": "e97828b0-16ec-4e18-b59b-a2a551ce7f2c",
   "metadata": {},
   "outputs": [],
   "source": [
    "keys = data_dict.key()\n",
    "print(keys)\n",
    "print(type(keys)) #dic에 들어있는 key의 값은 list의 형태를 갖는다\n",
    "\n",
    "values =data_dict.values()\n",
    "print(values) # dic안에 들어있는 key, value는 쌍의 값을 가지지만, key 혹은 value 값만을 불러올 수 있다.\n",
    "\n",
    "items = data_dict.items()\n",
    "print(items) #dic은 임의로 값을 바꿔주지 않는 한 key,value값의 쌍을 이루며 구성이 다양할 경우 바꿀 수 없는 tuple형태의 list로 반환된다\n"
   ]
  },
  {
   "cell_type": "code",
   "execution_count": null,
   "id": "787f6ad6-bd68-40cf-8ced-1a09be82b3c3",
   "metadata": {},
   "outputs": [],
   "source": [
    "for key in keys :\n",
    "    print(key)"
   ]
  }
 ],
 "metadata": {
  "kernelspec": {
   "display_name": "Python [conda env:base] *",
   "language": "python",
   "name": "conda-base-py"
  },
  "language_info": {
   "codemirror_mode": {
    "name": "ipython",
    "version": 3
   },
   "file_extension": ".py",
   "mimetype": "text/x-python",
   "name": "python",
   "nbconvert_exporter": "python",
   "pygments_lexer": "ipython3",
   "version": "3.13.5"
  }
 },
 "nbformat": 4,
 "nbformat_minor": 5
}
