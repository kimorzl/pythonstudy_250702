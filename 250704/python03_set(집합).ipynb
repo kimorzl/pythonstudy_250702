{
 "cells": [
  {
   "cell_type": "markdown",
   "id": "e1f803db-ccce-4b1d-95e7-d03eb5dc8222",
   "metadata": {},
   "source": [
    "#### 자료구조 set (집합)\n",
    "- 서로다른 그룹 간 연산 작업을 보다 쉽게 하기 위한 목적으로 탄생된 자료구조\n",
    "- set()\n",
    "   * set()은 list() // tuple() // dict()와 같은 프로토타입 객체 함수\n",
    "   * list, tuple => 각각의 세부값에 인덱스 값을 부여하여 이터러블한 객체로 불리며 반복문에 활용할 수 있음\n",
    "   * dict => 각각의 세부값에 인덱스 값을 부여할 수 없어 이터러블한 객체라고 명명할 수 없어 반복문에 활용이 불가\n",
    "   * set => list와 tuple처럼 이터러블한 객체로 반복문에 활용할 수 있지만! 인덱스값을 부여받지 않지 않아 유사배열 자료구조로 불림.\n",
    "\n",
    "#### set을 크롤링에서 활용하는 이유\n",
    "- 크롤링시 발생되는 중복값을 하나로 정리하는 기능을 사용하기 위해 활용\n",
    "  * 크롤링시 찾아온 값은 대부분 리스트형태로 불러오며 반복적으로 값을 찾을 경우 불필요한 값을 찾아오는 경우가 많음\n",
    "\n",
    "#### set을 생성하는 방법\n",
    "- 변수 = set()\n",
    "- 변수 = set(\"apple\") - set에 넣고싶은 요소 \n",
    "   * 결과값 {'a', 'e', 'l', 'p'} -> 중복 없이 내용을 각각의 인자값으로 표출"
   ]
  },
  {
   "cell_type": "code",
   "execution_count": 2,
   "id": "a52dfc5e-0d5c-4aa6-9ac2-18c1d25cab46",
   "metadata": {},
   "outputs": [
    {
     "data": {
      "text/plain": [
       "set"
      ]
     },
     "execution_count": 2,
     "metadata": {},
     "output_type": "execute_result"
    }
   ],
   "source": [
    "data_set01 = set()\n",
    "type(data_set01)"
   ]
  },
  {
   "cell_type": "code",
   "execution_count": 3,
   "id": "40a7416c-d192-43f3-86b4-f027f2c201fe",
   "metadata": {},
   "outputs": [
    {
     "data": {
      "text/plain": [
       "{'LG', 'apple', 'dell', 'samsung'}"
      ]
     },
     "execution_count": 3,
     "metadata": {},
     "output_type": "execute_result"
    }
   ],
   "source": [
    "data_set02 = {\"apple\", \"dell\", \"samsung\", \"LG\"} #set은 {}에 속성을 띄지 않는 개별 값을 갖는 형식. set은 dict와 표현 방식{}내에 자료를 표현하는 기본구조가이 유사해, 내부 값을 형식을 꼭 확인해야함.\n",
    "data_set02"
   ]
  },
  {
   "cell_type": "code",
   "execution_count": 4,
   "id": "28bf3311-8e49-4ffe-9982-bfafde581f46",
   "metadata": {},
   "outputs": [],
   "source": [
    "data_set03 = set(\"apple\")\n",
    "data_set03"
   ]
  },
  {
   "cell_type": "code",
   "execution_count": null,
   "id": "67cedbaa-0a40-4a7d-b2fd-1f574a3e7f32",
   "metadata": {},
   "outputs": [],
   "source": [
    "data_set04 = set(\"sm\",\"jyp\") #set의 요소는 복수로 들어올 수 없음\n",
    "\n",
    "#복수로 표현하고 싶을때\n",
    "data_set04 = {\"sm\",\"jyp\"} #set 구조 형태로 변수에 할당하기"
   ]
  },
  {
   "cell_type": "code",
   "execution_count": 5,
   "id": "b3e96c7b-a4b6-4b5d-8877-409be38ed524",
   "metadata": {},
   "outputs": [
    {
     "name": "stdout",
     "output_type": "stream",
     "text": [
      "LG\n",
      "samsung\n",
      "apple\n",
      "dell\n"
     ]
    }
   ],
   "source": [
    "for data in data_set02 : #set의 특징 1, 이터러블한 객체로 반복, 조건문 활용 가능\n",
    "    print(data)"
   ]
  },
  {
   "cell_type": "code",
   "execution_count": 6,
   "id": "4b976269-7266-4304-9f41-49c63cbf53a8",
   "metadata": {},
   "outputs": [
    {
     "ename": "TypeError",
     "evalue": "'set' object is not subscriptable",
     "output_type": "error",
     "traceback": [
      "\u001b[1;31m---------------------------------------------------------------------------\u001b[0m",
      "\u001b[1;31mTypeError\u001b[0m                                 Traceback (most recent call last)",
      "Cell \u001b[1;32mIn[6], line 1\u001b[0m\n\u001b[1;32m----> 1\u001b[0m data_set02[\u001b[38;5;241m0\u001b[39m]\n",
      "\u001b[1;31mTypeError\u001b[0m: 'set' object is not subscriptable"
     ]
    }
   ],
   "source": [
    "data_set02[0] #set의 특징, 인덱스를 부여받지 않아 인덱스값 찾을 수 없음"
   ]
  },
  {
   "cell_type": "code",
   "execution_count": 8,
   "id": "837024ad-9e60-4b29-9b40-eee86ee385ff",
   "metadata": {},
   "outputs": [
    {
     "name": "stdout",
     "output_type": "stream",
     "text": [
      "False\n",
      "True\n"
     ]
    }
   ],
   "source": [
    "print(\"motorola\" in data_set02) #set의 특징, 인덱스는 없지만 특정한 데이터를 찾을 수 있음\n",
    "print(\"apple\" in data_set02) #결과값으로 boolean값으로 표출됨"
   ]
  },
  {
   "cell_type": "code",
   "execution_count": 9,
   "id": "f92cedbf-3c8f-41d9-9176-57492ea98c94",
   "metadata": {},
   "outputs": [],
   "source": [
    "#set의 본질, 다른 그룹과의 연산 中 합집합(중복 데이터 필터링 기능)\n",
    "data04 = {\"피카츄\",\"라이츄\",\"꼬북이\"}"
   ]
  },
  {
   "cell_type": "code",
   "execution_count": 10,
   "id": "830e5888-3348-4d4d-aa41-8483114518c5",
   "metadata": {},
   "outputs": [],
   "source": [
    "data05 = {\"잠만보\",\"파이리\",\"피카츄\"}"
   ]
  },
  {
   "cell_type": "code",
   "execution_count": 11,
   "id": "1e7cf8a7-e83f-41f3-a635-cbc1f1a9dc1d",
   "metadata": {},
   "outputs": [
    {
     "data": {
      "text/plain": [
       "{'피카츄'}"
      ]
     },
     "execution_count": 11,
     "metadata": {},
     "output_type": "execute_result"
    }
   ],
   "source": [
    "data04 & data05 #그룹 비교를 통해 교집합을 찾는 행위"
   ]
  },
  {
   "cell_type": "code",
   "execution_count": 12,
   "id": "200a768c-7715-431f-8e3d-5285fd950da4",
   "metadata": {},
   "outputs": [
    {
     "data": {
      "text/plain": [
       "{'꼬북이', '라이츄', '잠만보', '파이리', '피카츄'}"
      ]
     },
     "execution_count": 12,
     "metadata": {},
     "output_type": "execute_result"
    }
   ],
   "source": [
    "data04 | data05 #그룹 비교를 통해 합집합을 찾는 행위, 그 과정에서 중복 데이터 값을 필터링을 할 수 있음"
   ]
  },
  {
   "cell_type": "code",
   "execution_count": 15,
   "id": "1343752d-7873-47c9-9c36-89c8bd909adb",
   "metadata": {},
   "outputs": [
    {
     "data": {
      "text/plain": [
       "{'꼬북이', '라이츄'}"
      ]
     },
     "execution_count": 15,
     "metadata": {},
     "output_type": "execute_result"
    }
   ],
   "source": [
    "#그룹 비교를 통해 차집합을 찾는 행위\n",
    "data04 - data05 "
   ]
  },
  {
   "cell_type": "code",
   "execution_count": 16,
   "id": "58c2f058-83b9-47ac-8c6d-cf9c3a3a9c06",
   "metadata": {},
   "outputs": [
    {
     "data": {
      "text/plain": [
       "{'잠만보', '파이리'}"
      ]
     },
     "execution_count": 16,
     "metadata": {},
     "output_type": "execute_result"
    }
   ],
   "source": [
    "data05 - data04 "
   ]
  },
  {
   "cell_type": "code",
   "execution_count": 17,
   "id": "1cf757fe-3596-4288-bd4b-dc003046f0de",
   "metadata": {},
   "outputs": [
    {
     "data": {
      "text/plain": [
       "{'꼬북이', '라이츄', '잠만보', '파이리'}"
      ]
     },
     "execution_count": 17,
     "metadata": {},
     "output_type": "execute_result"
    }
   ],
   "source": [
    "data04 ^ data05 #그룹 비교를 통해 교집합을 제외한 나머지인 캐럿값을 찾는 행위"
   ]
  }
 ],
 "metadata": {
  "kernelspec": {
   "display_name": "Python [conda env:base] *",
   "language": "python",
   "name": "conda-base-py"
  },
  "language_info": {
   "codemirror_mode": {
    "name": "ipython",
    "version": 3
   },
   "file_extension": ".py",
   "mimetype": "text/x-python",
   "name": "python",
   "nbconvert_exporter": "python",
   "pygments_lexer": "ipython3",
   "version": "3.13.5"
  }
 },
 "nbformat": 4,
 "nbformat_minor": 5
}
