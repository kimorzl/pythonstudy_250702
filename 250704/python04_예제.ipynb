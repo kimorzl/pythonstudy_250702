{
 "cells": [
  {
   "cell_type": "markdown",
   "id": "80039cbd-5439-40d4-83f7-77b46aaaf703",
   "metadata": {},
   "source": [
    "- 사용자로부터 어떤 값을 받고, 해당 값을 한화(*한국돈)으로 바꿔서 출력되도록 해 주세요.\n",
    "ex. $100 입력시, 환율 1112원 -> 112,000원으로 출력"
   ]
  },
  {
   "cell_type": "code",
   "execution_count": 15,
   "id": "fcaf5adf-9168-4102-af00-b266a69be4fa",
   "metadata": {},
   "outputs": [
    {
     "name": "stdin",
     "output_type": "stream",
     "text": [
      "환전하고 싶은 달러를 입력해주세요, ex) 100달러 24820달러\n"
     ]
    },
    {
     "name": "stdout",
     "output_type": "stream",
     "text": [
      "당신이 가지고 있는 24820달러는 한화로 27599840원 입니다.\n"
     ]
    }
   ],
   "source": [
    "#input함수를 통해 사용자로부터 값을 받음\n",
    "#입력받은 값을 해당 환율로 계산\n",
    "# 한화로 계산된 값을 출력\n",
    "\n",
    "#풀이 1\n",
    "dollar = int(input(\"가지고 계신 달러를 입력해 주세요 : \"))\n",
    "krw = dollar*1112\n",
    "print(f\"당신이 가지고 있는 {dollar}달러는 한화로 {krw}원 입니다.\")\n"
   ]
  },
  {
   "cell_type": "code",
   "execution_count": null,
   "id": "d67cb215-7f2c-47b9-9e48-7eb08adeb963",
   "metadata": {},
   "outputs": [],
   "source": [
    "#1. 사용자에게 값을 받는다\n",
    "# int(), input() 사용\n",
    "#2. 사전에 환율을 정의해 특정 변수에 할당해 놓는다\n",
    "# 변수 정의만 하면 됨.\n",
    "#3. 사용자에게 받은 값을 사전에 정의해 놓은 환율과 계산\n",
    "# 연산자만 알면 됨\n",
    "#4. 사용자의 값과 환율을 계산한 결과값 출력\n",
    "# print() 사용\n",
    "\n",
    "#풀이2 (내가 한 풀이)\n",
    "price = input(\"환전하고 싶은 달러를 입력해주세요, ex) 100달러\")\n",
    "KRW = price.split(\"달러\")[0]\n",
    "#print(price1)\n",
    "exchange = int(price1)*1112\n",
    "print(f\"당신이 가지고 있는 {price1}달러는 한화로 {KRW}원 입니다.\")"
   ]
  },
  {
   "cell_type": "code",
   "execution_count": 16,
   "id": "0f1b3986-9f1d-434b-8049-1b4ba362805a",
   "metadata": {},
   "outputs": [
    {
     "name": "stdin",
     "output_type": "stream",
     "text": [
      "환전하고 싶은 달러를 입력해 주세요, ex) 100달러 :  15780달러\n"
     ]
    },
    {
     "name": "stdout",
     "output_type": "stream",
     "text": [
      "27,599,840원\n"
     ]
    }
   ],
   "source": [
    "#1. 사용자에게 값을 받는다\n",
    "# int(), input() 사용\n",
    "#2. 사전에 환율을 정의해 특정 변수에 할당해 놓는다\n",
    "# 변수 정의만 하면 됨.\n",
    "#3. 사용자에게 받은 값을 사전에 정의해 놓은 환율과 계산\n",
    "# 연산자만 알면 됨\n",
    "#4. 사용자의 값과 환율을 계산한 결과값 출력\n",
    "# print() 사용\n",
    "\n",
    "#풀이3 (선생님이 한 풀이)\n",
    "price1 = input(\"환전하고 싶은 달러를 입력해 주세요, ex) 100달러 : \")\n",
    "exchange = 1112\n",
    "\n",
    "dollar = int(price.replace(\"달러\",\"\")) #달러라는 글자를 공백으로 치환 후, 남은 값을 숫자(정수)로 변경한다\n",
    "result = dollar * exchange\n",
    "\n",
    "print(F\"{result:,}원\") #결과 값에 :,를 같이 입력해 주면 그 국가에 맞춰 쉼표 표기를 해줌"
   ]
  },
  {
   "cell_type": "markdown",
   "id": "c3b86f1e-376f-44f1-8a57-f93fda8fdd35",
   "metadata": {},
   "source": [
    "- 딕셔너리 자료구조로 달러의 환율을 1112원 설정, 위안화의 환율을 171월 설정, 엔화의 환율을 1010원 설정\n",
    "- 사용자가 원하는 달러, 엔화, 위안화 값을 입력했을때, 해당 값을 원화로 바꿔 출력하세요."
   ]
  },
  {
   "cell_type": "code",
   "execution_count": 39,
   "id": "161612a7-7bd1-4087-9089-a02681bbeddc",
   "metadata": {},
   "outputs": [
    {
     "name": "stdin",
     "output_type": "stream",
     "text": [
      "환전하고 싶은 금액을 입력해 주세요. ex) 100달러 :  10000엔화\n"
     ]
    },
    {
     "name": "stdout",
     "output_type": "stream",
     "text": [
      "당신이 보유한 엔화는 100,000.0원 입니다.\n"
     ]
    }
   ],
   "source": [
    "# 1. 딕셔너리에 달러 : 1112, 엔화 : 1010, 위안화 : 171 설정\n",
    "#2. 사용자에게 보유하고 있는 화폐 종류와 금액을 입력 받기\n",
    "#3. 화폐 종류에 따라 한화로 나타내어 출력 - 파싱을 사용해서 판단하기\n",
    "\n",
    "exchange_list = {\"달러\":1112, \"위안\":171, \"엔화\":1000}\n",
    "\n",
    "user_money = input(\"환전하고 싶은 금액을 입력해 주세요. ex) 100달러 : \")\n",
    "\n",
    "if user_money[-2:] == \"달러\":\n",
    "    print(f\"당신이 보유한 달러는 {exchange_list['달러'] * int(user_money[:-2]):,}원 입니다.\")\n",
    "elif user_money[-2:] == \"위안\":\n",
    "    print(f\"당신이 보유한 위안은 {exchange_list['위안'] * int(user_money[:-2]):,}원 입니다.\")\n",
    "elif user_money[-2:] == \"엔화\":\n",
    "    print(f\"당신이 보유한 엔화는 {exchange_list['엔화'] * int(user_money[:-2])/100:,}원 입니다.\")\n",
    "else:\n",
    "    print(\"달러, 위안, 엔화 중 환전하고 싶은 금액을 입력해 주세요.\")\n",
    "\n",
    "#if cash2 == 달러:\n",
    "#    result = int(cash1)*1112\n",
    "#    print(f\"당신이 보유한 달러는 {result :,}원 입니다\")\n",
    "#elif cash2 == 위안:\n",
    "#    result = int(cash1)*171\n",
    "#    print(f\"당신이 보유한 위안화는 {result :,}원 입니다\")\n",
    "#elif:\n",
    "#    result = int(cash1)*10.1\n",
    "#    print(f\"당신이 보유한 엔화는 {result :,}원 입니다\")\n"
   ]
  },
  {
   "cell_type": "code",
   "execution_count": 49,
   "id": "3a452e97-0f69-4da0-bab7-833d451ac751",
   "metadata": {},
   "outputs": [
    {
     "name": "stdout",
     "output_type": "stream",
     "text": [
      "----------\n",
      "- 구구단 2단 -\n",
      "----------\n",
      "\n",
      "\n",
      "2x1=2\n",
      "2x2=4\n",
      "2x3=6\n",
      "2x4=8\n",
      "2x5=10\n",
      "2x6=12\n",
      "2x7=14\n",
      "2x8=16\n",
      "2x9=18\n",
      "\n",
      "\n",
      "----------\n",
      "\n",
      "\n",
      "----------\n",
      "- 구구단 3단 -\n",
      "----------\n",
      "\n",
      "\n",
      "3x1=3\n",
      "3x2=6\n",
      "3x3=9\n",
      "3x4=12\n",
      "3x5=15\n",
      "3x6=18\n",
      "3x7=21\n",
      "3x8=24\n",
      "3x9=27\n",
      "\n",
      "\n",
      "----------\n",
      "\n",
      "\n",
      "----------\n",
      "- 구구단 4단 -\n",
      "----------\n",
      "\n",
      "\n",
      "4x1=4\n",
      "4x2=8\n",
      "4x3=12\n",
      "4x4=16\n",
      "4x5=20\n",
      "4x6=24\n",
      "4x7=28\n",
      "4x8=32\n",
      "4x9=36\n",
      "\n",
      "\n",
      "----------\n",
      "\n",
      "\n",
      "----------\n",
      "- 구구단 5단 -\n",
      "----------\n",
      "\n",
      "\n",
      "5x1=5\n",
      "5x2=10\n",
      "5x3=15\n",
      "5x4=20\n",
      "5x5=25\n",
      "5x6=30\n",
      "5x7=35\n",
      "5x8=40\n",
      "5x9=45\n",
      "\n",
      "\n",
      "----------\n",
      "\n",
      "\n",
      "----------\n",
      "- 구구단 6단 -\n",
      "----------\n",
      "\n",
      "\n",
      "6x1=6\n",
      "6x2=12\n",
      "6x3=18\n",
      "6x4=24\n",
      "6x5=30\n",
      "6x6=36\n",
      "6x7=42\n",
      "6x8=48\n",
      "6x9=54\n",
      "\n",
      "\n",
      "----------\n",
      "\n",
      "\n",
      "----------\n",
      "- 구구단 7단 -\n",
      "----------\n",
      "\n",
      "\n",
      "7x1=7\n",
      "7x2=14\n",
      "7x3=21\n",
      "7x4=28\n",
      "7x5=35\n",
      "7x6=42\n",
      "7x7=49\n",
      "7x8=56\n",
      "7x9=63\n",
      "\n",
      "\n",
      "----------\n",
      "\n",
      "\n",
      "----------\n",
      "- 구구단 8단 -\n",
      "----------\n",
      "\n",
      "\n",
      "8x1=8\n",
      "8x2=16\n",
      "8x3=24\n",
      "8x4=32\n",
      "8x5=40\n",
      "8x6=48\n",
      "8x7=56\n",
      "8x8=64\n",
      "8x9=72\n",
      "\n",
      "\n",
      "----------\n",
      "\n",
      "\n",
      "----------\n",
      "- 구구단 9단 -\n",
      "----------\n",
      "\n",
      "\n",
      "9x1=9\n",
      "9x2=18\n",
      "9x3=27\n",
      "9x4=36\n",
      "9x5=45\n",
      "9x6=54\n",
      "9x7=63\n",
      "9x8=72\n",
      "9x9=81\n",
      "\n",
      "\n",
      "----------\n",
      "\n",
      "\n"
     ]
    }
   ],
   "source": [
    "#구구단 계산하는 방법 - 중첩반복문\n",
    "# 2~9단까지 => 숫자가 2부터 9까지 반복순회 (for-in range)\n",
    "# 피연산자로 1부터 9까지 반복순회 필요 (for-in range)\n",
    "\n",
    "\n",
    "for num01 in range(2,10):\n",
    "    print(\"----------\")\n",
    "    print(f\"- 구구단 {num01}단 -\")\n",
    "    print(\"----------\")\n",
    "    print(\"\\n\")\n",
    "    for num02 in range(1,10):\n",
    "        print(f\"{num01}x{num02}={num01*num02}\")\n",
    "    print(\"\\n\")\n",
    "    print(\"----------\")\n",
    "    print(\"\\n\")"
   ]
  },
  {
   "cell_type": "markdown",
   "id": "ad603f6b-d167-4462-a870-d4825b0bd3a0",
   "metadata": {},
   "source": [
    "- 위에서 작성한 코드를 활용해 다음과 같은 결과를 출력해 주세요.\n",
    "- 구구단 2~9단까지 출력하되, 계산된 결과값이 짝수인 경우만 출력\n",
    "ex. 3x3=9이기때문에 출력되면 안됨, 2x4=8이기 때문에 출력되어야 함\n"
   ]
  },
  {
   "cell_type": "code",
   "execution_count": 56,
   "id": "65bde077-6432-4623-8647-b22adc39999e",
   "metadata": {},
   "outputs": [
    {
     "name": "stdout",
     "output_type": "stream",
     "text": [
      "--------------------------------------------\n",
      "- 구구단 2단 중 결과값이 짝수인 값-\n",
      "--------------------------------------------\n",
      "2x1=2\n",
      "2x2=4\n",
      "2x3=6\n",
      "2x4=8\n",
      "2x5=10\n",
      "2x6=12\n",
      "2x7=14\n",
      "2x8=16\n",
      "2x9=18\n",
      "\n",
      "\n",
      "--------------------------------------------\n",
      "- 구구단 3단 중 결과값이 짝수인 값-\n",
      "--------------------------------------------\n",
      "3x2=6\n",
      "3x4=12\n",
      "3x6=18\n",
      "3x8=24\n",
      "\n",
      "\n",
      "--------------------------------------------\n",
      "- 구구단 4단 중 결과값이 짝수인 값-\n",
      "--------------------------------------------\n",
      "4x1=4\n",
      "4x2=8\n",
      "4x3=12\n",
      "4x4=16\n",
      "4x5=20\n",
      "4x6=24\n",
      "4x7=28\n",
      "4x8=32\n",
      "4x9=36\n",
      "\n",
      "\n",
      "--------------------------------------------\n",
      "- 구구단 5단 중 결과값이 짝수인 값-\n",
      "--------------------------------------------\n",
      "5x2=10\n",
      "5x4=20\n",
      "5x6=30\n",
      "5x8=40\n",
      "\n",
      "\n",
      "--------------------------------------------\n",
      "- 구구단 6단 중 결과값이 짝수인 값-\n",
      "--------------------------------------------\n",
      "6x1=6\n",
      "6x2=12\n",
      "6x3=18\n",
      "6x4=24\n",
      "6x5=30\n",
      "6x6=36\n",
      "6x7=42\n",
      "6x8=48\n",
      "6x9=54\n",
      "\n",
      "\n",
      "--------------------------------------------\n",
      "- 구구단 7단 중 결과값이 짝수인 값-\n",
      "--------------------------------------------\n",
      "7x2=14\n",
      "7x4=28\n",
      "7x6=42\n",
      "7x8=56\n",
      "\n",
      "\n",
      "--------------------------------------------\n",
      "- 구구단 8단 중 결과값이 짝수인 값-\n",
      "--------------------------------------------\n",
      "8x1=8\n",
      "8x2=16\n",
      "8x3=24\n",
      "8x4=32\n",
      "8x5=40\n",
      "8x6=48\n",
      "8x7=56\n",
      "8x8=64\n",
      "8x9=72\n",
      "\n",
      "\n",
      "--------------------------------------------\n",
      "- 구구단 9단 중 결과값이 짝수인 값-\n",
      "--------------------------------------------\n",
      "9x2=18\n",
      "9x4=36\n",
      "9x6=54\n",
      "9x8=72\n",
      "\n",
      "\n"
     ]
    }
   ],
   "source": [
    "for num01 in range(2,10):\n",
    "    print(\"--------------------------------------------\")\n",
    "    print(f\"- 구구단 {num01}단 중 결과값이 짝수인 값-\")\n",
    "    print(\"--------------------------------------------\")\n",
    "    for num02 in range(1,10):\n",
    "        if num01*num02%2==0:\n",
    "            print(f\"{num01}x{num02}={num01*num02}\")\n",
    "    print(\"\\n\")        \n",
    "        "
   ]
  },
  {
   "cell_type": "markdown",
   "id": "4360e1a3-eb51-45c0-975e-9594d21d8ed4",
   "metadata": {},
   "source": [
    "dongs = [\"6209동\",\"6208동\",\"6207동\"]\n",
    "hos = [\"101호\",\"102호\",\"103호\", \"104호\"]\n",
    "\n",
    "```\n",
    "6209동 101호\n",
    "6209동 102호\n",
    "...\n",
    "6207동 103호\n",
    "6207동 104호\n",
    "```\n",
    "의 형식으로 출력해라."
   ]
  },
  {
   "cell_type": "code",
   "execution_count": 63,
   "id": "da115650-81f8-4892-bc41-c0c2a6c9ece1",
   "metadata": {},
   "outputs": [
    {
     "name": "stdout",
     "output_type": "stream",
     "text": [
      "6209동 주소 입니다\n",
      "당신의 주소는6209동 101호입니다.\n",
      "당신의 주소는6209동 102호입니다.\n",
      "당신의 주소는6209동 103호입니다.\n",
      "당신의 주소는6209동 104호입니다.\n",
      "\n",
      "\n",
      "6208동 주소 입니다\n",
      "당신의 주소는6208동 101호입니다.\n",
      "당신의 주소는6208동 102호입니다.\n",
      "당신의 주소는6208동 103호입니다.\n",
      "당신의 주소는6208동 104호입니다.\n",
      "\n",
      "\n",
      "6207동 주소 입니다\n",
      "당신의 주소는6207동 101호입니다.\n",
      "당신의 주소는6207동 102호입니다.\n",
      "당신의 주소는6207동 103호입니다.\n",
      "당신의 주소는6207동 104호입니다.\n",
      "\n",
      "\n"
     ]
    }
   ],
   "source": [
    "#풀이 1 (내가 한 것)\n",
    "\n",
    "dongs = [\"6209동\",\"6208동\",\"6207동\"] \n",
    "hos = [\"101호\",\"102호\",\"103호\", \"104호\"]\n",
    "\n",
    "for apt_dongs in dongs:\n",
    "    print(f\"{apt_dongs} 주소 입니다\")\n",
    "    for apt_hos in hos:\n",
    "        print(f\"당신의 주소는{apt_dongs} {apt_hos}입니다.\")\n",
    "    print(\"\\n\")"
   ]
  },
  {
   "cell_type": "code",
   "execution_count": 65,
   "id": "026c6b4e-b69a-48a6-b13a-6a735cd9ef3d",
   "metadata": {},
   "outputs": [
    {
     "name": "stdout",
     "output_type": "stream",
     "text": [
      "6209동 101호\n",
      "6209동 102호\n",
      "6209동 103호\n",
      "6209동 104호\n",
      "\n",
      "6208동 101호\n",
      "6208동 102호\n",
      "6208동 103호\n",
      "6208동 104호\n",
      "\n",
      "6207동 101호\n",
      "6207동 102호\n",
      "6207동 103호\n",
      "6207동 104호\n",
      "\n"
     ]
    }
   ],
   "source": [
    "#풀이 2 (선생님이 한 것)\n",
    "dongs = [\"6209동\",\"6208동\",\"6207동\"] \n",
    "hos = [\"101호\",\"102호\",\"103호\", \"104호\"]\n",
    "\n",
    "for item_1 in dongs:\n",
    "    for item_2 in hos:\n",
    "        print(item_1, item_2)\n",
    "    print()"
   ]
  },
  {
   "cell_type": "code",
   "execution_count": 67,
   "id": "a1903caa-783c-45a4-a27f-ab32f034d406",
   "metadata": {},
   "outputs": [
    {
     "name": "stdout",
     "output_type": "stream",
     "text": [
      "('coding01', 'coding02', 'coding03', 'coding04')\n"
     ]
    }
   ],
   "source": [
    "# 주어진 튜플 데이터에서 coding04를 추가하라\n",
    "tupledata = (\"coding01\",\"coding02\",\"coding03\")\n",
    "temp_list = list(tupledata)\n",
    "temp_list.append(\"coding04\")\n",
    "result = tuple(temp_list)\n",
    "print(result)"
   ]
  },
  {
   "cell_type": "code",
   "execution_count": 72,
   "id": "85321416-b9e4-4a88-a271-63cce7af7575",
   "metadata": {},
   "outputs": [
    {
     "data": {
      "text/plain": [
       "('coding01', 'coding02', 'coding03', 'coding4')"
      ]
     },
     "execution_count": 72,
     "metadata": {},
     "output_type": "execute_result"
    }
   ],
   "source": [
    "#위 코딩 축약형\n",
    "tuple(list(tupledata) + [\"coding4\"])"
   ]
  },
  {
   "cell_type": "markdown",
   "id": "5f57f59e-9aa0-418a-8cb6-a5addcfed379",
   "metadata": {},
   "source": [
    "- 딕셔너리 형태의 자료구조를 생성 후, 아래와 같이 값을 출력해주세요.\n",
    "\n",
    "  ```\n",
    "  environment : 환경\n",
    "  company : 회사\n",
    "  government : 정부\n",
    "  face : 얼굴\n",
    "  ```"
   ]
  },
  {
   "cell_type": "code",
   "execution_count": 84,
   "id": "20dc2896-a6b6-40b7-addc-3cb20e0f7fda",
   "metadata": {},
   "outputs": [
    {
     "name": "stdout",
     "output_type": "stream",
     "text": [
      "environment : 환경\n",
      "company : 회사\n",
      "government : 정부\n",
      "face : 얼굴\n"
     ]
    }
   ],
   "source": [
    "#풀이1(내가 푼 것)\n",
    "dict_data = {\n",
    "    \"environment\" : \"환경\",\n",
    "    \"company\" : \"회사\",\n",
    "    \"government\" : \"정부\",\n",
    "    \"face\" : \"얼굴\"\n",
    "}\n",
    "\n",
    "\n",
    "key_list = list(keys)\n",
    "value_list = list(values)\n",
    "\n",
    "for n in range(0,4) :\n",
    "    print(key_list[n],\":\",value_list[n])\n",
    "    "
   ]
  },
  {
   "cell_type": "code",
   "execution_count": 87,
   "id": "b6e4b544-89af-43bf-bbc3-6d6419344f9b",
   "metadata": {},
   "outputs": [
    {
     "name": "stdout",
     "output_type": "stream",
     "text": [
      "environment : 환경\n",
      "company : 회사\n",
      "government : 정부\n",
      "face : 얼굴\n"
     ]
    }
   ],
   "source": [
    "#풀이2 (선생님이 푼 것)\n",
    "data = {\n",
    "    \"environment\" : \"환경\",\n",
    "    \"company\" : \"회사\",\n",
    "    \"government\" : \"정부\",\n",
    "    \"face\" : \"얼굴\"\n",
    "}\n",
    "\n",
    "for item in data.keys():\n",
    "    print(f\"{item} : {data[item]}\")\n"
   ]
  },
  {
   "cell_type": "code",
   "execution_count": 91,
   "id": "b307a559-5ca8-4773-aa0b-86c4a4a471cc",
   "metadata": {},
   "outputs": [
    {
     "name": "stdout",
     "output_type": "stream",
     "text": [
      "environment : ['환경', 'x']\n",
      "company : ['회사', 'o']\n",
      "government : ['정부', 'o']\n",
      "face : ['얼굴', 'x']\n"
     ]
    }
   ],
   "source": [
    "# dict에 정보 추가할때\n",
    "data1 = {\n",
    "    \"environment\" : [\"환경\", \"x\"],\n",
    "    \"company\" : [\"회사\", \"o\"],\n",
    "    \"government\" : [\"정부\",\"o\"],\n",
    "    \"face\" : [\"얼굴\",\"x\"]\n",
    "}\n",
    "\n",
    "for item in data1.keys():\n",
    "    print(f\"{item} : {data1[item]}\")\n"
   ]
  },
  {
   "cell_type": "markdown",
   "id": "a0ed6177-9ac6-46fc-8392-9bb168e2059f",
   "metadata": {},
   "source": [
    "- 사용자로부터 사전에 등록되어있는 단어들 중 1개를 입력받고, 입력받은 단어의 겨우 o표시로 수정하고 아직 외우지 못한 단어들만 출력하는 프로그램 코드를 작성해주세요."
   ]
  },
  {
   "cell_type": "code",
   "execution_count": 94,
   "id": "c2db4bdc-785e-4a71-b5ce-db2d4470665d",
   "metadata": {},
   "outputs": [
    {
     "name": "stdin",
     "output_type": "stream",
     "text": [
      "단어를 입력해 주세요. face\n"
     ]
    },
    {
     "name": "stdout",
     "output_type": "stream",
     "text": [
      "environment:['얼굴', 'x']\n",
      "company:['얼굴', 'x']\n",
      "government:['얼굴', 'x']\n",
      "face:['얼굴', 'x']\n"
     ]
    }
   ],
   "source": [
    "# 1. dict를 생성\n",
    "# 2. 사용자 값을 입력받음\n",
    "# 3. 사용자가 값을 입력 할 경우, dict 데이터 안에 자료가 있으면 o로 바꾸기\n",
    "# 4. 입력받지 못한 값은 외우지 못한 단어들로 인식해 출력\n",
    "\n",
    "data2 = {\n",
    "    \"environment\" : [\"환경\", \"x\"],\n",
    "    \"company\" : [\"회사\", \"o\"],\n",
    "    \"government\" : [\"정부\",\"o\"],\n",
    "    \"face\" : [\"얼굴\",\"x\"]\n",
    "}\n",
    "\n",
    "memories = input(\"단어를 입력해 주세요.\")\n",
    "\n",
    "# 내가 한 풀이 (오답)\n",
    "for memories in data.keys():\n",
    "    if memories == keys:\n",
    "        data2.replace9(\"x\",\"o\")\n",
    "    print(f\"{memories}:{data2[item]}\")\n",
    "    "
   ]
  },
  {
   "cell_type": "code",
   "execution_count": 100,
   "id": "85b1101c-56e0-4757-8b01-fab54d0d2dba",
   "metadata": {},
   "outputs": [
    {
     "name": "stdin",
     "output_type": "stream",
     "text": [
      "외운 단어를 입력해 주세요. :  company\n"
     ]
    },
    {
     "name": "stdout",
     "output_type": "stream",
     "text": [
      "environment\n",
      "face\n"
     ]
    }
   ],
   "source": [
    "data3 = {\n",
    "    \"environment\" : [\"환경\", \"x\"],\n",
    "    \"company\" : [\"회사\", \"o\"],\n",
    "    \"government\" : [\"정부\",\"o\"],\n",
    "    \"face\" : [\"얼굴\",\"x\"]\n",
    "}\n",
    "\n",
    "english = input(\"외운 단어를 입력해 주세요. : \")\n",
    "\n",
    "if english in data3.keys():\n",
    "    data3[english][1]=\"o\"\n",
    "else:\n",
    "    print(\"사전에 존재하지 않는 단어입니다!\") #유효성 검사\n",
    "\n",
    "for item in data3.keys():\n",
    "    data_list = data3[item]\n",
    "    if data_list[1] == \"x\":\n",
    "        print(item)"
   ]
  },
  {
   "cell_type": "markdown",
   "id": "7cb80f23-506d-48ca-9205-2d8b7949bc25",
   "metadata": {},
   "source": [
    "- dict_all = {\"environment\" : \"환경\", \"government\" : \"정부\"}\n",
    "- dict2 = {\"company\" : \"회사\", \"face\" : \"얼굴\"}\n",
    "- dict3 = {\"apple\":\"사과\"}\n",
    "\n",
    "1. dict_all안에 dict2와 dict3의 값을 모두 넣어주세요.\n",
    "2. dict_all 값을 출력해 주세요."
   ]
  },
  {
   "cell_type": "code",
   "execution_count": 110,
   "id": "b1aa7d30-6804-4843-8bf6-f53d35f30040",
   "metadata": {},
   "outputs": [
    {
     "data": {
      "text/plain": [
       "{'environment': '환경',\n",
       " 'government': '정부',\n",
       " 'comepany': '회사',\n",
       " 'face': '얼굴',\n",
       " 'apple': '사과'}"
      ]
     },
     "execution_count": 110,
     "metadata": {},
     "output_type": "execute_result"
    }
   ],
   "source": [
    "dict_all = {\"environment\" : \"환경\", \"government\" : \"정부\"}\n",
    "dict2 = {\"company\" : \"회사\", \"face\" : \"얼굴\"}\n",
    "dict3 = {\"apple\":\"사과\"}\n",
    "\n",
    "dict_all[\"comepany\"]=\"회사\"\n",
    "dict_all[\"face\"]=\"얼굴\"\n",
    "dict_all[\"apple\"]=\"사과\"\n",
    "\n",
    "dict_all"
   ]
  },
  {
   "cell_type": "code",
   "execution_count": 107,
   "id": "78887ff5-99f0-42b4-9304-f7f6750c8afd",
   "metadata": {},
   "outputs": [
    {
     "data": {
      "text/plain": [
       "{'environment': '환경',\n",
       " 'government': '정부',\n",
       " 'company': '회사',\n",
       " 'face': '얼굴',\n",
       " 'apple': '사과'}"
      ]
     },
     "execution_count": 107,
     "metadata": {},
     "output_type": "execute_result"
    }
   ],
   "source": [
    "dict_all = {\"environment\" : \"환경\", \"government\" : \"정부\"}\n",
    "dict2 = {\"company\" : \"회사\", \"face\" : \"얼굴\"}\n",
    "dict3 = {\"apple\":\"사과\"}\n",
    "\n",
    "for item in dict2.keys():\n",
    "    dict_all[item]=dict2[item]\n",
    "for item in dict3.keys():\n",
    "    dict_all[item]=dict3[item]\n",
    "\n",
    "dict_all"
   ]
  },
  {
   "cell_type": "code",
   "execution_count": 113,
   "id": "ccfc0691-d8e2-46a6-b2d4-6bdacfb8facc",
   "metadata": {},
   "outputs": [
    {
     "data": {
      "text/plain": [
       "{1, 3, 4, 5, 6, 7, 8, 9, 10}"
      ]
     },
     "execution_count": 113,
     "metadata": {},
     "output_type": "execute_result"
    }
   ],
   "source": [
    "#set연습\n",
    "\n",
    "number_list={1,2,3}\n",
    "number_list.add(4) #set은 add를 통해 자료 추가가 가능\n",
    "#number_list.add(5,6) #단, add를 사용할때 1개의 argument만 추가 가능\n",
    "number_list.update([5,6,7,8,9,10]) #set에 복수의 데이터를 추가할때는 update를 사용. 단, 추가되는 복수의 값은 이터러블해야함 (list, tuple)\n",
    "number_list.remove(2) #set은 remove를 통해 자료 삭제가 가능\n",
    "\n",
    "number_list"
   ]
  },
  {
   "cell_type": "code",
   "execution_count": null,
   "id": "4068d67f-3842-4664-b351-fb8c1e438d1a",
   "metadata": {},
   "outputs": [],
   "source": [
    "- 임의의 숫자 2개를 사용자에게 받아 주세요.\n",
    "- 2개의 숫자를 곱한 값을 판환하는 함수 생성\n",
    "- 함수의 결과값을 화면에 출력해주세요."
   ]
  },
  {
   "cell_type": "code",
   "execution_count": 123,
   "id": "e7e1473c-3ec6-4052-9fcd-35896897cb77",
   "metadata": {},
   "outputs": [
    {
     "name": "stdin",
     "output_type": "stream",
     "text": [
      "첫번째 숫자를 입력해 주세요 : 3\n",
      "두번째 숫자를 입력해 주세요 : 8\n"
     ]
    },
    {
     "name": "stdout",
     "output_type": "stream",
     "text": [
      "입력한 두 숫자의 곱은 : 24 입니다\n"
     ]
    }
   ],
   "source": [
    "#풀이1 (내가 푼 것)\n",
    "user_int1 = int(input(\"첫번째 숫자를 입력해 주세요 :\"))\n",
    "user_int2 = int(input(\"두번째 숫자를 입력해 주세요 :\"))\n",
    "\n",
    "def multifly(user_int1,user_int2):\n",
    "    result = user_int1*user_int2\n",
    "    print(\"입력한 두 숫자의 곱은 :\",result,\"입니다\")\n",
    "\n",
    "multifly(user_int1, user_int2)\n",
    "\n"
   ]
  },
  {
   "cell_type": "code",
   "execution_count": 125,
   "id": "6b1d9dc9-81b7-4f6f-8248-57be64a6a9d6",
   "metadata": {},
   "outputs": [
    {
     "name": "stdin",
     "output_type": "stream",
     "text": [
      "첫번째 숫자를 입력해 주세요 : 8\n",
      "첫번째 숫자를 입력해 주세요 : 4\n"
     ]
    },
    {
     "name": "stdout",
     "output_type": "stream",
     "text": [
      "32\n"
     ]
    }
   ],
   "source": [
    "#풀이2 (수강생들이 돌아가며 1줄씩 완성)\n",
    "num1 = int(input(\"첫번째 숫자를 입력해 주세요 :\"))\n",
    "num2 = int(input(\"첫번째 숫자를 입력해 주세요 :\"))\n",
    "\n",
    "def f1(num1,num2):\n",
    "    return num1*num2\n",
    "    \n",
    "print(f1(num1,num2))\n",
    "    "
   ]
  },
  {
   "cell_type": "code",
   "execution_count": 126,
   "id": "1333be77-7717-4a0f-b82d-c2b3632f6b24",
   "metadata": {},
   "outputs": [
    {
     "name": "stdin",
     "output_type": "stream",
     "text": [
      "숫자를 입력하세요! 4\n",
      "숫자를 입력하세요! 7\n"
     ]
    },
    {
     "name": "stdout",
     "output_type": "stream",
     "text": [
      "28\n"
     ]
    }
   ],
   "source": [
    "#풀이3 (선생님의 풀이)\n",
    "num_all = [int(input(\"숫자를 입력하세요!\")) for _ in range(2)]\n",
    "\n",
    "def f1(num1,num2):\n",
    "    return num1*num2\n",
    "\n",
    "print(f1(num_all[0],num_all[1]))"
   ]
  },
  {
   "cell_type": "markdown",
   "id": "c60bb06d-0580-4cbd-ad94-ba47bc7571ca",
   "metadata": {},
   "source": [
    "- 인자값 3개를 받을 수 있는 함수를 호출합니다.\n",
    "- func1(인자값1, 인자값2, 인자값3)\n",
    "- 해당 함수의 3번째 인자값이 +이면 첫번째 인자값과 두번째 인자값을 더한 결과값을 반환하도록 해주시고\n",
    "- 만약, 3번째 인자값이 *라면 첫번째 인자값과 두번째 인자값을 곱한 결과값을 반환해주세요.\n",
    "- 그런데 만약 3번째 인자값이 +, * 두가지가 아니라면 무조건 0이라는 값을 반환하는 함수를 만들어주세요."
   ]
  },
  {
   "cell_type": "code",
   "execution_count": 145,
   "id": "ea22d785-230e-42a8-b8c5-7398a74983a1",
   "metadata": {},
   "outputs": [
    {
     "name": "stdout",
     "output_type": "stream",
     "text": [
      "0\n"
     ]
    }
   ],
   "source": [
    "#풀이1 (내가 한 것)\n",
    "def func1(a,b,c):\n",
    "    if c == \"+\":\n",
    "        result = a+b\n",
    "        print(result)\n",
    "    elif c == \"*\":\n",
    "        result1 = a*b\n",
    "        print(result1)\n",
    "    else:\n",
    "        print(\"0\")\n",
    "\n",
    "func1(4,3,\"-\")   "
   ]
  },
  {
   "cell_type": "code",
   "execution_count": 146,
   "id": "ac17985f-fe93-4837-ae0c-cff4262fa7d7",
   "metadata": {},
   "outputs": [
    {
     "name": "stdout",
     "output_type": "stream",
     "text": [
      "3\n",
      "6\n",
      "0\n"
     ]
    }
   ],
   "source": [
    "#풀이2 (선생님의 풀이)\n",
    "\n",
    "def calc(data1, data2, way):\n",
    "    if way == \"+\":\n",
    "        return data1+data2\n",
    "    elif way == \"*\":\n",
    "        return data1*data2\n",
    "    else:\n",
    "        return 0\n",
    "\n",
    "data01 = calc(1,2,\"+\")\n",
    "data02 = calc(3,2,\"*\")\n",
    "data03 = calc(2,4,\"-\")\n",
    "print(data01)\n",
    "print(data02)\n",
    "print(data03)"
   ]
  }
 ],
 "metadata": {
  "kernelspec": {
   "display_name": "Python [conda env:base] *",
   "language": "python",
   "name": "conda-base-py"
  },
  "language_info": {
   "codemirror_mode": {
    "name": "ipython",
    "version": 3
   },
   "file_extension": ".py",
   "mimetype": "text/x-python",
   "name": "python",
   "nbconvert_exporter": "python",
   "pygments_lexer": "ipython3",
   "version": "3.13.5"
  }
 },
 "nbformat": 4,
 "nbformat_minor": 5
}
