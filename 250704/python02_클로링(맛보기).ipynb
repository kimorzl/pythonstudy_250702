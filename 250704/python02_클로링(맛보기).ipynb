{
 "cells": [
  {
   "cell_type": "markdown",
   "id": "ef141ef6-7a10-4a51-813f-d6bd0d674cc5",
   "metadata": {},
   "source": [
    "#### 웹사이트 데이터를 크롤링 해오자\n",
    "- 크롤링 : 어떠한 정보를 찾아 가져오는 방식 (동물에 비유, 발톱 및 갈퀴로 사냥감을 낚아채는 행위)\n",
    "- 과거부터 모든 프로그래밍 언어에서 사용되어오던 기능\n",
    "- 단, 타 언어 대비 파이썬의 문법은 간소&심플의 특성으로 초심자 학습에 적합함\n",
    "- 파이썬은 비개발자도 쉽고 빠르게 개발언어를 활용해 크롤링을 할 수 있도록 도와주는 유일한 언어\n",
    "- 파이썬은 내부/외부 라이브러리 소스를 자유자재로 활용가능한 기회, 상황을 다수 보유하고 있음 => 타 언어와의 차이(타 언어가 어려운 이유)\n",
    "- 단, 라이브러리를 활용해야하는 문법을 별도 학습이 필요.\n",
    "\n",
    "** 크롤링을 하기 위해서는 web의 구조를 알아야함!! **\n",
    "  \n",
    "#### 크롤링 시 가장 많이 활용하는 2가지 라이브러리\n",
    "- requests : 크롤링 해오고자하는 웹사이트를 요청 => HTML 문서 안에 있는 코드를 가져오는 역할\n",
    "- beautifulsoup4 : requests를 통해 찾아온 HTML문서를 파싱(parsing)하는 역할\n",
    "    * parsing : 문자열이나 데이터 구조를 일정한 규칙에 따라 분석하여 구조화시키는 과정\n",
    "\n",
    "\n",
    "#### web사이트 변환의 역사\n",
    "- 웹 시장 = static (정적임) -> dynamic(동적임)\n",
    "- dynamic site로 변환하기 위해서는 HTML + CSS의 기본 web구조에 JAVA Script (단, JAVA Script의 내용이 많이 쌓일수록 반응 속도가 느려짐)\n",
    "- React (single page application) 라이브러리의 등장 : meta가 web을 Dynamic하며 빠른 구동성을 지니기 위해 만든 것\n",
    "    * Java Script를 모듈화하여 구동성의 속도를 저하시키지 않는 방법을 구현 \n",
    "- module bundler를 활용\n",
    "\n",
    "#### 프레임워크 vs 라이브러리\n",
    "- 라이브러리에 대한 주도권은 언어를 가지고 있음\n",
    "  * 사용하는 언어 문법에 최적화 되어진 라이브러리를 찾아 활용하는 것\n",
    "- 프레임워크는 그에 맞춘 독단적 문법을 보유하고 있음 (주도권을 언어가 아닌 프레임워크 자체가 보유함)\n",
    "\n",
    "#### 라이브러리의 종류\n",
    "- 내장 라이브러리 : 파이썬 혹은 언어 안에 속해있는 라이브러리\n",
    "- 외장 라이브러리 : 파이썬 혹은 언어 안에 속해있지 않아 따로 다운로드, 활용하기 위한 설치가 필요\n",
    "  * 라이브러리 설치 방법 : pip install 라이브러리명, 한번에 여러개 설치할 수 있음 (pip install 라이브러리1 라이브러리2 라이브러리3 ..."
   ]
  },
  {
   "cell_type": "code",
   "execution_count": 1,
   "id": "0e2b918a-4aa2-4e3f-9d1b-220f04665ebd",
   "metadata": {},
   "outputs": [
    {
     "name": "stdout",
     "output_type": "stream",
     "text": [
      "Defaulting to user installation because normal site-packages is not writeable\n",
      "Requirement already satisfied: requests in c:\\programdata\\anaconda3\\lib\\site-packages (2.32.3)\n",
      "Requirement already satisfied: charset-normalizer<4,>=2 in c:\\programdata\\anaconda3\\lib\\site-packages (from requests) (3.3.2)\n",
      "Requirement already satisfied: idna<4,>=2.5 in c:\\programdata\\anaconda3\\lib\\site-packages (from requests) (3.7)\n",
      "Requirement already satisfied: urllib3<3,>=1.21.1 in c:\\programdata\\anaconda3\\lib\\site-packages (from requests) (2.3.0)\n",
      "Requirement already satisfied: certifi>=2017.4.17 in c:\\programdata\\anaconda3\\lib\\site-packages (from requests) (2025.6.15)\n",
      "Note: you may need to restart the kernel to use updated packages.\n"
     ]
    }
   ],
   "source": [
    "pip install requests"
   ]
  },
  {
   "cell_type": "code",
   "execution_count": 4,
   "id": "ad096049-30e5-4167-8905-7608186069e3",
   "metadata": {},
   "outputs": [
    {
     "name": "stdout",
     "output_type": "stream",
     "text": [
      "Defaulting to user installation because normal site-packages is not writeable\n",
      "Requirement already satisfied: beautifulsoup4 in c:\\programdata\\anaconda3\\lib\\site-packages (4.12.3)\n",
      "Requirement already satisfied: soupsieve>1.2 in c:\\programdata\\anaconda3\\lib\\site-packages (from beautifulsoup4) (2.5)\n",
      "Note: you may need to restart the kernel to use updated packages.\n"
     ]
    }
   ],
   "source": [
    "pip install beautifulsoup4"
   ]
  },
  {
   "cell_type": "code",
   "execution_count": 22,
   "id": "159fa054-b020-4cba-8979-22983ad4e10e",
   "metadata": {},
   "outputs": [
    {
     "name": "stdout",
     "output_type": "stream",
     "text": [
      "1. 상품 카테고리 => 매트리스커버 관련 상품 추천 / 상품이미지 => https://static.coupangcdn.com/image/retail/images/2017/10/11/16/6/bf3b2157-528d-4b24-9991-b601a24f4c6f.jpg\n",
      "2. 상품 카테고리 => 매트리스커버 관련 상품 추천 / 상품이미지 => https://static.coupangcdn.com/image/product/image/vendoritem/2018/11/28/3647689009/d72a996d-1e4e-42be-a23c-f9f6872214bb.jpg\n",
      "3. 상품 카테고리 => 매트리스커버 관련 상품 추천 / 상품이미지 => https://static.coupangcdn.com/image/product/image/vendoritem/2019/06/11/3361297461/699c49cc-5f9f-4927-ab26-b184f90c1571.jpg\n",
      "4. 상품 카테고리 => 매트리스커버 관련 상품 추천 / 상품이미지 => https://static.coupangcdn.com/image/retail/images/2018/10/26/16/9/c6dfa004-442c-4f48-9ff1-b76d81bae046.jpg\n",
      "5. 상품 카테고리 => 매트리스커버 관련 상품 추천 / 상품이미지 => https://static.coupangcdn.com/image/retail/images/2019/04/01/22/6/f9566f49-cf8c-48dd-bc73-b543a3f47f62.jpg\n",
      "6. 상품 카테고리 => 매트리스커버 관련 상품 추천 / 상품이미지 => https://static.coupangcdn.com/image/retail/images/12859794410743-0ab1b2fe-1cd4-4599-b38a-3fb22f3bf620.jpg\n",
      "7. 상품 카테고리 => 매트리스커버 관련 상품 추천 / 상품이미지 => https://static.coupangcdn.com/image/retail/images/2019/03/28/19/3/2d9f9b52-0cc9-424f-8639-8f298429d244.jpg\n",
      "8. 상품 카테고리 => 매트리스커버 관련 상품 추천 / 상품이미지 => https://static.coupangcdn.com/image/retail/images/2017/10/19/15/4/95b93d25-7014-458a-a2a5-9b93189cdcef.jpg\n",
      "9. 상품 카테고리 => 행거도어 관련 상품 추천 / 상품이미지 => https://static.coupangcdn.com/image/retail/images/2019/07/29/12/3/704931d7-4dbd-4af7-9247-856831bdc61e.jpg\n",
      "10. 상품 카테고리 => 매트리스커버 관련 상품 추천 / 상품이미지 => https://static.coupangcdn.com/image/retail/images/2017/10/13/10/3/8379ffd3-63be-4da4-98f9-895aaa0c9b52.jpg\n",
      "11. 상품 카테고리 => 매트리스커버 관련 상품 추천 / 상품이미지 => https://static.coupangcdn.com/image/retail/images/2018/09/17/19/4/329dbb2f-a0ad-44d4-af46-1eea0c548b67.jpg\n",
      "12. 상품 카테고리 => 매트리스커버 관련 상품 추천 / 상품이미지 => https://static.coupangcdn.com/image/retail/images/339338956730835-5cbe0521-2a03-4fe2-8eb7-7a7ae9ff187f.jpg\n"
     ]
    }
   ],
   "source": [
    "import requests # import는 사용하고 싶은 라이브러리를 불러온다는 뜻.\n",
    "from bs4 import BeautifulSoup #beautifulsoup4라는 라이브러리 내에서 BeautifulSoul라는 함수를 가져와\n",
    "\n",
    "url = \"https://davelee-fun.github.io\" #github은 배포를 할 수 있게 도와주는 사이트\n",
    "response = requests.get(url) #requests라는 라이브러리를 통해 찾아온 requests 객체에서 get(\"변수\")를 가져와 response에 할당해라\n",
    "soup = BeautifulSoup(response.text, \"html.parser\") #bs4에서 BeautifulSoup이라는 함수를 통해 respone에 할당된 text를 html형태로 parsing해서 soup에 넣어줘\n",
    "\n",
    "cards = soup.select(\"div.maxthumb img\")#soup라는 페이지 정보에서 select안의 요소를 찾아온다./maxthumb라는 태그 안에 있는 후손을 찾아온다. 직계 자손을 찾아오고 싶을때는 >를 사용 (div.maxthumb > 직계자손이름)\n",
    "card_data = []\n",
    "\n",
    "for idx, card in enumerate(cards,start=1) : #enumerate함수에 들어가는 인자값의 인덱스 값을 찾아 와 1번부터 시작해라.\n",
    "    title = card.get(\"alt\", \"제목없음\").strip()\n",
    "    img_url = card.get(\"src\",\"\").strip()\n",
    "    #print(card.get(\"src\",\"\").strip()) \n",
    "        #card안에서 src, \"\"를 찾은 뒤, 공백은 제거하고 데이터를 출력해라\n",
    "    #print(card.get(\"alt\", \"제목없음\").strip()) \n",
    "        #card안에서 alt, 제목없음 값을 찾아 제목없음을 제거하고 출력해라, alt는 이미지 엑스박스 뜰때를 의미\n",
    "    card_info = (idx, title, img_url)\n",
    "    card_data.append(card_info)\n",
    "\n",
    "for item in card_data : #item은 tuple의 형태를 가지며, 이터러블한 객체인 tuple은 인덱스 값을 가짐\n",
    "    print(f\"{item[0]}. 상품 카테고리 => {item[1]} / 상품이미지 => {item[2]}\")"
   ]
  },
  {
   "cell_type": "code",
   "execution_count": null,
   "id": "9f04e4d1-8969-48f4-87cf-04ef902e07a5",
   "metadata": {},
   "outputs": [],
   "source": [
    "\n"
   ]
  }
 ],
 "metadata": {
  "kernelspec": {
   "display_name": "Python [conda env:base] *",
   "language": "python",
   "name": "conda-base-py"
  },
  "language_info": {
   "codemirror_mode": {
    "name": "ipython",
    "version": 3
   },
   "file_extension": ".py",
   "mimetype": "text/x-python",
   "name": "python",
   "nbconvert_exporter": "python",
   "pygments_lexer": "ipython3",
   "version": "3.13.5"
  }
 },
 "nbformat": 4,
 "nbformat_minor": 5
}
