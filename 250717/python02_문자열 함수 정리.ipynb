{
 "cells": [
  {
   "cell_type": "markdown",
   "id": "c3f1b7ce-5209-4b51-85fe-8e29c6f37946",
   "metadata": {},
   "source": [
    "#### 정규표현식\n",
    "1. Regx : 정규표현식 약어\n",
    "   - Regular\n",
    "  \n",
    "* 정규표현식은 GA에서 원하는 표현만 추출하고 싶을때 많이 사용하게 될 것임\n",
    "* 정규표현식은 문자열을 기반으로 (희망하는 것) 추철할때 사용\n",
    "\n",
    "#### 문자열 관련 함수 리스트\n",
    "1. count : 문자열에 있는 특정 문자 갯수 세기\n",
    "2. index : 문자열에 있는 특정 문자의 인덱스 위치 알려주기\n",
    "3. find : 문자열에 있는 특정 문자의 인덱스를 찾아오긴 하나, 만약 존재하지 않는다면 에러 없이 -1을 발생\n",
    "4. join : 문자열 안에 존재하는 객체들 사이에 다른 문자 끼워 넣기\n",
    "5. strip : 문자열 앞뒤에 공백 지우기\n",
    "6. upper : 소문자를 대문자로 변경하기\n",
    "7. lower : 대문자를 소문자로 변경하기\n",
    "8. split : 문자열 내 특정 문자를 기준으로 나누기\n",
    "9. replace : 문자열 중 일부를 다른 문자로 바꾸기 or 삭제하기"
   ]
  },
  {
   "cell_type": "code",
   "execution_count": 1,
   "id": "f4746672-e3a1-4417-8934-7a033b1f9385",
   "metadata": {},
   "outputs": [
    {
     "data": {
      "text/plain": [
       "1"
      ]
     },
     "execution_count": 1,
     "metadata": {},
     "output_type": "execute_result"
    }
   ],
   "source": [
    "#count\n",
    "data = \"Dave David\"\n",
    "data.count(\"Dave\") #data 문자열 안에 있는 Dave라는 문자가 몇개 있는지 세어줘"
   ]
  },
  {
   "cell_type": "code",
   "execution_count": 2,
   "id": "6027aea7-e416-466f-a668-4d7dd378cced",
   "metadata": {},
   "outputs": [
    {
     "data": {
      "text/plain": [
       "0"
      ]
     },
     "execution_count": 2,
     "metadata": {},
     "output_type": "execute_result"
    }
   ],
   "source": [
    "#index\n",
    "string = \"Dave ID is dave\"\n",
    "string.index(\"D\") #string이라는 문자열에 D라는 index값이 어느 위치에 있는지 알려줘 \n",
    "#index의 위치값은 0부터 시작 \n",
    "#왼쪽부터 카운트 하지만 첫 값을 찾으면 함수 종결\n",
    "#없는 값에 대한 index값을 물을땐 error발생"
   ]
  },
  {
   "cell_type": "code",
   "execution_count": 4,
   "id": "8fa56f81-248f-40f5-8085-5dd92eabf163",
   "metadata": {},
   "outputs": [
    {
     "name": "stdout",
     "output_type": "stream",
     "text": [
      "x는 string01 문자열 객체 안에 없습니다.\n"
     ]
    }
   ],
   "source": [
    "#find\n",
    "string01 = \"Dave ID is dave\"\n",
    "string01.find(\"x\")\n",
    "#기본적으로index와 비슷한 역할을 하기에 결과값이 없는 경우가 아니면 index와 같은 값을 출력한다\n",
    "\n",
    "if string01.find(\"x\") == -1:\n",
    "    print(\"x는 string01 문자열 객체 안에 없습니다.\")"
   ]
  },
  {
   "cell_type": "code",
   "execution_count": 5,
   "id": "9ac3e338-c65e-4953-8271-d5c02d88112e",
   "metadata": {},
   "outputs": [
    {
     "data": {
      "text/plain": [
       "'1,2,3,4,5'"
      ]
     },
     "execution_count": 5,
     "metadata": {},
     "output_type": "execute_result"
    }
   ],
   "source": [
    "#join\n",
    "string02 = \"12345\"\n",
    "comma = \",\"\n",
    "\n",
    "comma.join(string02) #객체와 객체 사이에 들어감"
   ]
  },
  {
   "cell_type": "code",
   "execution_count": 7,
   "id": "359f3a2b-8bb9-4242-9076-0a64db103121",
   "metadata": {},
   "outputs": [
    {
     "data": {
      "text/plain": [
       "'                Dave'"
      ]
     },
     "execution_count": 7,
     "metadata": {},
     "output_type": "execute_result"
    }
   ],
   "source": [
    "#strip\n",
    "data01 = \" Dave \"\n",
    "data01.strip() \n",
    "\n",
    "data02 = \"                     Dave\"#앞뒤 공백 여부 있을때 수 상관없이 지워줌\n",
    "data02.strip()\n",
    "\n",
    "data03 = \"                Dave     \" #특정 영역의 공백만 지우고 싶을때\n",
    "data03.lstrip() #왼쪽 공백 지워줘\n",
    "\n",
    "data04 = \"                Dave     \"\n",
    "data04.rstrip()"
   ]
  },
  {
   "cell_type": "code",
   "execution_count": 10,
   "id": "eb6ac514-b29f-47f7-9a01-442f7ab80310",
   "metadata": {},
   "outputs": [
    {
     "data": {
      "text/plain": [
       "'Dave'"
      ]
     },
     "execution_count": 10,
     "metadata": {},
     "output_type": "execute_result"
    }
   ],
   "source": [
    "string03 = \"          999999999999(Dave)88888888888888    \"\n",
    "string03.strip(\" 98()\") #하나의 문자로 인식을 해, 해당하는 문자를 다 없애기, 연결성을 가진 문자는 한 번에 다 없앵ㄹ 수 있음"
   ]
  },
  {
   "cell_type": "code",
   "execution_count": 12,
   "id": "177e81f2-4d78-44ef-8f63-fec6ae2b7506",
   "metadata": {},
   "outputs": [
    {
     "data": {
      "text/plain": [
       "'DAVE ID IS DAVE'"
      ]
     },
     "execution_count": 12,
     "metadata": {},
     "output_type": "execute_result"
    }
   ],
   "source": [
    "#upper\n",
    "string04 = \"Dave ID is dave\"\n",
    "string04.upper()"
   ]
  },
  {
   "cell_type": "code",
   "execution_count": 13,
   "id": "cfd1e898-393f-4fee-8a45-b453ebf6b94f",
   "metadata": {},
   "outputs": [
    {
     "data": {
      "text/plain": [
       "'dave id is dave'"
      ]
     },
     "execution_count": 13,
     "metadata": {},
     "output_type": "execute_result"
    }
   ],
   "source": [
    "#lower\n",
    "string05 = \"Dave ID is dave\"\n",
    "string05.lower()"
   ]
  },
  {
   "cell_type": "code",
   "execution_count": 16,
   "id": "993e9c60-e4f8-4335-ac5f-9486486c558a",
   "metadata": {},
   "outputs": [
    {
     "data": {
      "text/plain": [
       "['Dave', 'goes', 'to', 'Korea']"
      ]
     },
     "execution_count": 16,
     "metadata": {},
     "output_type": "execute_result"
    }
   ],
   "source": [
    "#split\n",
    "string06 = \"Dave goes to Korea\"\n",
    "string06.split() #공백을 기준으로 문자열을 문자 객체로 나눈다\n",
    "string06.split()[3] #공백을 기준으로 나눈 객체 중 3번째 인덱스 값을 갖는 애를 찾아와라\n",
    "\n",
    "string07 = \"Dave/goes/to/Korea\"\n",
    "string07.split(\"/\") #구분자 /를 기준으로 문자열을 나눠주세요"
   ]
  },
  {
   "cell_type": "markdown",
   "id": "c4e09895-89d8-46ba-b56c-246f273b2e8a",
   "metadata": {},
   "source": [
    "#### 문자열 \"10, 11, 12, 13 ,14\" 해당 값을 리스트 자료 형태로 [10, 11, 12, 13 ,14] 변환시켜 보세요."
   ]
  },
  {
   "cell_type": "code",
   "execution_count": 21,
   "id": "2700a23d-6f02-46e8-b4a4-0c0e30914b91",
   "metadata": {},
   "outputs": [
    {
     "name": "stdout",
     "output_type": "stream",
     "text": [
      "[10, 11, 12, 13, 14]\n"
     ]
    }
   ],
   "source": [
    "# 문자열을 list 객체타입으로 1차 변환하기\n",
    "str_obj = \"10, 11, 12, 13 ,14\"\n",
    "str_list = str_obj.split(\",\")\n",
    "\n",
    "#list로 변환되어진 객체들을 int로 변환하기\n",
    "for index, split_item in enumerate(str_list):\n",
    "    str_list[index]=int(split_item) #재할당\n",
    "\n",
    "print(str_list)"
   ]
  },
  {
   "cell_type": "code",
   "execution_count": 26,
   "id": "78994b82-97f2-4480-a79b-8c3e4d8f3d75",
   "metadata": {},
   "outputs": [
    {
     "data": {
      "text/plain": [
       "'David'"
      ]
     },
     "execution_count": 26,
     "metadata": {},
     "output_type": "execute_result"
    }
   ],
   "source": [
    "#replace\n",
    "string08 = \"Dave goes to Korea\"\n",
    "string08.replace(\"Dave\", \"David\") #문자열 내에 Dave라는 내용을 David로 변경해줘\n",
    "\n",
    "string09 = \"(David)\"\n",
    "string09.replace(\"(\",\"\") #아무런 값을 주지 않은 내용으로 대체한다는 것은 삭제와 같은 의미\n",
    "\n",
    "string10 = \"(David)\"\n",
    "string10.replace(\"()\",\"\") #제거하고자 하는 문자가 순서마저 모두 일치할때 제거 가능\n",
    "\n",
    "string11 = \"(David)\"\n",
    "string12 = string11.replace(\"(\",\"\")\n",
    "string12.replace(\")\",\"\") #()를 안에 내용을 남긴채 replace를 이용해 지우기 위해서는 재할당을 통해 번거로운 방법이 필요\n",
    "\n",
    "#methon chaining 기법\n",
    "string13 = string11.replace(\"(\",\"\").replace(\")\",\"\") #재할당 없이 한번에 모든 과정을 이어지게 만드는 것\n",
    "string13"
   ]
  }
 ],
 "metadata": {
  "kernelspec": {
   "display_name": "Python [conda env:base] *",
   "language": "python",
   "name": "conda-base-py"
  },
  "language_info": {
   "codemirror_mode": {
    "name": "ipython",
    "version": 3
   },
   "file_extension": ".py",
   "mimetype": "text/x-python",
   "name": "python",
   "nbconvert_exporter": "python",
   "pygments_lexer": "ipython3",
   "version": "3.13.5"
  }
 },
 "nbformat": 4,
 "nbformat_minor": 5
}
