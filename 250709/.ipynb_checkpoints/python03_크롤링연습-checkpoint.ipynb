{
 "cells": [
  {
   "cell_type": "markdown",
   "id": "1724fcf4-faa3-4fe4-b560-d89744838c35",
   "metadata": {},
   "source": [
    "#### 파이썬 Basic 크롤링 문법\n",
    "1. requests\n",
    "2. bs4\n",
    "\n",
    "## 웹 환경의 구조\n",
    "- User : 사용자\n",
    "- Client : 브라우저\n",
    "- Server : 00값을 줘라는 요청을 받는 매개체\n",
    "    * !! request // response !!는 항상 쌍으로 존재함\n",
    " \n",
    "## 웹사이트 구현&작동 원리\n",
    "- Web Editor를 활용해 사이트를 구현함\n",
    "    * 웹 에디터의 종류\n",
    "      1. IDE\n",
    "         - 통합 개발 환경\n",
    "      2. VS (visual studio code)\n",
    "         - MS(MicroSoft)에서 개발한 웹 에디터\n",
    "\n",
    "    * 웹 에디터에서 활용 가능한 언어\n",
    "      1. html : 페이지의 전체적인 틀을 구성하는 것\n",
    "      2. css : 페이지 내부 디자인을 하는 것\n",
    "      3. js (java script)\n",
    "      4. Java\n",
    "      5. C\n",
    "      6. C++\n",
    "      7. C# 등\n",
    "    *웹 에디터의 역할\n",
    "        - 코드를 입력하면 화면에 출력해주는 역할을 함"
   ]
  },
  {
   "cell_type": "code",
   "execution_count": 5,
   "id": "e7523905-9e8b-48c5-a3a9-39a6f511b28a",
   "metadata": {},
   "outputs": [
    {
     "name": "stdout",
     "output_type": "stream",
     "text": [
      "잔금대출에도 DTI 규제 적용 검토\n"
     ]
    }
   ],
   "source": [
    "import requests #requests라는 라이브러리 객체를 가져온다\n",
    "from bs4 import BeautifulSoup #bs4라는 라이브러리 객체 내 BeautifulSoup이라는 함수를 가져온다.\n",
    "\n",
    "res = requests.get(\"https://v.daum.net/v/20170615203441266\") #찾아오고자하는 웹 페이지에 대한 응답값 res라는 변수에 requests 라이브러리를 통해 get함수를 사용해 원하는 값을 가져오겠다.\n",
    "# print(res.content) #res라는 변수안에 있는 값중 content에 해당하는 정보만 출력해줘.\n",
    "                   #기존 content 출력시, 컴퓨터가 인식할 수 있는 형식으로 가져옴\n",
    "\n",
    "soup = BeautifulSoup(res.content, \"html.parser\") #res.content 자료를 html.parser를 이용해 읽기 쉬운 문서로 만들어 줘.\n",
    "\n",
    "#print(soup) #읽기 쉽게 만든 그 내용을 출력해줘.\n",
    "\n",
    "mydata = soup.find(\"title\")\n",
    "print(mydata.get_text()) #크롤링해온 데이터에서 태그를 제외한 내용만 출력해줘\n",
    "\n"
   ]
  },
  {
   "cell_type": "markdown",
   "id": "cf2873c5-40f3-4f1f-9855-39e5c8079cd9",
   "metadata": {},
   "source": [
    "#### 크롤링 태그의 의미\n",
    "1. title : 문서의 대표 주제 어\n",
    "2. head, body : 스니펫, stream 코드 등을 넣어주는 공간\n",
    "4. html :\n",
    "5. h(num) : 글자의 크기/ h1 = 32pixel, h4 = 16pixel (표준)\n",
    "6. link : emmit 기능을 사용해 다른 페이지와 연결해라\n",
    "7. lorem : 의미 없는 더미 문자 <p></p> p태그 안에 사용\n",
    "8. p : paragraph\n",
    "9. 동일한 활동을 적용할때 class를 활용함, index에 설정한 class명을 css에 부러올때 .클래스명으로 호출한 후 작업 - 리스트 형태로 불러옴\n",
    "10. id = identity (정체성), 다양한 곳에 중복해서 사용할 수 없음 - 튜플 형태로 불러옴/ #id명으로 css에서 불러올 수 있음\n",
    "#### css\n",
    ".(클래스 명)\n",
    "#(id명)\n",
    "body>(태그명) : body태그 직계 밑에 태그에 명령어를 주어 그 해당하는 값에 대한 정보값을 변경\n",
    "body (태그명) : body태그 후손 태그에 명령어를 내릴때\n",
    "#### VS code의 요소\n",
    "1. index 파일 : 크롤링이 대상이 되는 얼굴 페이지"
   ]
  }
 ],
 "metadata": {
  "kernelspec": {
   "display_name": "Python [conda env:base] *",
   "language": "python",
   "name": "conda-base-py"
  },
  "language_info": {
   "codemirror_mode": {
    "name": "ipython",
    "version": 3
   },
   "file_extension": ".py",
   "mimetype": "text/x-python",
   "name": "python",
   "nbconvert_exporter": "python",
   "pygments_lexer": "ipython3",
   "version": "3.13.5"
  }
 },
 "nbformat": 4,
 "nbformat_minor": 5
}
