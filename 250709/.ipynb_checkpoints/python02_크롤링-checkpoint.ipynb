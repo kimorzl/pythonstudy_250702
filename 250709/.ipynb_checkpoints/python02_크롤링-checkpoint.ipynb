{
 "cells": [
  {
   "cell_type": "markdown",
   "id": "e5844a13-4516-48aa-983e-31f42c9dbe29",
   "metadata": {},
   "source": [
    "#### 파이썬 크롤링\n",
    "\n",
    "- 파이썬으로 크롤링을 하는 이유\n",
    "  1. 파이썬은 라이브러리의 천국\n",
    "     * 라이브러리란?\n",
    "         - (현실 세계의 도서관의 특징을 차용한 언어 : 특정 분야에 대한 전문지식을 습득하기 위해 해당 책을 빌리거나 서재를 이용하는 곳)\n",
    "         - 도서관에서 책 빌려보듯 필요한 기능을 차용해서 사용할 수 있는 기능\n",
    "           * 크롤링을 하려고 하는데 크롤링 코드 a to z를 직접 작성한다면 시간&효율이 매우 안좋음\n",
    "           * 파이썬은 크롤링이 가능하도록 도와주는 라이브러리를 미리 만들어져 있음\n",
    "\n",
    "     * 라이브러리를 사용하는 방법\n",
    "        - import라는 예약어를 사용해 특정 라이브러리를 가져와 사용할 수 있음\n",
    "\n",
    "     * 파이썬에 라이브러리가 내장되어있지 않은 경우 설치하는 방법\n",
    "        - !pip을 이용해 다운로드\n",
    "        - pip은 python install package를 의미\n",
    "           * 설치구문 = !pip install (설치하고자 하는 라이브러리명)"
   ]
  },
  {
   "cell_type": "code",
   "execution_count": 5,
   "id": "850ef0e9-b938-4d09-ab92-106cf58e3c3b",
   "metadata": {},
   "outputs": [
    {
     "name": "stdout",
     "output_type": "stream",
     "text": [
      "Defaulting to user installation because normal site-packages is not writeable\n",
      "Requirement already satisfied: pandas in c:\\programdata\\anaconda3\\lib\\site-packages (2.2.3)\n",
      "Requirement already satisfied: numpy>=1.26.0 in c:\\programdata\\anaconda3\\lib\\site-packages (from pandas) (2.1.3)\n",
      "Requirement already satisfied: python-dateutil>=2.8.2 in c:\\programdata\\anaconda3\\lib\\site-packages (from pandas) (2.9.0.post0)\n",
      "Requirement already satisfied: pytz>=2020.1 in c:\\programdata\\anaconda3\\lib\\site-packages (from pandas) (2024.1)\n",
      "Requirement already satisfied: tzdata>=2022.7 in c:\\programdata\\anaconda3\\lib\\site-packages (from pandas) (2025.2)\n",
      "Requirement already satisfied: six>=1.5 in c:\\programdata\\anaconda3\\lib\\site-packages (from python-dateutil>=2.8.2->pandas) (1.17.0)\n",
      "Note: you may need to restart the kernel to use updated packages.\n"
     ]
    }
   ],
   "source": [
    "pip install pandas #아래와 같은 구문이 나온다면 이미 설치가 되어있는 상태임을 의미"
   ]
  },
  {
   "cell_type": "code",
   "execution_count": 6,
   "id": "6d56402b-69b7-4935-9670-de8a926b2e4c",
   "metadata": {},
   "outputs": [],
   "source": [
    "import pandas #pandas라는 라이브러리를 불러서 사용하겠다"
   ]
  },
  {
   "cell_type": "code",
   "execution_count": 10,
   "id": "d2e901ee-cb89-4dad-a8ed-e386a65aaf91",
   "metadata": {},
   "outputs": [
    {
     "data": {
      "text/plain": [
       "1.2909944487358056"
      ]
     },
     "execution_count": 10,
     "metadata": {},
     "output_type": "execute_result"
    }
   ],
   "source": [
    "#import statistics #통계를 내주는 라이브러리를 불러 사용하겠다\n",
    "                  #내장 라이브러리의 경우 별도의 설치과정이 필요없음\n",
    "#data = [1, 2, 3, 4] #data라는 변수에 [1, 2, 3, 4]라는 리스트형태의 값을 할당한다\n",
    "#print(statistics.mean(data)) #라이브러리는 객체 자료형을 띄고 있으며 라이브러리 안에는 다양한 기능을 가지고 있음\n",
    "                      #mean은 statistics의 평균값을 내는 메서드함수\n",
    "#print(statistics.stdev(data)) #stdev는 표준편차를 구하는 메서드 함수\n",
    "\n",
    "#라이브러리에 따라 가지고 있는 메서드함수의 갯수는 다름\n",
    "#하지만, 일반적으로 사용하는 함수는 정해져있음.\n",
    "\n",
    "#필요한 내장함수만 가져오고 싶을때는?\n",
    "#from statistics import mean, stdev #statistic라는 라이브러리로부터 mean함수의 기능만 불러와줘\n",
    "\n",
    "#data = [1, 2, 3, 4]\n",
    "\n",
    "#mean(data)\n",
    "#stdev(data)\n",
    "\n",
    "#내장함수의 정확한 기능은 모르겟지만 언제든 끌어오고싶어(여지두기)\n",
    "# from statistics import * # *(에스테릭), all의 의미를 가짐 // @ (엣), - (대시), # (해시), .(온점), ^ (캐럿), | (버티컬바)\n",
    "# import statistics as s #statistics를 s로 별칭으로 할래\n",
    "\n",
    "from statistics import mean as m #statistics에 있는 내장함수 mean을 m이라는 별칭을 이용해 불러올래 / 별칭을 사용할때는 같이 코드를 사용하는 사람들과 공유를 해 설정해야함 (코드 혼동 방지)\n",
    "data = [1, 2, 3, 4]\n",
    "m(data)\n",
    "\n",
    "# print(s.mean(data)) #s라고 바꾼 statistics안에 mean 함수를 이용해 값을 출력할래\n",
    "# print(s.stdev(data)) ##s라고 바꾼 statistics안에 stdev 함수를 이용해 값을 출력할래"
   ]
  }
 ],
 "metadata": {
  "kernelspec": {
   "display_name": "Python [conda env:base] *",
   "language": "python",
   "name": "conda-base-py"
  },
  "language_info": {
   "codemirror_mode": {
    "name": "ipython",
    "version": 3
   },
   "file_extension": ".py",
   "mimetype": "text/x-python",
   "name": "python",
   "nbconvert_exporter": "python",
   "pygments_lexer": "ipython3",
   "version": "3.13.5"
  }
 },
 "nbformat": 4,
 "nbformat_minor": 5
}
