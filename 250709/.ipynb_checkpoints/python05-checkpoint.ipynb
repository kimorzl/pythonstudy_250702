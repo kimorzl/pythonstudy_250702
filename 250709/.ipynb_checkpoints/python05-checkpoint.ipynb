{
 "cells": [
  {
   "cell_type": "code",
   "execution_count": 2,
   "id": "613c5446-fb70-4776-8f21-b4dab6830a6a",
   "metadata": {},
   "outputs": [
    {
     "ename": "AttributeError",
     "evalue": "'NoneType' object has no attribute 'get_text'",
     "output_type": "error",
     "traceback": [
      "\u001b[1;31m---------------------------------------------------------------------------\u001b[0m",
      "\u001b[1;31mAttributeError\u001b[0m                            Traceback (most recent call last)",
      "Cell \u001b[1;32mIn[2], line 13\u001b[0m\n\u001b[0;32m     10\u001b[0m \u001b[38;5;66;03m#print(soup) #읽기 쉽게 만든 그 내용을 출력해줘.\u001b[39;00m\n\u001b[0;32m     12\u001b[0m mydata \u001b[38;5;241m=\u001b[39m soup\u001b[38;5;241m.\u001b[39mfind(\u001b[38;5;124m\"\u001b[39m\u001b[38;5;124mclass=tit_view\u001b[39m\u001b[38;5;124m\"\u001b[39m)\n\u001b[1;32m---> 13\u001b[0m \u001b[38;5;28mprint\u001b[39m(mydata\u001b[38;5;241m.\u001b[39mget_text())\n",
      "\u001b[1;31mAttributeError\u001b[0m: 'NoneType' object has no attribute 'get_text'"
     ]
    }
   ],
   "source": [
    "import requests #requests라는 라이브러리 객체를 가져온다\n",
    "from bs4 import BeautifulSoup #bs4라는 라이브러리 객체 내 BeautifulSoup이라는 함수를 가져온다.\n",
    "\n",
    "res = requests.get(\"https://v.daum.net/v/20170615203441266\") #찾아오고자하는 웹 페이지에 대한 응답값 res라는 변수에 requests 라이브러리를 통해 get함수를 사용해 원하는 값을 가져오겠다.\n",
    "# print(res.content) #res라는 변수안에 있는 값중 content에 해당하는 정보만 출력해줘.\n",
    "                   #기존 content 출력시, 컴퓨터가 인식할 수 있는 형식으로 가져옴\n",
    "\n",
    "soup = BeautifulSoup(res.content, \"html.parser\") #res.content 자료를 html.parser를 이용해 읽기 쉬운 문서로 만들어 줘.\n",
    "\n",
    "#print(soup) #읽기 쉽게 만든 그 내용을 출력해줘.\n",
    "\n",
    "mydata = soup.find(\"h3\")\n",
    "print(mydata.get_text()) #크롤링해온 데이터에서 태그를 제외한 내용만 출력해줘\n",
    "\n"
   ]
  },
  {
   "cell_type": "code",
   "execution_count": null,
   "id": "d74eb460-bfa6-4339-a871-dc8313102c97",
   "metadata": {},
   "outputs": [],
   "source": []
  }
 ],
 "metadata": {
  "kernelspec": {
   "display_name": "Python [conda env:base] *",
   "language": "python",
   "name": "conda-base-py"
  },
  "language_info": {
   "codemirror_mode": {
    "name": "ipython",
    "version": 3
   },
   "file_extension": ".py",
   "mimetype": "text/x-python",
   "name": "python",
   "nbconvert_exporter": "python",
   "pygments_lexer": "ipython3",
   "version": "3.13.5"
  }
 },
 "nbformat": 4,
 "nbformat_minor": 5
}
