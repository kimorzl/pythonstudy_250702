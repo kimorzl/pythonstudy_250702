{
 "cells": [
  {
   "cell_type": "code",
   "execution_count": 5,
   "id": "76913a01-38e9-4cbb-a292-dc28967132b8",
   "metadata": {},
   "outputs": [
    {
     "name": "stdout",
     "output_type": "stream",
     "text": [
      "<body> <h1 id=\"title\">[1]크롤링이란?</h1> <p class=\"cssstyle\">웹페이지에서 필요한 데이터를 추출하는 것</p> <p algin=\"center\" id=\"body\">파이썬을 중심으로 다양한 웹크롤링 기술 발달</p> </body>\n",
      " [1]크롤링이란? 웹페이지에서 필요한 데이터를 추출하는 것 파이썬을 중심으로 다양한 웹크롤링 기술 발달 \n"
     ]
    }
   ],
   "source": [
    "from bs4 import BeautifulSoup #bs4라는 라이브러리 객체 내 BeautifulSoup이라는 함수를 가져온다. \n",
    "\n",
    "html = \"<html>\\\n",
    "            <body>\\\n",
    "                <h1 id='title'>[1]크롤링이란?</h1>\\\n",
    "                <p class='cssstyle'>웹페이지에서 필요한 데이터를 추출하는 것</p>\\\n",
    "                <p id='body' algin='center'>파이썬을 중심으로 다양한 웹크롤링 기술 발달</p>\\\n",
    "            </body>\\\n",
    "        </html>\"\n",
    "\n",
    "soup = BeautifulSoup(html, \"html.parser\")\n",
    "#data = soup.find(\"h1\") #h1태그에 해당하는 내용을 찾아 data에 할당해라\n",
    "data = soup.find(\"body\") #body태그의 직접적 데이터가 아니다\n",
    "print(data)\n",
    "\n",
    "#string의 속성은 크롤링하고자하는 대상의 직접적인 텍스트 문자열을 찾아와야 할 때 사용\n",
    "print(data.string)\n",
    "\n",
    "#get_text()는 자식요소의 텍스트 문자열까지 크롤링하고자 할 때 사용\n",
    "print(data.get_text())\n",
    "\n",
    "\n"
   ]
  },
  {
   "cell_type": "code",
   "execution_count": 10,
   "id": "84e93d82-2828-4664-8e33-0855ab3cb9e7",
   "metadata": {},
   "outputs": [
    {
     "name": "stdout",
     "output_type": "stream",
     "text": [
      "<p class=\"cssstyle\">웹페이지에서 필요한 데이터를 추출하는 것</p>\n",
      "웹페이지에서 필요한 데이터를 추출하는 것\n",
      "*----------------------------------------------------------------*\n",
      "웹페이지에서 필요한 데이터를 추출하는 것\n",
      "파이썬을 중심으로 다양한 웹크롤링 기술 발달\n",
      "*----------------------------------------------------------------*\n",
      "파이썬을 중심으로 다양한 웹크롤링 기술 발달\n"
     ]
    }
   ],
   "source": [
    "from bs4 import BeautifulSoup #bs4라는 라이브러리 객체 내 BeautifulSoup이라는 함수를 가져온다. \n",
    "\n",
    "html = \"<html>\\\n",
    "            <body>\\\n",
    "                <h1 id='title'>[1]크롤링이란?</h1>\\\n",
    "                <p class='cssstyle'>웹페이지에서 필요한 데이터를 추출하는 것</p>\\\n",
    "                <p id='body' algin='center'>파이썬을 중심으로 다양한 웹크롤링 기술 발달</p>\\\n",
    "            </body>\\\n",
    "        </html>\"\n",
    "\n",
    "\n",
    "soup = BeautifulSoup(html, \"html.parser\")\n",
    "data = soup.find(\"p\") #위에서부터 p를 찾아나가다가 찾은 순간 끝내버림\n",
    "print(data)\n",
    "print(data.string) #p에 해당하는 문자열 데이터만 찾고싶을때\n",
    "\n",
    "#2번째의 p태그 내용을 찾아오고 싶을때\n",
    "data2 = soup.find(\"p\", attrs={\"id\":\"body\"}) #find함수의 인자값을 여러개 주어 해당 조건에 맞는 결과값을 찾을 수 있게함\n",
    "#data2 = soup.find(\"p\", attrs={\"align\":\"center\"})\n",
    "print(data2.string)"
   ]
  },
  {
   "cell_type": "code",
   "execution_count": null,
   "id": "3b22f2bd-fc30-4804-8de8-d5c83c9c6323",
   "metadata": {},
   "outputs": [],
   "source": [
    "from bs4 import BeautifulSoup #bs4라는 라이브러리 객체 내 BeautifulSoup이라는 함수를 가져온다. \n",
    "\n",
    "html = \"<html>\\\n",
    "            <body>\\\n",
    "                <h1 id='title'>[1]크롤링이란?</h1>\\\n",
    "                <p class='cssstyle'>웹페이지에서 필요한 데이터를 추출하는 것</p>\\\n",
    "                <p id='body' algin='center'>파이썬을 중심으로 다양한 웹크롤링 기술 발달</p>\\\n",
    "            </body>\\\n",
    "        </html>\"\n",
    "\n",
    "\n",
    "soup = BeautifulSoup(html, \"html.parser\")\n",
    "\n",
    "#2개의 p태그 내용을 다 찾아오고 싶을때\n",
    "data1 = soup.find_all(\"p\") #list타입으로 요소들을 찾아오기때문에 string을 사용할 수 없음\n",
    "for item in data1 :\n",
    "    print(item.string)"
   ]
  },
  {
   "cell_type": "code",
   "execution_count": 12,
   "id": "7643dd9d-2016-4b72-9c6a-de6e2f9e2df3",
   "metadata": {},
   "outputs": [
    {
     "name": "stdout",
     "output_type": "stream",
     "text": [
      "파이썬을 중심으로 다양한 웹크롤링 기술 발달\n"
     ]
    }
   ],
   "source": [
    "from bs4 import BeautifulSoup #bs4라는 라이브러리 객체 내 BeautifulSoup이라는 함수를 가져온다. \n",
    "\n",
    "html = \"<html>\\\n",
    "            <body>\\\n",
    "                <h1 id='title'>[1]크롤링이란?</h1>\\\n",
    "                <p class='cssstyle'>웹페이지에서 필요한 데이터를 추출하는 것</p>\\\n",
    "                <p id='body' algin='center'>파이썬을 중심으로 다양한 웹크롤링 기술 발달</p>\\\n",
    "            </body>\\\n",
    "        </html>\"\n",
    "\n",
    "\n",
    "soup = BeautifulSoup(html, \"html.parser\")\n",
    "\n",
    "#2번째의 p태그 내용을 찾아오고 싶을때\n",
    "data2 = soup.find(\"p\", attrs={\"id\":\"body\"}) #find함수의 인자값을 여러개 주어 해당 조건에 맞 는 결과값을 찾을 수 있게함\n",
    "#data2 = soup.find(\"p\", attrs={\"align\":\"center\"})\n",
    "print(data2.string)\n"
   ]
  },
  {
   "cell_type": "code",
   "execution_count": 21,
   "id": "b9841346-95e8-42db-8767-7e8951f3eb2d",
   "metadata": {},
   "outputs": [
    {
     "name": "stdout",
     "output_type": "stream",
     "text": [
      "파이썬을 중심으로 다양한 웹크롤링 기술 발달-2\n"
     ]
    }
   ],
   "source": [
    "from bs4 import BeautifulSoup #bs4라는 라이브러리 객체 내 BeautifulSoup이라는 함수를 가져온다. \n",
    "\n",
    "html = \"<html>\\\n",
    "            <body>\\\n",
    "                <h1 id='title'>[1]크롤링이란?</h1>\\\n",
    "                <p class='cssstyle'>웹페이지에서 필요한 데이터를 추출하는 것</p>\\\n",
    "                <p id='body01' algin='center'>파이썬을 중심으로 다양한 웹크롤링 기술 발달-1</p>\\\n",
    "                <p id='body02' algin='center'>파이썬을 중심으로 다양한 웹크롤링 기술 발달-2</p>\\\n",
    "            </body>\\\n",
    "        </html>\"\n",
    "\n",
    "\n",
    "soup = BeautifulSoup(html, \"html.parser\")\n",
    "data3 = soup.find(\"p\", attrs={\"id\":\"body02\",\"algin\":\"center\"})\n",
    "# data3 = soup.find(\"p\", id = \"body02\") - 윗 문장을 약식으로 바꾼 것\n",
    "print(data3.string)"
   ]
  },
  {
   "cell_type": "code",
   "execution_count": 20,
   "id": "635a7bdb-18de-48c1-bdc5-c90bc889eb45",
   "metadata": {},
   "outputs": [
    {
     "name": "stdout",
     "output_type": "stream",
     "text": [
      "웹페이지에서 필요한 데이터를 추출하는 것 -1\n",
      "웹페이지에서 필요한 데이터를 추출하는 것 -2\n",
      "웹페이지에서 필요한 데이터를 추출하는 것 -2\n",
      "웹페이지에서 필요한 데이터를 추출하는 것 -2\n"
     ]
    }
   ],
   "source": [
    "from bs4 import BeautifulSoup #bs4라는 라이브러리 객체 내 BeautifulSoup이라는 함수를 가져온다. \n",
    "\n",
    "html = \"<html>\\\n",
    "            <body>\\\n",
    "                <h1 id='title'>[1]크롤링이란?</h1>\\\n",
    "                <p class='cssstyle01'>웹페이지에서 필요한 데이터를 추출하는 것 -1</p>\\\n",
    "                <p class='cssstyle02'>웹페이지에서 필요한 데이터를 추출하는 것 -2</p>\\\n",
    "                <p id='body01' algin='center'>파이썬을 중심으로 다양한 웹크롤링 기술 발달</p>\\\n",
    "                <p id='body02' algin='center'>파이썬을 중심으로 다양한 웹크롤링 기술 발달</p>\\\n",
    "            </body>\\\n",
    "        </html>\"\n",
    "\n",
    "\n",
    "soup = BeautifulSoup(html, \"html.parser\")\n",
    "data4 = soup.find(\"p\")\n",
    "data5 = soup.find(\"p\", attrs={\"class\":\"cssstyle02\"}) #가장 정석적인 문법\n",
    "data6 = soup.find(\"p\", class_ = \"cssstyle02\") #문서상에서의 class임을 알려주기 위해 _표시를 해줌\n",
    "data7 = soup.find(\"p\", \"cssstyle02\")\n",
    "\n",
    "print(data4.string)\n",
    "print(data5.string)\n",
    "print(data6.string)\n",
    "print(data7.string)\n"
   ]
  },
  {
   "cell_type": "markdown",
   "id": "7beb522d-8a18-4217-9b75-704188ad9377",
   "metadata": {},
   "source": [
    "class 객체 상에서의 속성 property라고 지칭함\n",
    "단, html 문서상 속성은 attribute를 의미함"
   ]
  }
 ],
 "metadata": {
  "kernelspec": {
   "display_name": "Python [conda env:base] *",
   "language": "python",
   "name": "conda-base-py"
  },
  "language_info": {
   "codemirror_mode": {
    "name": "ipython",
    "version": 3
   },
   "file_extension": ".py",
   "mimetype": "text/x-python",
   "name": "python",
   "nbconvert_exporter": "python",
   "pygments_lexer": "ipython3",
   "version": "3.13.5"
  }
 },
 "nbformat": 4,
 "nbformat_minor": 5
}
