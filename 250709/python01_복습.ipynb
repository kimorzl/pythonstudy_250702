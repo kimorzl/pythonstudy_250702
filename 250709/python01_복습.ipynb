{
 "cells": [
  {
   "cell_type": "markdown",
   "id": "4d2d1a16-ea6e-4ce9-b902-8db89c5f3ba1",
   "metadata": {},
   "source": [
    "250709 수업 순서\n",
    "\n",
    "#### 진도\n",
    "- 객체\n",
    "- 클래스\n",
    "- 크롤링 문법 예제\n",
    "\n",
    "### 크롤링 할때 문제점\n",
    "- 크롤링을 하고자 하는 대상에 대한 이해도 무족\n",
    "  * 사이트의 구성 (html, css, js)\n",
    "  ** html\n",
    "  ** class (파이썬의 클래스와는 다른 개념)\n",
    "  ** id\n",
    "  ** js(java script)\n",
    "\n",
    "  * 사이트의 구성을 알아보기 위해 간단한 사이트 만들어보기 연습\n",
    " \n",
    "\n"
   ]
  },
  {
   "cell_type": "markdown",
   "id": "eecea859-ec3f-424f-984e-3fcfd464d4de",
   "metadata": {},
   "source": [
    "#### 1. 프로그래밍 언어의 특징\n",
    "- 프로그래밍 언어는 2가지 부류로 나누어 볼 수 있음\n",
    "  1. C언어\n",
    "    * 절차지향 언어\n",
    "    * 번잡하고 이해가 힘듬\n",
    "\n",
    "  2. 파이썬, JS, C++, C#, JAVA 등\n",
    "    * 객체지향 언어\n",
    "    * 절차지향 언어의 번잡한 구조를 단순화 하고 조금 더 이해하기 쉽게 만든 언어 방식\n",
    "\n",
    "\n",
    " - 내장함수\n",
    "    * 사전에 누군가(창시자)가 파이썬이라는 프로그래밍 언어 안에 만들어 놓은 것\n",
    "    * 함수를 따로 선언하지 않아도 사용가능한 함수\n",
    "\n",
    "\n",
    " ** 일반적으로 함수는 정의를 하고 사용해야하는 것\n",
    " ** 하지만, 창시자는 어떻게 파이썬에 함수를 내장시킬 수 있었을까?\n",
    " ** 그런데 그 방법을 사용자인 내가 굳이 알 필요가 있나? (YES)\n",
    " ** 창시자가 만들어놓은 파이썬 언어를 사용하다보면 복잡, 반복 실행되어야하는 기능을 딱 한번 정의해놓고 필요시 효율적으로 커스텀 편집을 해 편리하게 기능을\n",
    "    구현해야하는 경우 존재"
   ]
  },
  {
   "cell_type": "markdown",
   "id": "eada1a3f-1c56-4972-a83a-ee4ca24dcc96",
   "metadata": {},
   "source": [
    "#### 절차지향 언어가 문제를 해결해가는 과정 예시\n",
    "    - 해결하고자 하는 갯수만큼 매번 지정해서 문제를 해결해야함\n",
    "\n",
    "ex. 냉장고에 코끼리를 넣는다\n",
    "1. 냉장고 문을 연다 // open 냉장고\n",
    "2. 코끼리를 냉장고에 넣는다 // insert 코끼리 into 냉장고\n",
    "3. 냉장고 문을 닫는다 // close 냉장고"
   ]
  },
  {
   "cell_type": "markdown",
   "id": "adc20444-1571-48e3-9e98-93a760abdfe5",
   "metadata": {},
   "source": [
    "#### 2. 객체지향 언어가 문제를 해결해가는 과정\n",
    "     - 갯수 상관없이 한번의 지정으로 문제 해결 가능\n",
    "\n",
    "ex. 냉장고에 코끼리를 넣는다\n",
    "1. 코끼리라는 동물의 정보를 수집해 해당 동물에 대한 설계도 (*코끼리는 냉장고의 문을 열수있고, 안으로 들어갈 수 있는 기능을 사전에 정의)를 만든다\n",
    "2. 이전 단계에서 만든 코끼리 설계도를 기반으로 코끼리1 이라는 객체를 하나 만든다.\n",
    "3. 냉장고라는 사물의 정보를 수집해 해당 사물에 대한 설계도 (*만약 코끼리가 냉장고안에 들어오면 문이 자동으로 닫혀지도록 하는 기능을 사전에 정의)를 만든다\n",
    "4. 이전 단계에서 만든 냉장고 설계도를 기반으로 냉장고1 이라는 객체를 하나 만든다.\n",
    "5. 코끼리1 이라는 객체안에 \"내장\"되어있는 기능을 호출해 냉장고1 이라는 객체의 문을 열게 한다.\n",
    "6. 코끼리1 이라는 객체안에 \"내장\"되어있는 기능을 호출해 냉장고1 이라는 객체 안으로 들어가게 한다.\n",
    "7. 냉장고1 이라는 객체안에 \"내장\"되어있는 기능을 호출해 냉장고1 이라는 객체의 문을 닫게 한다.#### 객체지향 프로그래밍 언어의 핵심 요소"
   ]
  },
  {
   "cell_type": "markdown",
   "id": "a35a9a22-20af-4f4a-a17a-7277eacc0618",
   "metadata": {},
   "source": [
    "#### 3. 객체지향 프로그래밍 언어 핵심 요소\n",
    "- Class : 설계도면\n",
    "  * 어떤 사물 혹은 동물을 나타낼 수 있는 설계도에 해당하는 특징을 가진 객체지향언어의 요소\n",
    "    1. attribute : 속성\n",
    "       - ex. 코끼리의 다리는 4개, 코끼리의 코는 1개, 코는 손의 역할을 함\n",
    "    2. method : 기능 = 객체만의 기능을 구현할 수 있는 함수\n",
    "       - ex. 코끼리가 냉장고를 보며 자신의 코로 문을 연다.\n",
    "       - ex. 코끼리가 자신의 코로 냉장고의 문을 연다면 그 안으로 들어간다.\n",
    "    \n",
    "  * 만약 해당 객체가 사전에 설계도면에 정의가 되어있는 속성값과 기능을 구현하고 싶을때 작성하는 방법\n",
    "        A. 객체.속성명\n",
    "        B. 객체.메서드함수()\n",
    "\n",
    "- Object : 객체\n",
    "  * 어떤 사물 혹은 동물의 정보를 가지고 있는 설계도를 가지고 만들어진 요소\n",
    "    1. 객체명.속성\n",
    "       - 객체가 가지고 있는 어떤 정보들을 찾아올 수 있음\n",
    "    3. 객체명.메서드함수()\n",
    "       - 객체가 가지고 있는 고유한 메서드함수를 실행하겠다."
   ]
  },
  {
   "cell_type": "markdown",
   "id": "d25d81a0-5964-4eae-9363-6d52b69c093f",
   "metadata": {},
   "source": [
    "#### 4. class를 활용한 객체생성 문법\n",
    "\n",
    "1. 클래스 정의\n",
    "- class라는 예약어를 활용하여 생성\n",
    "  * ex. class Student => Student라는 클래스를 정의한다는 의미\n",
    "\n",
    "2. 클래스 안에 속성/메서드함수 정의\n",
    "-  생성자 함수를 만들어 속성과 메서드함수를 정의\n",
    "-  생성자 함수 = 초기화 함수\n",
    "  * 생성자 함수 만드는 법\n",
    "    * __init__ : 클래스를 통해 객체 생성시 자동으로 호출되는 특별한 함수\n",
    "  \n",
    "  * __init__ 의 구성요소\n",
    "    * self : __init__ 선언시, 반드시 첫번째 매개변수로 작성해야하는 요소\n",
    "    * self(자기자신) : 클래스를 통해 생성되어질 객체 자체\n",
    "\n",
    "  * 예시\n",
    "    * __init__(self, name, grade) : 클래스를 활용해 최초의 객체 생성시, name과 grade라는 속성값을 받아 객체본인의 속성으로 정의한다라는 의미 내포\n",
    "        * 클래스 안에서 생성자 함수 사용하는 예\n",
    "            - def __init__(self, name, grade) :\n",
    "              \n",
    "                  self.name = name\n",
    "                  self.grade = grade\n",
    "- self.name => 클래스 안에 있는 하나의 변수로 인식\n",
    "- 생성자 함수를 선언한 이후 메서드 함수를 선언 => 개발자가 원하는 직관적 이름으로 메서드함수를 선언해야함\n",
    "  * ex. def study(self) :\n",
    "  \n",
    "    print(f\"{self.name}가 공부를 열십히 합니다.\")\n",
    "\n",
    "    - 결과값 : 클래스를 통해 새롭게 탄생한 객체.study(\"공유\") => 공유가 공부를 열심히 합니다.라는 구문이 출력됨"
   ]
  },
  {
   "cell_type": "code",
   "execution_count": 1,
   "id": "b0211dd6-8e3a-42cc-b592-44857a1c1382",
   "metadata": {},
   "outputs": [
    {
     "name": "stdout",
     "output_type": "stream",
     "text": [
      "Fun Coding\n"
     ]
    }
   ],
   "source": [
    "# 함수정의\n",
    "# 함수를 선언할 때 매개 변수의 여부를 결정할 수 있음, 함수 선언에 사용되는 매개변수는 참조변수라고도 불리며 참조변수는 추후, 함수 호출 시 인자값으로 어떤 값을 적용할 때, 해당 인자값을 매개변수에서 참조해서 찾아오는 방식이기때문에 참조변수라는 명칭이 생김\n",
    "def print_string(data) : #print_string이라는 이름의 함수를 선언하겠음 | (data)는 참조함수라고 불름 - 매게변수에서 참조해서 함수를 실행시킬 조건을 설정하는 것\n",
    "    print(data) #실행문 : print_string()이라는 이름의 함수를 호출했을때 어떤 행동을 할지 역할을 부여하는 것\n",
    "\n",
    "#함수호출\n",
    "print_string(\"Fun Coding\") #함수 실행 시, print라는 내장 함수를 활용해 (data) 값에 들어간 인자값을 출력하는 행동을 함"
   ]
  },
  {
   "cell_type": "code",
   "execution_count": 3,
   "id": "2c89095c-eb26-4171-abe6-79824c57fa1b",
   "metadata": {},
   "outputs": [
    {
     "name": "stdout",
     "output_type": "stream",
     "text": [
      "<class 'str'>\n"
     ]
    }
   ],
   "source": [
    "#변수 선언\n",
    "string = \"Fun Coding\" #string이라는 변수에 Fun Coding이라는 문자열 자료구조를 할당해, 문자열 객체가 됨\n",
    "string.split() #split은 문자열 객체에만 사용하는 내장함수로 ()-인자값을 중심으로 나눠 list의 자료형 안에 값을 할당\n",
    "print(type(string)) #string이라는 변수는 class 타입 string으로 이루어진 객체"
   ]
  },
  {
   "cell_type": "code",
   "execution_count": 4,
   "id": "59fc6300-337a-43ff-b4a7-3cf14e274c4c",
   "metadata": {},
   "outputs": [],
   "source": [
    "class Student : #Student라는 Class를 선언할거야\n",
    "    def __init__(self, name, grade) : #name, grade라는 인자값을 받아오는 생성자 함수를 1차적으로 생성(init에 들어가는 인자값의 갯수는 제한이 없음)\n",
    "        self.name = name\n",
    "        self.grade = grade\n",
    "\n",
    "    def study(self) : #self라는 변수를 사용하는 study함수를 정의\n",
    "        print(f\"{self.name}가 공부를 열심히 합니다.\")\n",
    "\n",
    "    def take_exam(self) : #self라는 변수를 사용하는 take_exam함수를 정의\n",
    "        print(f\"{self.name}가 시험을 봅니다.\")"
   ]
  },
  {
   "cell_type": "code",
   "execution_count": 8,
   "id": "f1dd76cf-4e56-4f84-b6b2-1a8946cac156",
   "metadata": {},
   "outputs": [
    {
     "name": "stdout",
     "output_type": "stream",
     "text": [
      "<__main__.Student object at 0x0000017ADEA810F0>\n",
      "David\n",
      "3\n",
      "David가 공부를 열심히 합니다.\n"
     ]
    }
   ],
   "source": [
    "student = Student(\"David\", 3)\n",
    "print(student) #student라는 변수 안에 Student로 만들어진 객체가 들어있다\n",
    "print(student.name) #Student의 name이라는 인자값을 호출해 출력한다\n",
    "print(student.grade) #Student의 grade라는 인자값을 호출해 출력한다\n",
    "student.study() #함수 study를 활용해 그 실행문이 진행된다."
   ]
  }
 ],
 "metadata": {
  "kernelspec": {
   "display_name": "Python [conda env:base] *",
   "language": "python",
   "name": "conda-base-py"
  },
  "language_info": {
   "codemirror_mode": {
    "name": "ipython",
    "version": 3
   },
   "file_extension": ".py",
   "mimetype": "text/x-python",
   "name": "python",
   "nbconvert_exporter": "python",
   "pygments_lexer": "ipython3",
   "version": "3.13.5"
  }
 },
 "nbformat": 4,
 "nbformat_minor": 5
}
