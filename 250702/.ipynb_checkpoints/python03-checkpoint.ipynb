{
 "cells": [
  {
   "cell_type": "markdown",
   "id": "e3d52ff8-f495-4edd-8dfc-262556987d29",
   "metadata": {},
   "source": [
    "### 조건문\n",
    "\n",
    "1. 일반 조건문\n",
    "if 조건 :\n",
    "    실행문\n",
    "   \n",
    "2. 복수 조건문\n",
    "if 조건1 and 조건2 :\n",
    "    실행문\n",
    "if 조건1 or 조건2:\n",
    "    실행문\n",
    "3. 부정 조건문\n",
    "if not 조건 :\n",
    "    실행문\n",
    "```\n",
    "```(backtick, 이전 양식을 그대로 가져옴)\n",
    "if 조건문 :\n",
    "    실행문\n",
    "else :\n",
    "    실행문\n",
    "\n",
    "### else문 유의사항\n",
    "- 어떤 조건문 안에서도 1회만 사용 가능\n",
    "- else문 조건문 중간에 절대 입력 불가\n",
    "- else문 독립적으로 조건식을 받을 수 없음\n",
    "- else문은 조건문 내 반드시 작성해야하는 필수값은 아님"
   ]
  },
  {
   "cell_type": "code",
   "execution_count": 2,
   "id": "44749007-0e7f-4259-8a1b-d513d497ee00",
   "metadata": {},
   "outputs": [
    {
     "name": "stdin",
     "output_type": "stream",
     "text": [
      "당신의 나이는? : 30\n"
     ]
    },
    {
     "name": "stdout",
     "output_type": "stream",
     "text": [
      "당신은 성인입니다!\n"
     ]
    }
   ],
   "source": [
    "#일반 조건문\n",
    "age = int(input(\"당신의 나이는? :\"))\n",
    "if age >= 19 : \n",
    "    print(\"당신은 성인입니다!\")"
   ]
  },
  {
   "cell_type": "code",
   "execution_count": 4,
   "id": "40eaf01e-3b45-4926-a354-25de8ed4d6d1",
   "metadata": {},
   "outputs": [
    {
     "name": "stdin",
     "output_type": "stream",
     "text": [
      "인성이의 나이는? 20\n",
      "지섭이의 나이는? 17\n"
     ]
    },
    {
     "name": "stdout",
     "output_type": "stream",
     "text": [
      "영화관 입장 가능\n"
     ]
    }
   ],
   "source": [
    "#복수 조건문\n",
    "age1 = int(input(\"인성이의 나이는?\"))\n",
    "age2 = int(input(\"지섭이의 나이는?\"))\n",
    "\n",
    "#if age1 >=19 and age2 >=19 :\n",
    "#    print(\"영화관 입장 가능\")\n",
    "\n",
    "if age1 >=19 or age2 >=19 :\n",
    "    print(\"영화관 입장 가능\")"
   ]
  },
  {
   "cell_type": "code",
   "execution_count": 7,
   "id": "c29ecf05-7c56-49db-b291-ea9f5c3a09ce",
   "metadata": {},
   "outputs": [
    {
     "name": "stdin",
     "output_type": "stream",
     "text": [
      "승헌이의 나이는? 20\n"
     ]
    },
    {
     "name": "stdout",
     "output_type": "stream",
     "text": [
      "영화관 입장가능!\n"
     ]
    }
   ],
   "source": [
    "#부정 조건문\n",
    "age3 = int(input(\"승헌이의 나이는?\"))\n",
    "\n",
    "if not age3 <=19 :\n",
    "    print(\"영화관 입장가능!\")"
   ]
  },
  {
   "cell_type": "code",
   "execution_count": 9,
   "id": "cd5439a2-dc79-47a0-8084-bdd588d8bfd2",
   "metadata": {},
   "outputs": [
    {
     "name": "stdin",
     "output_type": "stream",
     "text": [
      "현재 가지고 있는 현금은 얼마인가요? 1254780\n"
     ]
    },
    {
     "name": "stdout",
     "output_type": "stream",
     "text": [
      "오늘 저녁은 Vips\n"
     ]
    }
   ],
   "source": [
    "cash = int(input(\"현재 가지고 있는 현금은 얼마인가요?\"))\n",
    "\n",
    "if cash > 100000 :\n",
    "    print(\"오늘 저녁은 Vips\")\n",
    "else :\n",
    "    print(\"오늘 저녁은 집밥\")"
   ]
  },
  {
   "cell_type": "markdown",
   "id": "0b5b0a55-5987-43d0-b849-b88080a11752",
   "metadata": {},
   "source": [
    "- 사용자로부터 나이를 입력 받은 후, 나이가 19세 이상이면 \"당신은 성인입니다\" 출력, 19세 미만시 \"당신은 청소년입니다\" 출력"
   ]
  },
  {
   "cell_type": "code",
   "execution_count": 13,
   "id": "a89cdca0-6a36-48e3-87da-c73a1a517185",
   "metadata": {},
   "outputs": [
    {
     "name": "stdin",
     "output_type": "stream",
     "text": [
      "당신의 나이가 몇살인지 알려주세요 25\n"
     ]
    },
    {
     "name": "stdout",
     "output_type": "stream",
     "text": [
      "당신은 성인입니다\n"
     ]
    }
   ],
   "source": [
    "Urage = int(input(\"당신의 나이가 몇살인지 알려주세요\"))\n",
    "\n",
    "if Urage >= 19 :\n",
    "    print(\"당신은 성인입니다\")\n",
    "else :\n",
    "    print(\"당신은 청소년입니다\")\n"
   ]
  },
  {
   "cell_type": "markdown",
   "id": "08b12b1e-1703-4732-ac6e-0c721ea240e0",
   "metadata": {},
   "source": [
    "- 사용자로부터 나이를 입력받은 후, 나이가 19세 이상이면 \"당신은 성인입니다\" 출력, 13세 이상 19세 미만이면 \"당신은 청소년 입니다\", 13세 미만이면 \"당신은 아동입니다.\"를 출력하세요."
   ]
  },
  {
   "cell_type": "code",
   "execution_count": 27,
   "id": "d1525da1-ca6b-454e-97aa-4429ee6e5c8b",
   "metadata": {},
   "outputs": [
    {
     "name": "stdin",
     "output_type": "stream",
     "text": [
      "당신의 나이는 몇살인가요? 15\n"
     ]
    },
    {
     "name": "stdout",
     "output_type": "stream",
     "text": [
      "당신은 청소년입니다\n"
     ]
    }
   ],
   "source": [
    "userage = int(input(\"당신의 나이는 몇살인가요?\"))\n",
    "\n",
    "#if userage >= 19 :\n",
    "#    print(\"당신은 성인입니다\")\n",
    "#if userage >= 13 and userage <19 :\n",
    "#    print(\"당신은 청소년입니다\")\n",
    "#if userage < 13 :\n",
    "#    print(\"당신은 아동입니다\")\n",
    "    \n",
    "if userage >= 19 :\n",
    "    print(\"당신은 성인입니다\")\n",
    "elif userage >= 13 and userage <19 : #elif = else if의 약자\n",
    "    print(\"당신은 청소년입니다\")\n",
    "else :\n",
    "    print(\"당신은 아동입니다\")"
   ]
  },
  {
   "cell_type": "markdown",
   "id": "c676f2a0-9bf3-45f8-b9cc-7a7515652cd8",
   "metadata": {},
   "source": [
    "- 사용자로부터 나이를 입력받은 후, 나이가 19세 이상이면 \"당신은 성인입니다\" 출력, 13세 이상 19세 미만이면 \"당신은 청소년 입니다\", 13세 미만 5세 이상 \"당신은 아동입니다.\", 5세 미만 \"당신은 유아입니다\"를 출력하세요.\n",
    "  "
   ]
  },
  {
   "cell_type": "code",
   "execution_count": 36,
   "id": "ec91e488-1ca4-4608-a5d3-c6fb8e5cf127",
   "metadata": {},
   "outputs": [
    {
     "name": "stdin",
     "output_type": "stream",
     "text": [
      "당신의 나이는 몇살인가요? 4\n"
     ]
    },
    {
     "name": "stdout",
     "output_type": "stream",
     "text": [
      "당신은 유아입니다\n"
     ]
    }
   ],
   "source": [
    "userage = int(input(\"당신의 나이는 몇살인가요?\"))\n",
    "\n",
    "if userage >= 19 :\n",
    "    print(\"당신은 성인입니다\")\n",
    "elif userage >= 13 and userage <19 :\n",
    "    print(\"당신은 청소년입니다\")\n",
    "elif userage < 13 and userage >=5 :\n",
    "    print(\"당신은 아동입니다\")\n",
    "elif userage <5 :\n",
    "    print(\"당신은 유아입니다\")"
   ]
  },
  {
   "cell_type": "markdown",
   "id": "7118aba2-b21d-4012-899f-155ad3eb0b95",
   "metadata": {},
   "source": [
    "- 사용자로부터 현재 현금이 얼마 있는지 확인 후, 10만원 이상이라면 \"레스토랑 갑시다!\" 출력, 5만원 이상이라면 \"뷔페를 갑시다!\" 출력, 5만원 미만이라면 \"집으로 가세요\"라고 출력해주세요."
   ]
  },
  {
   "cell_type": "code",
   "execution_count": 43,
   "id": "f5c57d41-745d-4449-a1bc-189c0702b1c6",
   "metadata": {},
   "outputs": [
    {
     "name": "stdin",
     "output_type": "stream",
     "text": [
      "지금 보유한 현금이 어떻게 되시나요? 250000\n"
     ]
    },
    {
     "name": "stdout",
     "output_type": "stream",
     "text": [
      "레스토랑에 갑시다!\n"
     ]
    },
    {
     "name": "stdin",
     "output_type": "stream",
     "text": [
      "당신이 보유한 현금은? 1240\n"
     ]
    },
    {
     "name": "stdout",
     "output_type": "stream",
     "text": [
      "집으로 가세요\n"
     ]
    }
   ],
   "source": [
    "userhavemoney = int(input(\"지금 보유한 현금이 어떻게 되시나요?\"))\n",
    "\n",
    "#if userhavemoney >= 100000 :\n",
    "#    print(\"레스토랑에 갑시다!\")\n",
    "#elif userhavemoney >= 50000 and userhavemoney < 100000 :\n",
    "#    print(\"뷔페에 갑시다!\")\n",
    "#elif userhavemoney < 50000 :\n",
    "#    print(\"집으로 가세요\")\n",
    "\n",
    "if userhavemoney >= 100000 :\n",
    "    print(\"레스토랑에 갑시다!\")\n",
    "elif userhavemoney >= 50000 and userhavemoney < 100000 :\n",
    "    print(\"뷔페에 갑시다!\")\n",
    "else :\n",
    "    print(\"집으로 가세요\")\n",
    "\n",
    "### 중첩 if 조건문\n",
    "cash = int(input(\"당신이 보유한 현금은?\"))\n",
    "\n",
    "if cash >= 100000 :\n",
    "    print(\"레스토랑으로 갑시다\")\n",
    "else :\n",
    "    if cash >= 50000 and case < 100000 :\n",
    "        print(\"뷔페로 갑시다\")\n",
    "    else :\n",
    "        print(\"집으로 가세요\")\n",
    "\n"
   ]
  },
  {
   "cell_type": "markdown",
   "id": "fac48861-b3e8-4739-98c3-38b1e500d372",
   "metadata": {},
   "source": [
    "- 사용자로부터 얼마의 현금이 있는 지 확인 후\n",
    "- (if 조건문의 첫 시작) 10만원 초과인 경우 레스토랑 출력,\n",
    "- (else구문의 첫시작)그렇지 않은 경우\n",
    "- (else구문 내 if조건문의 시작) 만약\n",
    "- 조건1) 5만원 미만인 경우 집 출력,\n",
    "- 조건2-elif활용) 7만원 초과인 경우 패밀리 레스토랑 출력,\n",
    "- 조건3-elif활용/else - if로 한번더 분할 가능) 6만원 초과인 경우, 한식집 출력,\n",
    "- (if문 내에 else문 시작) 그렇지 않으면 분식집 출력\n"
   ]
  },
  {
   "cell_type": "code",
   "execution_count": 66,
   "id": "be81ef3c-4ecb-4948-a85e-be7c033f4f32",
   "metadata": {},
   "outputs": [
    {
     "name": "stdin",
     "output_type": "stream",
     "text": [
      "현재 가지고 있는 현금이 얼마인가요? 50000\n"
     ]
    },
    {
     "name": "stdout",
     "output_type": "stream",
     "text": [
      "집으로 가세요\n"
     ]
    }
   ],
   "source": [
    "usercash = int(input(\"현재 가지고 있는 현금이 얼마인가요?\"))\n",
    "\n",
    "#풀이1\n",
    "#if usercash > 100000 :\n",
    "#    print(\"레스토랑으로 가주세요!\")\n",
    "#else :\n",
    "#    if usercash < 50000 :\n",
    "#        print(\"집으로 가 주세요!\")\n",
    "#    elif usercash > 70000 : \n",
    "#        print(\"페밀리레스토랑으로 가 주세요!\")\n",
    "#    elif 60000 <= usercash <= 70000 :\n",
    "#            print(\"한식집으로 가 주세요\")\n",
    "#    else :\n",
    "#            print(\"분식집으로 가 주세요\")\n",
    "\n",
    "#풀이2\n",
    "#if usercash > 100000 :\n",
    "#    print(\"레스토랑으로 가주세요!\")\n",
    "#else :\n",
    "#    if usercash < 50000 :\n",
    "#        print(\"집으로 가 주세요!\")\n",
    "#    elif usercash > 70000 : \n",
    "#        print(\"페밀리레스토랑으로 가 주세요!\")\n",
    "#    else:\n",
    "#        if 60000 <= usercash <= 70000 :\n",
    "#            print(\"한식집으로 가 주세요\")\n",
    "#        else :\n",
    "#            print(\"분식집으로 가 주세요\")\n",
    "\n",
    "#풀이3\n",
    "if usercash > 100000 :\n",
    "    print(\"레스토랑으로 가주세요!\")\n",
    "else :\n",
    "    if usercash > 50000 :\n",
    "        print(\"아래 중에 선택해 주세요.\")\n",
    "        if usercash > 70000 : \n",
    "            print(\"페밀리레스토랑으로 가 주세요!\")\n",
    "        elif usercash > 60000 :\n",
    "            print(\"한식집으로 가 주세요\")\n",
    "        else :\n",
    "            print(\"분식집으로 가 주세요\")\n",
    "    else:\n",
    "        print(\"집으로 가세요\")"
   ]
  },
  {
   "cell_type": "markdown",
   "id": "849e15bd-becb-4b06-915b-28e6510da679",
   "metadata": {},
   "source": [
    "- 사용자로부터 특정 숫자를 입력받은 후 해당 숫자가 홀수인지 짝수인지 분별해서 추력해 주세요."
   ]
  },
  {
   "cell_type": "code",
   "execution_count": 68,
   "id": "626a61b6-c485-42e2-acff-22ace7ed01ae",
   "metadata": {},
   "outputs": [
    {
     "name": "stdin",
     "output_type": "stream",
     "text": [
      "숫자를 입력해주세요 :  48421870\n"
     ]
    },
    {
     "name": "stdout",
     "output_type": "stream",
     "text": [
      "짝수입니다\n"
     ]
    }
   ],
   "source": [
    "num = int(input(\"숫자를 입력해주세요 : \"))\n",
    "\n",
    "if num % 2 == 0:\n",
    "    print(\"짝수입니다\")\n",
    "else:\n",
    "    print(\"홀수입니다\")"
   ]
  },
  {
   "cell_type": "markdown",
   "id": "2794f696-75b1-4f31-a2f6-ab24c34cabf3",
   "metadata": {},
   "source": [
    "- 사용자로부터 3개의 숫자를 입력받은 후, 그중 가장 작은 숫자를 출력해주세요."
   ]
  },
  {
   "cell_type": "code",
   "execution_count": 6,
   "id": "d4fe01c5-7e5f-4a8c-9359-a7a1b3e5beb5",
   "metadata": {},
   "outputs": [
    {
     "name": "stdin",
     "output_type": "stream",
     "text": [
      "숫자를 입력해주세요 :  1\n",
      "숫자를 입력해주세요 :  3\n",
      "숫자를 입력해주세요 :  5\n"
     ]
    },
    {
     "name": "stdout",
     "output_type": "stream",
     "text": [
      "1\n"
     ]
    }
   ],
   "source": [
    "num2 = int(input(\"숫자를 입력해주세요 : \"))\n",
    "num3 = int(input(\"숫자를 입력해주세요 : \"))\n",
    "num4 = int(input(\"숫자를 입력해주세요 : \"))\n",
    "\n",
    "if num2 <= num3 and num2 <= num4:\n",
    "    print(num2)\n",
    "elif num3 <= num2 and num3 <=num4:\n",
    "    print(num3)\n",
    "elif num4 <= num2 and num4 <= num3:\n",
    "    print(num4)\n"
   ]
  },
  {
   "cell_type": "code",
   "execution_count": 7,
   "id": "06126c38-3b9e-426c-b4b9-b38f779497fe",
   "metadata": {},
   "outputs": [
    {
     "name": "stdin",
     "output_type": "stream",
     "text": [
      "숫자를 입력해주세요 :  4\n",
      "숫자를 입력해주세요 :  8\n",
      "숫자를 입력해주세요 :  57\n"
     ]
    },
    {
     "data": {
      "text/plain": [
       "4"
      ]
     },
     "execution_count": 7,
     "metadata": {},
     "output_type": "execute_result"
    }
   ],
   "source": [
    "num2 = int(input(\"숫자를 입력해주세요 : \"))\n",
    "num3 = int(input(\"숫자를 입력해주세요 : \"))\n",
    "num4 = int(input(\"숫자를 입력해주세요 : \"))\n",
    "\n",
    "#조금더 효율적인 해설\n",
    "min(num2, num3, num4)"
   ]
  },
  {
   "cell_type": "code",
   "execution_count": 8,
   "id": "a77dcb69-0870-40d0-b229-84db2cd16961",
   "metadata": {},
   "outputs": [
    {
     "name": "stdin",
     "output_type": "stream",
     "text": [
      " 7\n",
      " 8\n",
      " 4896\n"
     ]
    },
    {
     "data": {
      "text/plain": [
       "7"
      ]
     },
     "execution_count": 8,
     "metadata": {},
     "output_type": "execute_result"
    }
   ],
   "source": [
    "nums = [int(input()) for _ in range(3)]\n",
    "min(nums)"
   ]
  }
 ],
 "metadata": {
  "kernelspec": {
   "display_name": "Python [conda env:base] *",
   "language": "python",
   "name": "conda-base-py"
  },
  "language_info": {
   "codemirror_mode": {
    "name": "ipython",
    "version": 3
   },
   "file_extension": ".py",
   "mimetype": "text/x-python",
   "name": "python",
   "nbconvert_exporter": "python",
   "pygments_lexer": "ipython3",
   "version": "3.13.5"
  }
 },
 "nbformat": 4,
 "nbformat_minor": 5
}
