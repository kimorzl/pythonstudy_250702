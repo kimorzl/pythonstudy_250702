{
 "cells": [
  {
   "cell_type": "markdown",
   "id": "9059438b-8ab7-4b38-83df-73b9e72bd0da",
   "metadata": {},
   "source": [
    "#### 파이썬  입,출력 복습 예시\n",
    "\n",
    "- 사용자로부터 두 개의 숫자를 입력받은 후 해당 두 개의 숫자를 더한 값을 출력하는 프로그램을 작성해주세요."
   ]
  },
  {
   "cell_type": "code",
   "execution_count": 2,
   "id": "de77a36f-25c0-42da-8a70-b8d53079c10a",
   "metadata": {},
   "outputs": [
    {
     "name": "stdin",
     "output_type": "stream",
     "text": [
      "첫번째 숫자를 입력해 주세요 :  3\n",
      "두번째 숫자를 입력해 주세요 :  5\n"
     ]
    },
    {
     "name": "stdout",
     "output_type": "stream",
     "text": [
      " 입력받은 두 숫자의 합 :  8\n"
     ]
    }
   ],
   "source": [
    "a = int(input(\"첫번째 숫자를 입력해 주세요 : \"))\n",
    "b = int(input(\"두번째 숫자를 입력해 주세요 : \"))\n",
    "print(\" 입력받은 두 숫자의 합 : \", a+b)"
   ]
  },
  {
   "cell_type": "code",
   "execution_count": null,
   "id": "06627399-efc3-4419-b41d-a14d328c90a1",
   "metadata": {},
   "outputs": [],
   "source": [
    "- 사용자로부터 두개의 숫자를 입력받은 후, 곱셈, 나눈셈, 나눈 몫, 나머지 값을 각각 출력하는 프로그램을 작성해보세요."
   ]
  },
  {
   "cell_type": "code",
   "execution_count": 8,
   "id": "1995f88b-87e5-4d8f-9e3b-9632d5616faf",
   "metadata": {},
   "outputs": [
    {
     "name": "stdin",
     "output_type": "stream",
     "text": [
      "첫번째 숫자를 입력해 주세요 :  10\n",
      "두번째 숫자를 입력해 주세요 :  3\n"
     ]
    },
    {
     "name": "stdout",
     "output_type": "stream",
     "text": [
      " 두 수의 곱셈 값 :  30\n",
      " 두 수의 나눗셈 값 :  3.3333333333333335\n",
      " 두 수의 나눈셈 몫의 값 :  3\n",
      " 두 수의 나머지 값 :  1\n",
      "나눈 값 : 10 / 3 = 3.3333333333333335\n",
      "10 // 3 = 3\n",
      "나머지 값 : 10 % 3 = 1\n"
     ]
    }
   ],
   "source": [
    "num1 = int(input(\"첫번째 숫자를 입력해 주세요 : \"))\n",
    "num2 = int(input(\"두번째 숫자를 입력해 주세요 : \"))\n",
    "\n",
    "print(\" 두 수의 곱셈 값 : \", num1*num2)\n",
    "print(\" 두 수의 나눗셈 값 : \", num1/num2)\n",
    "print(\" 두 수의 나눈셈 몫의 값 : \", num1//num2)\n",
    "print(\" 두 수의 나머지 값 : \", num1% num2)\n",
    "\n",
    "print(f\"나눈 값 : {num1} / {num2} = {num1 / num2}\")\n",
    "print(num1,\"//\", num2, \"=\" ,num1//num2)\n",
    "print(f\"나머지 값 : {num1} % {num2} = {num1 % num2}\")"
   ]
  },
  {
   "cell_type": "markdown",
   "id": "03a161f1-a273-4270-8f47-7181e20d3f3a",
   "metadata": {},
   "source": [
    "### 데이터 자료 구조 - 리스트 [list]\n",
    "- python의 리스트(list) == 타 프로그래밍 언어의 배열(array)\n",
    "\n",
    "* 리스트 = 배열이 중요한 이유\n",
    "  - 프로그래밍 언어는 패턴을 갖는 반복적 작업을 인간에 비해 효율적으로 빠르게 처리\n",
    "  - 연산처리 작업을 반복해서 할 수 있는 형태의 자료구조를 가져야 작업이 가능\n",
    "  - 리스트는 이터러블(iterable, 반복적인)한 객체를 의미 // class(객체 - 추후 진도)\n",
    "  - 리스트 자료구조는 내부에 입력된 값에 고유한 개별적인 인덱스(index)값을 부여받음\n",
    "\n",
    "* 리스트 표기 방법\n",
    "  - [객체, 객체, --- ,]\n",
    "  - 단일 값보다 복수의 값으로 활용해야할 코드에 사용\n",
    "  - 리스트는 각각 고유한 인덱스 값을 보유 (0부터 시작)\n",
    "  - 리스트에서 특정 인덱스 값을 찾아오고자 할때 -> 변수명[인덱스값] & 값을 오른쪽부터 찾고싶을시 -1 음수값부터 시작\n",
    "  - 문자열과 동일하게 슬라이싱 기능 보유 -> 변수명[시작인덱스: 종료인덱스 + 1]\n",
    "\n",
    "\n",
    "* 리스트 자료 구조에서 활용하는 함수\n",
    "  - append() : 리스트 자료구조에서 왼쪽부터 신규로 값을 추가할 수 있도록 해주는 함수 !! 한 번에 여러개 값을 추가할 수 없음 !!\n",
    "  - expend() : 리스트 자료구조에서 복수의 값을 신규로 추가할 수 있도록 해주는 함수\n",
    "  - insert() : 리스트 자료구조 추가하고자하는 위치에 내용을 넣는 함수 -> data.insert(인덱스 위치, \"인덱스 값\")\n",
    "  - remove() : 함수의 인자값을 리스트 자료구조의 왼쪽부터 서칭해 발견시, 삭제해주는 함수\n",
    "  - del : del 변수명[인덱스값] -> 해당 인덱스값을 삭제해주는 함수\n",
    "  - sort() : 리스트 안의 값을 올림차순으로 정렬할 때 사용하는 함수\n",
    "  - reverse() : 리스트 안의 값을 내림차순으로 정렬할 때 사용하는 함수\n",
    "  - split() : 문자열의 자료형태를 인자값을 기준으로 나눠 리스트 자료구조로 변환시켜주는 함수\n",
    "\n",
    "\n",
    "* 리스트 자료구조 생성하는 방법\n",
    "  - 변수 선언과 함께 직접 대괄호 입력 후 내부에 요소를 입력하는 방법\n",
    "  - 빈 리스트를 생성 후, 값을 하나씩 채워가는 방법\n",
    "  - 파이썬 내 클래스 문법을 통해 이미 생성된 리스트 프로토타입 활용한 인스턴스 객체를 생성하는 방법"
   ]
  },
  {
   "cell_type": "code",
   "execution_count": 9,
   "id": "d71b10bd-d852-42a4-af23-55639fb08f60",
   "metadata": {},
   "outputs": [
    {
     "name": "stdout",
     "output_type": "stream",
     "text": [
      "오마이뉴스\n",
      "한국일보\n",
      "시사인\n",
      "뉴시스\n",
      "KBSNEWS\n",
      "스포츠조선\n"
     ]
    }
   ],
   "source": [
    "mydata = [\"Hello\", 3, \"Jennie\", 487]\n",
    "news = [\"오마이뉴스\", \"한국일보\", \"시사인\", \"뉴시스\", \"KBSNEWS\", \"스포츠조선\"]\n",
    "\n",
    "for media in news :\n",
    "    print(media)"
   ]
  },
  {
   "cell_type": "code",
   "execution_count": 30,
   "id": "e2a5e12f-00c0-427a-8ec6-a633fde9b38d",
   "metadata": {},
   "outputs": [
    {
     "name": "stdout",
     "output_type": "stream",
     "text": [
      "서울시\n",
      "['서울시', '경기도', '인천시']\n",
      "<class 'list'>\n"
     ]
    }
   ],
   "source": [
    "location = [\"서울시\", \"경기도\", \"인천시\"]\n",
    "print(location[0]) #location이라는 리스트 내의 0번째 인덱스 값을 인쇄하라.\n",
    "print(location) #location이라는 list값 모두 출력해라.\n",
    "print(type(location)) #location의 type을 출력해라"
   ]
  },
  {
   "cell_type": "code",
   "execution_count": 8,
   "id": "abf62582-35cf-4bd5-9ab0-abe1b4c57eb0",
   "metadata": {},
   "outputs": [
    {
     "name": "stdout",
     "output_type": "stream",
     "text": [
      "['서울시', '경기도', '인천시', '부산시']\n",
      "['서울시', '경기도', '인천시', '부산시', '천안', '대구', '제주도']\n"
     ]
    }
   ],
   "source": [
    "location = [\"서울시\", \"경기도\", \"인천시\"]\n",
    "location.append(\"부산시\")\n",
    "print(location)\n",
    "\n",
    "location.extend([\"천안\",\"대구\",\"제주도\"])\n",
    "print(location)\n",
    "\n"
   ]
  },
  {
   "cell_type": "code",
   "execution_count": 9,
   "id": "11399738-783c-43d6-acaa-f06107edbb18",
   "metadata": {},
   "outputs": [
    {
     "name": "stdout",
     "output_type": "stream",
     "text": [
      "['서울시', '경기도', '인천시', '여수', '부산시', '천안', '대구', '제주도']\n"
     ]
    }
   ],
   "source": [
    "location.insert(3, \"여수\")\n",
    "print(location)"
   ]
  },
  {
   "cell_type": "code",
   "execution_count": 52,
   "id": "05b79d15-0a57-441d-b8b6-8f6447ab7def",
   "metadata": {},
   "outputs": [
    {
     "name": "stdout",
     "output_type": "stream",
     "text": [
      "['서울시', '경기도', '인천시', '완도군', '부산시']\n"
     ]
    }
   ],
   "source": [
    "### 리스트 요소 추가 함수 append()\n",
    "### append로 인해 추가되는 요소는 중복 적용이 된다.\n",
    "location.append(\"부산시\")\n",
    "print(location)"
   ]
  },
  {
   "cell_type": "code",
   "execution_count": 53,
   "id": "2f55e1de-47b2-43d0-87de-66eed651668c",
   "metadata": {},
   "outputs": [
    {
     "data": {
      "text/plain": [
       "'부산시'"
      ]
     },
     "execution_count": 53,
     "metadata": {},
     "output_type": "execute_result"
    }
   ],
   "source": [
    "location.append(\"완도군\")\n",
    "location\n",
    "location[-2] \n",
    "#list의 경우 따로 print 함수를 사용하지 않더라도 결과값을 출력할 수 있다.\n",
    "#인덱스는 0번부터 시작, -인덱스는 반대쪽부터 자료를 읽어옴"
   ]
  },
  {
   "cell_type": "code",
   "execution_count": 41,
   "id": "fbd0c28d-0460-47d8-9c96-103ae4622d58",
   "metadata": {},
   "outputs": [
    {
     "data": {
      "text/plain": [
       "['경기도', '인천시']"
      ]
     },
     "execution_count": 41,
     "metadata": {},
     "output_type": "execute_result"
    }
   ],
   "source": [
    "location[1:3]"
   ]
  },
  {
   "cell_type": "code",
   "execution_count": 10,
   "id": "7a1b054a-cd1a-41d4-961a-420cbf6b2e58",
   "metadata": {},
   "outputs": [
    {
     "data": {
      "text/plain": [
       "['서울시', '경기도', '여수', '천안', '대구', '제주도']"
      ]
     },
     "execution_count": 10,
     "metadata": {},
     "output_type": "execute_result"
    }
   ],
   "source": [
    "### 리스트 요소 삭제 함수 remove()\n",
    "# remove의 경우 왼쪽부터 () 요소를 순차적으로 찾아 삭제\n",
    "location.remove(\"부산시\")\n",
    "location\n",
    "location.remove(\"인천시\")\n",
    "location"
   ]
  },
  {
   "cell_type": "code",
   "execution_count": 11,
   "id": "2867dddc-a8fe-4ea5-9b04-fd1d9534be03",
   "metadata": {},
   "outputs": [
    {
     "data": {
      "text/plain": [
       "['서울시', '경기도', '천안', '대구', '제주도']"
      ]
     },
     "execution_count": 11,
     "metadata": {},
     "output_type": "execute_result"
    }
   ],
   "source": [
    "### 리스트 요소 삭제 함수 del\n",
    "# del 함수는 리스트 내 특정 요소 삭제\n",
    "del location[2]\n",
    "location"
   ]
  },
  {
   "cell_type": "code",
   "execution_count": 57,
   "id": "bcdeb05f-dcaf-4ad5-b211-0c69730c5660",
   "metadata": {},
   "outputs": [],
   "source": [
    "### 리스트에 여러가지 요소를 한번에 추가 가능한 함수 extend()\n",
    "location.extend([\"천안\",\"대구\",\"제주도\"])"
   ]
  },
  {
   "cell_type": "code",
   "execution_count": 58,
   "id": "735d24d0-e569-4dfe-9406-2740eb71bfb5",
   "metadata": {},
   "outputs": [
    {
     "data": {
      "text/plain": [
       "['서울시', '경기도', '완도군', '천안', '대구', '제주도']"
      ]
     },
     "execution_count": 58,
     "metadata": {},
     "output_type": "execute_result"
    }
   ],
   "source": [
    "location"
   ]
  },
  {
   "cell_type": "code",
   "execution_count": 60,
   "id": "31d02670-d571-4b56-ad5e-27d86dfa98f8",
   "metadata": {},
   "outputs": [],
   "source": [
    "### insert() 원하는 인덱스 위치에 원하는 값을 추가할 수 있는 함수\n",
    "location.insert(0, \"부산시\")"
   ]
  },
  {
   "cell_type": "code",
   "execution_count": 61,
   "id": "611392e2-4619-44e3-831c-d8d1433438c7",
   "metadata": {},
   "outputs": [
    {
     "data": {
      "text/plain": [
       "['부산시', '서울시', '경기도', '완도군', '천안', '대구', '제주도']"
      ]
     },
     "execution_count": 61,
     "metadata": {},
     "output_type": "execute_result"
    }
   ],
   "source": [
    "location"
   ]
  },
  {
   "cell_type": "code",
   "execution_count": 71,
   "id": "5130adc0-4472-43a3-bb53-b37409eff8b8",
   "metadata": {},
   "outputs": [
    {
     "name": "stdout",
     "output_type": "stream",
     "text": [
      "<class 'list'>\n"
     ]
    }
   ],
   "source": [
    "### 빈 리스트를 생성 후, 값을 하나씩 채워가는 방법\n",
    "location01 = []\n",
    "print(type(location01))"
   ]
  },
  {
   "cell_type": "code",
   "execution_count": 67,
   "id": "33fe8db5-d176-43e2-9cbe-e6e1c34144ae",
   "metadata": {},
   "outputs": [],
   "source": [
    "location01.append(\"강원도\")"
   ]
  },
  {
   "cell_type": "code",
   "execution_count": 68,
   "id": "00a6a003-0dd0-44b6-8e09-a5c24ab9efdb",
   "metadata": {},
   "outputs": [
    {
     "data": {
      "text/plain": [
       "['강원도']"
      ]
     },
     "execution_count": 68,
     "metadata": {},
     "output_type": "execute_result"
    }
   ],
   "source": [
    "location01"
   ]
  },
  {
   "cell_type": "code",
   "execution_count": 70,
   "id": "27ad4dc5-5c4a-4622-a9d4-9380b9cef015",
   "metadata": {},
   "outputs": [
    {
     "name": "stdout",
     "output_type": "stream",
     "text": [
      "<class 'list'>\n"
     ]
    }
   ],
   "source": [
    "### 파이썬 내 클래스 문법을 통해 이미 생성된 리스트 프로토타입 활용한 인스턴스 객체를 생성하는 방법\n",
    "location02 = list()\n",
    "print(type(location02))"
   ]
  },
  {
   "cell_type": "code",
   "execution_count": 74,
   "id": "75d59faa-674c-4e4f-8125-b8c6ca5d4d40",
   "metadata": {},
   "outputs": [
    {
     "name": "stdout",
     "output_type": "stream",
     "text": [
      "[2, 1, 4, 3]\n",
      "[1, 2, 3, 4]\n",
      "[4, 3, 2, 1]\n"
     ]
    }
   ],
   "source": [
    "numbers = [2, 1, 4, 3]\n",
    "print(numbers)\n",
    "\n",
    "#sort()는 자료를 올림차순 정렬하는 내장함수\n",
    "numbers.sort()\n",
    "print(numbers)\n",
    "\n",
    "#reverse()는 자료를 내림차순으로 청렬하는 내장함수\n",
    "numbers.reverse()\n",
    "print(numbers)"
   ]
  },
  {
   "cell_type": "code",
   "execution_count": 12,
   "id": "f7cf0714-7fa5-4413-baf0-ecb0aef8026e",
   "metadata": {},
   "outputs": [
    {
     "name": "stdout",
     "output_type": "stream",
     "text": [
      "['python', 'is', 'easy']\n"
     ]
    },
    {
     "data": {
      "text/plain": [
       "'python'"
      ]
     },
     "execution_count": 12,
     "metadata": {},
     "output_type": "execute_result"
    }
   ],
   "source": [
    "###자료형 변환 1. 쪼개기\n",
    "pythonBasic = \"python is easy\"\n",
    "pylist = pythonBasic.split()\n",
    "print(pylist)\n",
    "pylist[0]"
   ]
  },
  {
   "cell_type": "code",
   "execution_count": null,
   "id": "b02b2ef3-be65-4e4d-9830-27d11ed3865a",
   "metadata": {},
   "outputs": [],
   "source": []
  }
 ],
 "metadata": {
  "kernelspec": {
   "display_name": "Python [conda env:base] *",
   "language": "python",
   "name": "conda-base-py"
  },
  "language_info": {
   "codemirror_mode": {
    "name": "ipython",
    "version": 3
   },
   "file_extension": ".py",
   "mimetype": "text/x-python",
   "name": "python",
   "nbconvert_exporter": "python",
   "pygments_lexer": "ipython3",
   "version": "3.13.5"
  }
 },
 "nbformat": 4,
 "nbformat_minor": 5
}
