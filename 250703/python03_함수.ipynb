{
 "cells": [
  {
   "cell_type": "markdown",
   "id": "009f026d-9f19-4a7a-b8a6-0e4cf205557c",
   "metadata": {},
   "source": [
    "#### 함수(function)\n",
    "- 함수는 선언&호출의 개념\n",
    "- 인자값 혹은 인수의 개념을 가짐\n",
    "- 함수를 선언하는 단계에서는 매개변수를 지정한다라고 부르고, 실제로 함수를 호출하는 단계에서는 이미 지정해놓은 매개변수의 공간에 입력할 값을 인자값 혹은 인수라고 부름\n",
    "- 매개변수를 지정했다면, 반드시 호출할때 인자값을 넣어줘야한다.\n",
    "- 매개변수와 인자값의 개수는 반드시 일치해야한다.\n",
    "- 호출하는 순간 종결되며, 종결즉시 메모리 공간에서 휘발된다.\n",
    "- return문은 종결에 써야한다.(반드시!!!)\n",
    "  ```\n",
    "  def 함수이름(인자값=인수=매개변수) :\n",
    "      실행문\n",
    "      return 반환하고자하는 값\n",
    "  ```\n",
    "\n",
    "- def는 definition의 약자 : 선언한다\n",
    "- 함수에 해당하는 실행문은 조건, 반복, 연산 등 원하는 흐름을 부여해준다."
   ]
  },
  {
   "cell_type": "code",
   "execution_count": 1,
   "id": "a5982ea1-4710-4e4b-b054-ee4fcb71cbbe",
   "metadata": {},
   "outputs": [],
   "source": [
    "def func1() : #func1이라는 함수를 선언한 상태\n",
    "    print(\"Hello\")\n",
    "    print(\"Hello\")\n",
    "    print(\"Hello\")\n",
    "    print(\"Hello\")"
   ]
  },
  {
   "cell_type": "code",
   "execution_count": 3,
   "id": "04f72c7a-0963-4223-acdd-f8aa4a8cecec",
   "metadata": {},
   "outputs": [
    {
     "name": "stdout",
     "output_type": "stream",
     "text": [
      "Hello\n",
      "Hello\n",
      "Hello\n",
      "Hello\n"
     ]
    }
   ],
   "source": [
    "func1() #함수는 호출 즉시, 선언구에 대한 행위를 진행함"
   ]
  },
  {
   "cell_type": "code",
   "execution_count": 16,
   "id": "85e3c278-6277-4651-b9de-9dd05b18cedf",
   "metadata": {},
   "outputs": [],
   "source": [
    "def func2(parameter) :\n",
    "    print(f\"Hello, {parameter}\")\n",
    "\n",
    "\n",
    "def func2_1(parameter01, parameter02):\n",
    "    print(f\"Hello, {parameter01} {parameter02}\")\n",
    "    return f\"Hello, {parameter01} {parameter02}\""
   ]
  },
  {
   "cell_type": "code",
   "execution_count": 17,
   "id": "1af32f52-d452-4b0f-9591-a1b929637fb0",
   "metadata": {},
   "outputs": [
    {
     "name": "stdout",
     "output_type": "stream",
     "text": [
      "Hello, orzl\n",
      "Hello, Minzy Heryin\n"
     ]
    },
    {
     "data": {
      "text/plain": [
       "'Hello, Minzy Heryin'"
      ]
     },
     "execution_count": 17,
     "metadata": {},
     "output_type": "execute_result"
    }
   ],
   "source": [
    "func2(\"orzl\")\n",
    "func2_1(\"Minzy\",\"Heryin\")"
   ]
  },
  {
   "cell_type": "code",
   "execution_count": 18,
   "id": "8e7e23be-38b1-4d56-ac5f-8eadf597ff93",
   "metadata": {},
   "outputs": [
    {
     "name": "stdout",
     "output_type": "stream",
     "text": [
      "Hello, Marry Hobb\n"
     ]
    },
    {
     "data": {
      "text/plain": [
       "'Hello, Marry Hobb'"
      ]
     },
     "execution_count": 18,
     "metadata": {},
     "output_type": "execute_result"
    }
   ],
   "source": [
    "result = func2_1(\"Marry\", \"Hobb\")\n",
    "result"
   ]
  },
  {
   "cell_type": "code",
   "execution_count": 23,
   "id": "d5ec727b-715c-405d-840f-1c9ccfa6b7cb",
   "metadata": {},
   "outputs": [],
   "source": [
    "def sum(a,b) :\n",
    "    c = 1 #지역변수(local)\n",
    "    result02 = a + b\n",
    "    return(result02)\n",
    "\n",
    "a = 1 #전역변수(global)"
   ]
  },
  {
   "cell_type": "code",
   "execution_count": 20,
   "id": "736da46a-2093-4e25-9a0d-4f178f481887",
   "metadata": {},
   "outputs": [
    {
     "data": {
      "text/plain": [
       "3"
      ]
     },
     "execution_count": 20,
     "metadata": {},
     "output_type": "execute_result"
    }
   ],
   "source": [
    "sum(1,2)"
   ]
  },
  {
   "cell_type": "code",
   "execution_count": 21,
   "id": "1754a163-6d28-4251-94ee-2495ee4376f5",
   "metadata": {},
   "outputs": [
    {
     "data": {
      "text/plain": [
       "1"
      ]
     },
     "execution_count": 21,
     "metadata": {},
     "output_type": "execute_result"
    }
   ],
   "source": [
    "a"
   ]
  },
  {
   "cell_type": "code",
   "execution_count": 25,
   "id": "08e1ffeb-913b-4906-ba28-45d844cef77a",
   "metadata": {},
   "outputs": [
    {
     "name": "stdout",
     "output_type": "stream",
     "text": [
      "1\n",
      "2\n",
      "3\n"
     ]
    }
   ],
   "source": [
    "for item in [1,2,3] :\n",
    "    print(item) # item - 블록변수(block) = 가장 작은 구역에서만 사용할 수 있음"
   ]
  },
  {
   "cell_type": "code",
   "execution_count": 26,
   "id": "b3dc7e3e-4432-4c85-b2a2-62f6a491f484",
   "metadata": {},
   "outputs": [],
   "source": [
    "def func7(a):\n",
    "    b = a + 1\n",
    "    return a, b\n",
    "    "
   ]
  },
  {
   "cell_type": "code",
   "execution_count": 28,
   "id": "0f09f389-61bd-42eb-8477-3d8f5a94e491",
   "metadata": {},
   "outputs": [
    {
     "name": "stdout",
     "output_type": "stream",
     "text": [
      "(7, 8)\n",
      "<class 'tuple'>\n"
     ]
    }
   ],
   "source": [
    "result07 = func7(7)\n",
    "print(result07)\n",
    "print(type(result07))  \n",
    "#tuple은 값, 형태, 갯수가 정해져있는 list타입 - 안정적이나 데이터를 변경할 수 없음\n",
    "#tuple을 활용하는 경우는 값이 유동적으로 바뀌지 않아야하는 곳에서 활용\n",
    "#list는 값, 형태, 갯수가 정해져 있지 않아 비쌈(메모리 내, 데이터 할당량/공간 차지를 많이 함)"
   ]
  },
  {
   "cell_type": "code",
   "execution_count": 29,
   "id": "6341ddd1-4078-489f-b4f0-832db9ca9869",
   "metadata": {},
   "outputs": [
    {
     "name": "stdout",
     "output_type": "stream",
     "text": [
      "<class 'str'>\n",
      "<class 'int'>\n",
      "<class 'bool'>\n",
      "<class 'list'>\n"
     ]
    }
   ],
   "source": [
    "print(type(\"str\"))\n",
    "print(type(1))\n",
    "print(type(True))\n",
    "print(type([1,2,3]))"
   ]
  },
  {
   "cell_type": "code",
   "execution_count": 30,
   "id": "942a6c6b-4235-488b-b1e3-535db86acfad",
   "metadata": {},
   "outputs": [],
   "source": [
    "def id_check(id):\n",
    "    if id == \"admin\" :\n",
    "        print(\"invalid id : admin\")\n",
    "        return #값을 굳이 주지 않아도 됨, 종결이라는 큰 의미 안에 값을 줄수도 있고 주지 않을수도 있음\n",
    "   #else:   \n",
    "    print(\"valid id : \", id) #return이 나오는 순간 이미 종결이기 때문에 else는 필요 없으며 print구문은 if와 동일 선상에 나와야 함\n",
    "\n",
    "\n",
    "# if - else 구문에서 else는 옵션 (굳이 사용하지 않아도 됨)\n",
    "# else문은 독립문으로서 활용되기도 한다. (다만, 사용빈도가 적음)"
   ]
  },
  {
   "cell_type": "code",
   "execution_count": 32,
   "id": "a33874ab-7302-481a-9a97-3d7604594a74",
   "metadata": {},
   "outputs": [
    {
     "name": "stdout",
     "output_type": "stream",
     "text": [
      "invalid id : admin\n"
     ]
    }
   ],
   "source": [
    "id_check(\"admin\")"
   ]
  }
 ],
 "metadata": {
  "kernelspec": {
   "display_name": "Python [conda env:base] *",
   "language": "python",
   "name": "conda-base-py"
  },
  "language_info": {
   "codemirror_mode": {
    "name": "ipython",
    "version": 3
   },
   "file_extension": ".py",
   "mimetype": "text/x-python",
   "name": "python",
   "nbconvert_exporter": "python",
   "pygments_lexer": "ipython3",
   "version": "3.13.5"
  }
 },
 "nbformat": 4,
 "nbformat_minor": 5
}
