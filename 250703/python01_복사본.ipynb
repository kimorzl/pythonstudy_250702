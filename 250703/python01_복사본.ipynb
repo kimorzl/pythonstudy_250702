{
 "cells": [
  {
   "cell_type": "markdown",
   "id": "42383d00-c599-4bfa-bc6c-26e1d4c1c823",
   "metadata": {},
   "source": [
    "#### 25.07.02 복습\n",
    "\n",
    "- 사용자로부터 점수를 입력받은 후 등급을 출력하세요.\n",
    "  ( A : 100 ~ 81, B : 80 ~ 61, C : 60 ~ 0)"
   ]
  },
  {
   "cell_type": "code",
   "execution_count": 7,
   "id": "83527f12-00f3-483c-b3d6-03614deef743",
   "metadata": {},
   "outputs": [
    {
     "name": "stdin",
     "output_type": "stream",
     "text": [
      "이번 시험 점수를 입력하세요 :  78\n"
     ]
    },
    {
     "name": "stdout",
     "output_type": "stream",
     "text": [
      "당신의 시험 등급은 B입니다\n"
     ]
    },
    {
     "name": "stdin",
     "output_type": "stream",
     "text": [
      "사용자의 점수 81\n"
     ]
    },
    {
     "name": "stdout",
     "output_type": "stream",
     "text": [
      "A\n"
     ]
    },
    {
     "name": "stdin",
     "output_type": "stream",
     "text": [
      "사용자의 점수 57\n"
     ]
    },
    {
     "name": "stdout",
     "output_type": "stream",
     "text": [
      "C\n"
     ]
    }
   ],
   "source": [
    "score = int(input(\"이번 시험 점수를 입력하세요 : \"))\n",
    "\n",
    "#풀이 1\n",
    "if score > 80 :\n",
    "    print(\"당신의 시험 등급은 A입니다\")\n",
    "elif score > 60 :\n",
    "    print(\"당신의 시험 등급은 B입니다\")\n",
    "else :\n",
    "    print(\"당신의 시험 등급은 C입니다\")\n",
    "\n",
    "#풀이2\n",
    "data = int(input(\"사용자의 점수\"))\n",
    "\n",
    "if data >= 81 and data <= 100 :\n",
    "    print(\"A\")\n",
    "elif data >= 61 and data <= 80 :\n",
    "    print(\"B\")\n",
    "else:\n",
    "    print(\"C\")\n",
    "\n",
    "#풀이3\n",
    "data1 = int(input(\"사용자의 점수\"))\n",
    "\n",
    "if data1 >= 81 and data1 <= 100 :\n",
    "    print(\"A\")\n",
    "elif data1 >= 61 and data1 <= 80 :\n",
    "    print(\"B\")\n",
    "elif data1 >= 0 and data1 <= 60:\n",
    "    print(\"C\")"
   ]
  },
  {
   "cell_type": "code",
   "execution_count": null,
   "id": "dab13547-1123-4794-9965-30f1c73aa93b",
   "metadata": {},
   "outputs": [],
   "source": [
    "- 사용자로부터 주민등록번호를 입력받아 확인 후, 출생연도만 출력해 주세요.\n",
    "      ex. 800000-1234567 => 80년생 입니다.\n",
    "\n",
    "1. 입력받은 데이터를 -를 기준으로 리스트화 한다\n",
    "2. 리스트를 스플릿해 0,1번째 인덱스를 추출한다\n",
    "3. 0,1번째 인덱스 + 년생 입니다를 출력한다."
   ]
  },
  {
   "cell_type": "code",
   "execution_count": 17,
   "id": "bad9d0d2-771a-4201-80e6-1acaf6f5fb4f",
   "metadata": {},
   "outputs": [
    {
     "name": "stdin",
     "output_type": "stream",
     "text": [
      "당신의 주민번호를 입력해주세요 801221-1234567\n"
     ]
    },
    {
     "name": "stdout",
     "output_type": "stream",
     "text": [
      "80 년생\n",
      "80년생\n"
     ]
    }
   ],
   "source": [
    "#해설 1\n",
    "year = input(\"당신의 주민번호를 입력해주세요\")\n",
    "age = year[0:2]\n",
    "\n",
    "print(age,\"년생\")\n",
    "print(f\"{age}년생\")"
   ]
  },
  {
   "cell_type": "code",
   "execution_count": 18,
   "id": "c1376ff2-943f-480b-bacc-72134ae71214",
   "metadata": {},
   "outputs": [
    {
     "name": "stdin",
     "output_type": "stream",
     "text": [
      "주민등록번호를 입력해주세요. 701231-1234567\n"
     ]
    },
    {
     "name": "stdout",
     "output_type": "stream",
     "text": [
      "70 년생\n"
     ]
    }
   ],
   "source": [
    "#해설 2\n",
    "data = input(\"주민등록번호를 입력해주세요.\")\n",
    "age1 = data.split(\"-\") #split안에 들어가는 인자는 구분자라 부름\n",
    "print(age1[0][0:2],\"년생\") \n",
    "#상세 설명\n",
    "# age2=age1[0] - 해당 단계를 출약했다고 생각해도 좋음\n",
    "#print(age2[0:2])\n",
    "\n",
    "#최고의 축약형\n",
    "# print(data.split(\"-\")[0][0:2])\n",
    "# print(f\"{data.split(\"-\")[0][0:2]}년생\")"
   ]
  },
  {
   "cell_type": "markdown",
   "id": "fd961bbf-58a6-4018-8d31-41ab456a849b",
   "metadata": {},
   "source": [
    "- 사용자로부터 주민등록번호를 입력받아 성별을 \"남성\" 또는 \"여성\"으로 출력해주세요."
   ]
  },
  {
   "cell_type": "code",
   "execution_count": 30,
   "id": "4f9dae56-cb1b-4cc9-ac1d-23971ab25ddf",
   "metadata": {},
   "outputs": [
    {
     "name": "stdin",
     "output_type": "stream",
     "text": [
      "주민등록번호를 입력해주세요. 950421-1204852\n"
     ]
    },
    {
     "name": "stdout",
     "output_type": "stream",
     "text": [
      "남자\n"
     ]
    }
   ],
   "source": [
    "data2 = input(\"주민등록번호를 입력해주세요.\")\n",
    "gender= data2.split(\"-\")[1][0]\n",
    "gender\n",
    "\n",
    "if gender == \"1\" :\n",
    "    print(\"남자\")\n",
    "else :\n",
    "    print(\"여자\")"
   ]
  },
  {
   "cell_type": "code",
   "execution_count": 19,
   "id": "f4c27027-e51b-4e56-9826-e845826cf085",
   "metadata": {},
   "outputs": [
    {
     "data": {
      "text/plain": [
       "'a man goes into the room'"
      ]
     },
     "execution_count": 19,
     "metadata": {},
     "output_type": "execute_result"
    }
   ],
   "source": [
    "mystr = \"a man goes into the room...\"\n",
    "result = mystr.strip(\".\") #strip은 객체에서 ()안에 들어가는 값을 제거할때 쓰는 함수\n",
    "result"
   ]
  },
  {
   "cell_type": "code",
   "execution_count": 40,
   "id": "4fd0db94-e647-4870-9c8b-b14c76f6d59e",
   "metadata": {},
   "outputs": [
    {
     "data": {
      "text/plain": [
       "'\\t000770\\n'"
      ]
     },
     "execution_count": 40,
     "metadata": {},
     "output_type": "execute_result"
    }
   ],
   "source": [
    "code = \"\\t000770\\n\" #프로그래밍 언어는 띄어쓰기도 한개의 문자열로 인식된다.\n",
    "code.strip()\n",
    "\n",
    "#strip() : 문자열 앞/뒤 상관없이 공백(탭, 띄어쓰기, 개행 등 모든 요소)으로 인식되는 문자열을 모두 제거하는 역할\n",
    "#\\n = newline의 약자\n",
    "#\\t = tab의 약자 (들여쓰기)"
   ]
  },
  {
   "cell_type": "code",
   "execution_count": 41,
   "id": "7ab821a4-1fee-4008-93a7-2821db2f9d99",
   "metadata": {},
   "outputs": [
    {
     "name": "stdout",
     "output_type": "stream",
     "text": [
      "4\n",
      "0\n"
     ]
    }
   ],
   "source": [
    "python_desc = \"Installing Python is generally easy, and nowadays many Linux and UNIX distributions include a recent Python. Even some Windows computers (notably those from HP) now come with Python already installed. If you do need to install Python and aren't confident about the task you can find a few notes on the BeginnersGuide/Download wiki page, but installation is unremarkable on most platforms.\"\n",
    "print(python_desc.count(\"Python\"))\n",
    "print(python_desc.count(\"python\"))"
   ]
  },
  {
   "cell_type": "markdown",
   "id": "d83ed11e-b375-4cda-b25b-6b721031742b",
   "metadata": {},
   "source": [
    "- 사용자로부터 note 라는 문자열을 받았다고 가정하세요.\n",
    "- 해당 문자열 안에 n이 들어가있는지 확인 후 n이 들어가있으면 숫자 0을 출력하고, 만약 그렇지 않다면 1을 출력하세요.\n",
    "\n",
    "#letters라는 변수에 input값으로 note를 입력받는다.\n",
    "\n",
    "#letters 변수에 n이라는 인자값을 찾아 data라는 변수에 할당한다\n",
    "\n",
    "#data 변수에 n을 발견하면 0을 출력하고, n이 없다면 1을 출력하는 조건문을 생성한다."
   ]
  },
  {
   "cell_type": "code",
   "execution_count": 46,
   "id": "400d5d81-7cb0-4e3d-be50-f60c1bbe08a8",
   "metadata": {},
   "outputs": [
    {
     "name": "stdin",
     "output_type": "stream",
     "text": [
      "문자를 입력해 주세요 aarrr\n"
     ]
    },
    {
     "data": {
      "text/plain": [
       "-1"
      ]
     },
     "execution_count": 46,
     "metadata": {},
     "output_type": "execute_result"
    }
   ],
   "source": [
    "letters = input(\"문자를 입력해 주세요\")\n",
    "var = letters.find(\"n\")\n",
    "var\n",
    "#if var == 0 :\n",
    "#    print(0)\n",
    "#else :\n",
    "#    print(-1)\n",
    "\n",
    "# 프로그래밍 언어는 일반적으로 boolean(True, False)값을 가짐\n",
    "# truethy, falsy => 참인듯한 값, 거짓인듯한 값 또한 가진다\n",
    "# 0, null, undefined => falsy로 정의\n",
    "# python의 경우, 0의 값은 truethy로 판단, -1의 값은 falsy로 판단"
   ]
  },
  {
   "cell_type": "markdown",
   "id": "b79d5be3-8448-43f2-a58d-c5d9424a4c48",
   "metadata": {},
   "source": [
    "- 사용자로부터 주민등록번호를 입력받은 후, 사용자의 출생지가 어디인지 확인하여 출력해주세요.\n",
    "\n",
    "    -  주민등록 번호 뒷자리 8자리 중 첫번째 - 성별/두번째 ~ 세번째 숫자 = 출생지, \"00 ~ 08:서울\",\"09~12:부산\""
   ]
  },
  {
   "cell_type": "code",
   "execution_count": 51,
   "id": "6d58baa5-a0dc-4d7a-bacf-3a0e066eff29",
   "metadata": {},
   "outputs": [
    {
     "name": "stdin",
     "output_type": "stream",
     "text": [
      "주민등록 번호를 입력해 주세요. 101224-1124357\n"
     ]
    },
    {
     "name": "stdout",
     "output_type": "stream",
     "text": [
      "부산\n"
     ]
    }
   ],
   "source": [
    "# 1. 사용자로부터 주민등록번호 입력받는다.\n",
    "# 2. 스플릿 함수를 통해 \"-\"를 기준으로 값을 리스트화 한다\n",
    "# 3. 리스트 값의 인덱스 중 2번째 자리의 뒷자리 중 2,3번째 위치의 인덱스를 파악한다\n",
    "# 4. 조건문을 활용하여 2,3번째 위치의 숫자가 00 ~ 08에 해당하면 서울, 09~12에 해당하면 부산을 출력한다.\n",
    "\n",
    "#해설1\n",
    "num = input(\"주민등록 번호를 입력해 주세요.\")\n",
    "location = num.split(\"-\")[1][1:3]\n",
    "\n",
    "if  \"00\" <= location <= \"08\" :\n",
    "    print(\"서울\")\n",
    "elif \"09\" <= location <= \"12\" :\n",
    "    print(\"부산\")\n",
    "\n",
    "#해설2\n",
    "location2 = int(num.split(\"-\")[1][1:3])\n",
    "\n",
    "if location2 >= 0 and location2 <= 8 :\n",
    "    print(\"서울 출생입니다.\")\n",
    "elif location2 >= 9 and location2 <=12 :\n",
    "    print(\"부산출생입니다.\")\n"
   ]
  },
  {
   "cell_type": "code",
   "execution_count": null,
   "id": "c9652bcb-1103-4552-9158-ff1bd1f449d2",
   "metadata": {},
   "outputs": [],
   "source": []
  }
 ],
 "metadata": {
  "kernelspec": {
   "display_name": "Python [conda env:base] *",
   "language": "python",
   "name": "conda-base-py"
  },
  "language_info": {
   "codemirror_mode": {
    "name": "ipython",
    "version": 3
   },
   "file_extension": ".py",
   "mimetype": "text/x-python",
   "name": "python",
   "nbconvert_exporter": "python",
   "pygments_lexer": "ipython3",
   "version": "3.13.5"
  }
 },
 "nbformat": 4,
 "nbformat_minor": 5
}
