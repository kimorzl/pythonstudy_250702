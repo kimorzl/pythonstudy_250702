{
 "cells": [
  {
   "cell_type": "markdown",
   "id": "a67b2a8e-881f-472e-895e-03a341a545af",
   "metadata": {},
   "source": [
    "#### 자료 구조 형태\n",
    "- 숫자(int, float), 문자(str), 불리언(boolean) \n",
    "- 리스트(list)\n",
    "- 튜플(tuple)\n",
    "  * 리스트와 달리 튜플은 소괄호 형태를 띔\n",
    "  * 튜플은 최초 생성 후, 값을 추가/삭제 불가\n",
    "  * 단, 튜플 간 병합 및 복제는 가능\n",
    "  * 튜플은 리스트처럼 이터러블한 객체 속성을 가짐 = 반복문에 사용 가능 && 튜플 내부 아이템들은 각각 저마다의 고유한 인덱스 값을 가짐\n",
    "  * 함수의 반환값으로 찾아온 값을 활용해 일반 변수 안에 값을 넣을 때, 구조분해할당의 형식으로 값을 전달할 수 있음\n",
    "  * 튜플을 수정, 편집, 삭제 희망시 리스트로 변환 필요 -> list(튜플자료형)"
   ]
  },
  {
   "cell_type": "code",
   "execution_count": 4,
   "id": "80186711-9f36-4f6d-bace-947f1a8d0a70",
   "metadata": {},
   "outputs": [
    {
     "name": "stdout",
     "output_type": "stream",
     "text": [
      "<class 'list'>\n",
      "<class 'tuple'>\n"
     ]
    }
   ],
   "source": [
    "listItems = []\n",
    "tupleItems = (1,2,3)\n",
    "\n",
    "print(type(listItems))\n",
    "print(type(tupleItems))"
   ]
  },
  {
   "cell_type": "code",
   "execution_count": 5,
   "id": "40bb1129-1e2e-40ee-ac61-f5fe1ae64c10",
   "metadata": {},
   "outputs": [
    {
     "name": "stdout",
     "output_type": "stream",
     "text": [
      "1\n",
      "2\n",
      "3\n"
     ]
    }
   ],
   "source": [
    "for item in tupleItems :\n",
    "    print(item)"
   ]
  },
  {
   "cell_type": "code",
   "execution_count": 6,
   "id": "dd5b1b01-bf73-4a34-b3a7-ca86076d4da4",
   "metadata": {},
   "outputs": [
    {
     "ename": "TypeError",
     "evalue": "'tuple' object doesn't support item deletion",
     "output_type": "error",
     "traceback": [
      "\u001b[1;31m---------------------------------------------------------------------------\u001b[0m",
      "\u001b[1;31mTypeError\u001b[0m                                 Traceback (most recent call last)",
      "Cell \u001b[1;32mIn[6], line 1\u001b[0m\n\u001b[1;32m----> 1\u001b[0m \u001b[38;5;28;01mdel\u001b[39;00m tupleItems[\u001b[38;5;241m1\u001b[39m]\n",
      "\u001b[1;31mTypeError\u001b[0m: 'tuple' object doesn't support item deletion"
     ]
    }
   ],
   "source": [
    "del tupleItems[1] #tuple은 한번 선언한 요소를 삭제 할 수 없기 때문에 오류가 뜸"
   ]
  },
  {
   "cell_type": "code",
   "execution_count": 7,
   "id": "f7240b78-c2b6-46f5-860d-c7005c51a591",
   "metadata": {},
   "outputs": [
    {
     "ename": "AttributeError",
     "evalue": "'tuple' object has no attribute 'append'",
     "output_type": "error",
     "traceback": [
      "\u001b[1;31m---------------------------------------------------------------------------\u001b[0m",
      "\u001b[1;31mAttributeError\u001b[0m                            Traceback (most recent call last)",
      "Cell \u001b[1;32mIn[7], line 1\u001b[0m\n\u001b[1;32m----> 1\u001b[0m tupleItems\u001b[38;5;241m.\u001b[39mappend(\u001b[38;5;241m4\u001b[39m)\n",
      "\u001b[1;31mAttributeError\u001b[0m: 'tuple' object has no attribute 'append'"
     ]
    }
   ],
   "source": [
    "tupleItems.append(4) #tuple은 한번 선언한 요소를 추가 할 수 없기 때문에 오류가 뜸"
   ]
  },
  {
   "cell_type": "code",
   "execution_count": 8,
   "id": "8439fbd5-c527-451b-b9e2-176daa4f2965",
   "metadata": {},
   "outputs": [
    {
     "ename": "TypeError",
     "evalue": "'tuple' object does not support item assignment",
     "output_type": "error",
     "traceback": [
      "\u001b[1;31m---------------------------------------------------------------------------\u001b[0m",
      "\u001b[1;31mTypeError\u001b[0m                                 Traceback (most recent call last)",
      "Cell \u001b[1;32mIn[8], line 1\u001b[0m\n\u001b[1;32m----> 1\u001b[0m tupleItems[\u001b[38;5;241m4\u001b[39m] \u001b[38;5;241m=\u001b[39m \u001b[38;5;241m4\u001b[39m\n",
      "\u001b[1;31mTypeError\u001b[0m: 'tuple' object does not support item assignment"
     ]
    }
   ],
   "source": [
    "tupleItems[4] = 4 #tuple은 한번 선언한 요소에 새로운 값 할당 불가한 성격으로 오류 발생"
   ]
  },
  {
   "cell_type": "code",
   "execution_count": 11,
   "id": "8fb53f18-c93c-4bb5-84c2-15246e80dd29",
   "metadata": {},
   "outputs": [
    {
     "name": "stdout",
     "output_type": "stream",
     "text": [
      "(1, 2, 3, 4)\n",
      "(1, 2, 1, 2, 1, 2)\n"
     ]
    }
   ],
   "source": [
    "tuple01 = (1,2)\n",
    "tuple02 = (3,4)\n",
    "print(tuple01 + tuple02)\n",
    "print(tuple01*3)\n",
    "#tuple끼리의 자료 결합, 반복 등 가능"
   ]
  },
  {
   "cell_type": "code",
   "execution_count": 21,
   "id": "a493aa26-c08e-432f-943d-adbfad2f0323",
   "metadata": {},
   "outputs": [],
   "source": [
    "x = 1\n",
    "y = 2"
   ]
  },
  {
   "cell_type": "code",
   "execution_count": 18,
   "id": "7350e796-909a-4716-b0d2-1f207d63bed4",
   "metadata": {},
   "outputs": [],
   "source": [
    "# temp = x # temp는 임시 보관함의 특징을 지니며, 변수값을 잠시 저장해 놓는 역할\n",
    "# x = y\n",
    "# y = temp"
   ]
  },
  {
   "cell_type": "code",
   "execution_count": 23,
   "id": "53fa46bd-0b8c-4010-8a12-a3cb812fc6aa",
   "metadata": {},
   "outputs": [],
   "source": [
    "(x, y) = (y, x)"
   ]
  },
  {
   "cell_type": "code",
   "execution_count": 24,
   "id": "6d80bf5e-abbb-47a6-b7e1-7086214d50cd",
   "metadata": {},
   "outputs": [
    {
     "data": {
      "text/plain": [
       "2"
      ]
     },
     "execution_count": 24,
     "metadata": {},
     "output_type": "execute_result"
    }
   ],
   "source": [
    "x"
   ]
  },
  {
   "cell_type": "code",
   "execution_count": 27,
   "id": "a6bab9c9-775c-464e-b387-5d9e250ad1c2",
   "metadata": {},
   "outputs": [],
   "source": [
    "def quot_and_rem(x,y): #(x,y)의 값은 이미 tuple로 지정\n",
    "    quot = x // y\n",
    "    rem = x % y\n",
    "    return quot, rem #quot와 rem에 함수에서 진행된 값을 반환하고 끝내라"
   ]
  },
  {
   "cell_type": "code",
   "execution_count": 31,
   "id": "f9c4568d-4ec1-40bc-ac4c-bb234bc7d18f",
   "metadata": {},
   "outputs": [
    {
     "data": {
      "text/plain": [
       "tuple"
      ]
     },
     "execution_count": 31,
     "metadata": {},
     "output_type": "execute_result"
    }
   ],
   "source": [
    "result = quot_and_rem(10,3) #result라는 값에 tuple의 형태\n",
    "result\n",
    "type(result)"
   ]
  },
  {
   "cell_type": "code",
   "execution_count": 32,
   "id": "6d67c291-fae3-4b27-b890-3d00c2e09cc8",
   "metadata": {},
   "outputs": [],
   "source": [
    "#구조 분해 할당\n",
    "(quot01, rem01) = quot_and_rem(10,3)"
   ]
  },
  {
   "cell_type": "code",
   "execution_count": 33,
   "id": "cf0da7f4-a833-4d84-982b-dedd712e4945",
   "metadata": {},
   "outputs": [
    {
     "data": {
      "text/plain": [
       "3"
      ]
     },
     "execution_count": 33,
     "metadata": {},
     "output_type": "execute_result"
    }
   ],
   "source": [
    "quot01"
   ]
  },
  {
   "cell_type": "code",
   "execution_count": 34,
   "id": "12581089-17d9-4882-9f72-b88987230a19",
   "metadata": {},
   "outputs": [
    {
     "data": {
      "text/plain": [
       "tuple"
      ]
     },
     "execution_count": 34,
     "metadata": {},
     "output_type": "execute_result"
    }
   ],
   "source": [
    "data1 = (1,2,3)\n",
    "type(data1)"
   ]
  },
  {
   "cell_type": "code",
   "execution_count": 35,
   "id": "b54bc8a3-9a31-4826-b8f4-47d0a1fac201",
   "metadata": {},
   "outputs": [
    {
     "data": {
      "text/plain": [
       "[1, 2, 3]"
      ]
     },
     "execution_count": 35,
     "metadata": {},
     "output_type": "execute_result"
    }
   ],
   "source": [
    "list(data1) #튜플을 리스트로 바꾸는 방법"
   ]
  },
  {
   "cell_type": "code",
   "execution_count": null,
   "id": "f3808c5f-71b7-437e-ad4b-17d30332bff2",
   "metadata": {},
   "outputs": [],
   "source": []
  }
 ],
 "metadata": {
  "kernelspec": {
   "display_name": "Python [conda env:base] *",
   "language": "python",
   "name": "conda-base-py"
  },
  "language_info": {
   "codemirror_mode": {
    "name": "ipython",
    "version": 3
   },
   "file_extension": ".py",
   "mimetype": "text/x-python",
   "name": "python",
   "nbconvert_exporter": "python",
   "pygments_lexer": "ipython3",
   "version": "3.13.5"
  }
 },
 "nbformat": 4,
 "nbformat_minor": 5
}
