{
 "cells": [
  {
   "cell_type": "markdown",
   "id": "f92e3d04-b258-40c0-92d9-edb902d4ca91",
   "metadata": {},
   "source": [
    "#### 반복문\n",
    " ```\n",
    "for 변수 in (list || 문자열, 이터러블한 객체 속성을 지닌 자료구조) :\n",
    "    실행문\n",
    "\n",
    "while 조건 :\n",
    "    실행문\n",
    " ```\n",
    "|| : 버티컬 바, or를 의미\n",
    "&& : and를 의미\n"
   ]
  },
  {
   "cell_type": "code",
   "execution_count": 2,
   "id": "46e004c7-c251-4bbe-b53b-84a7ba6ff3d6",
   "metadata": {},
   "outputs": [
    {
     "name": "stdout",
     "output_type": "stream",
     "text": [
      "python\n",
      "TS\n",
      "Node\n"
     ]
    }
   ],
   "source": [
    "lan = [\"python\", \"TS\", \"Node\"]\n",
    "\n",
    "for item in lan : #lan이라는 자료형 안에서 item이라는 변수를 찾아라, 혹은 아래 실행문을 반복해라\n",
    "    print(item) #반복 순회해서 출력했다\n",
    "\n",
    "#for item in [\"python\", \"TS\", \"Node\"] : #lan이라는 변수에 굳이 리스트 객체를 부여해 놓을 필요는 없다.\n",
    "#   print(item)"
   ]
  },
  {
   "cell_type": "code",
   "execution_count": 13,
   "id": "a9191a23-26f7-4d4f-877c-7e77c6cab804",
   "metadata": {},
   "outputs": [
    {
     "name": "stdout",
     "output_type": "stream",
     "text": [
      "1\n",
      "2\n",
      "3\n",
      "4\n",
      "5\n",
      "6\n",
      "7\n",
      "8\n",
      "9\n",
      "10\n",
      "----------------------------------------------------------\n"
     ]
    },
    {
     "name": "stdin",
     "output_type": "stream",
     "text": [
      "최애 음식은 무엇인가요? 마라탕\n"
     ]
    },
    {
     "name": "stdout",
     "output_type": "stream",
     "text": [
      "마라탕\n"
     ]
    },
    {
     "name": "stdin",
     "output_type": "stream",
     "text": [
      "최애 음식은 무엇인가요? 족발\n"
     ]
    },
    {
     "name": "stdout",
     "output_type": "stream",
     "text": [
      "족발\n"
     ]
    },
    {
     "name": "stdin",
     "output_type": "stream",
     "text": [
      "최애 음식은 무엇인가요? ice cream\n"
     ]
    },
    {
     "name": "stdout",
     "output_type": "stream",
     "text": [
      "ice cream\n"
     ]
    }
   ],
   "source": [
    "# 문자열이 아닌 숫자를 사용하고 싶을때\n",
    "for num in [1,2,3,4,5,6,7,8,9,10] : #변수명은 직관적인 용어, 아무거나 사용 가능\n",
    "    print(num)\n",
    "\n",
    "print(\"----------------------------------------------------------\")\n",
    "\n",
    "for nums in range(1,4) : #range는 범위를 의미, range()에 들어가는 인수는 횟수를 의미\n",
    "    input(\"최애 음식은 무엇인가요?\")\n",
    "    "
   ]
  },
  {
   "cell_type": "code",
   "execution_count": 14,
   "id": "c24600be-1e99-41d3-8c47-bac84766fb47",
   "metadata": {},
   "outputs": [
    {
     "data": {
      "text/plain": [
       "range(0, 3)"
      ]
     },
     "execution_count": 14,
     "metadata": {},
     "output_type": "execute_result"
    }
   ],
   "source": [
    "range(3)"
   ]
  },
  {
   "cell_type": "code",
   "execution_count": 17,
   "id": "7bd23313-bad2-4a38-8f88-fb0e68f69420",
   "metadata": {},
   "outputs": [
    {
     "name": "stdout",
     "output_type": "stream",
     "text": [
      "list1\n",
      "list2\n",
      "list3\n",
      "list1\n",
      "list2\n",
      "list3\n"
     ]
    }
   ],
   "source": [
    "data_list = [\"list1\", \"list2\", \"list3\"]\n",
    "print(data_list[0])\n",
    "print(data_list[1])\n",
    "print(data_list[2])\n",
    "\n",
    "for index in data_list :\n",
    "    print(index)"
   ]
  },
  {
   "cell_type": "code",
   "execution_count": 20,
   "id": "eafe8a64-4c3b-4d4e-a6f3-cbb3a39c6e2c",
   "metadata": {},
   "outputs": [
    {
     "data": {
      "text/plain": [
       "55"
      ]
     },
     "execution_count": 20,
     "metadata": {},
     "output_type": "execute_result"
    }
   ],
   "source": [
    "sum = 0 #전역변수, global변수로 어디서든 활용 가능\n",
    "\n",
    "for index in range(1, 11) : #index는 block변수\n",
    "    #sum = sum + index\n",
    "    #위의 구문을 복합대입연사자로 표현\n",
    "    # 복합대입연산자는 모든 사칙연산을 활용할 수 있다.\n",
    "    sum += index # +의 자리에 -, *, / 사용 가능\n",
    "\n",
    "sum"
   ]
  },
  {
   "cell_type": "code",
   "execution_count": null,
   "id": "49f562ee-d590-449e-a40b-4b39059cdf00",
   "metadata": {},
   "outputs": [],
   "source": [
    "#기저조건이 없는 while문은 무한루프에 빠짐\n",
    "while 1: # 1은 프로그래밍 언어 내, truely한 값으로 여겨짐\n",
    "    print(\"Hello World\") #while문 주의사항, 기저조건이 없으면 계속 반복되어 컴퓨터 메모리가 다운될때까지 무한 루프에 빠짐\n",
    " "
   ]
  },
  {
   "cell_type": "code",
   "execution_count": 22,
   "id": "9d548945-a68c-42ec-8897-5bf7a3c5be5a",
   "metadata": {},
   "outputs": [
    {
     "name": "stdin",
     "output_type": "stream",
     "text": [
      "what is your name? orzl\n"
     ]
    },
    {
     "name": "stdout",
     "output_type": "stream",
     "text": [
      "Hi~ orzl!! 'Where is foo?'\n"
     ]
    },
    {
     "name": "stdin",
     "output_type": "stream",
     "text": [
      "what is your name? foo\n"
     ]
    },
    {
     "name": "stdout",
     "output_type": "stream",
     "text": [
      "Hi~ foo!! 'Where is foo?'\n"
     ]
    }
   ],
   "source": [
    "#기저조건이 있는 while문이란?\n",
    "name = \"\"\n",
    "\n",
    "while name != \"foo\" :\n",
    "    name = input(\"what is your name?\")\n",
    "    print(f\"Hi~ {name}!! 'Where is foo?'\")"
   ]
  },
  {
   "cell_type": "markdown",
   "id": "473b2a38-8722-429e-a13c-d94d15cb93ad",
   "metadata": {},
   "source": [
    "- 1 ~ 10까지의 숫자를 모두 더한 값을 출력하는 프로그램을 for문을 활용해 작성"
   ]
  },
  {
   "cell_type": "code",
   "execution_count": 26,
   "id": "473de19f-7d10-44d7-90d0-6daa73d17362",
   "metadata": {},
   "outputs": [
    {
     "data": {
      "text/plain": [
       "55"
      ]
     },
     "execution_count": 26,
     "metadata": {},
     "output_type": "execute_result"
    }
   ],
   "source": [
    "sum = 0\n",
    "\n",
    "for nums in range(1,11):\n",
    "    sum += nums\n",
    "\n",
    "sum"
   ]
  },
  {
   "cell_type": "markdown",
   "id": "9ceccb28-4e58-4bc9-bbe6-159cdc658a2e",
   "metadata": {},
   "source": [
    "- 사용자로부터 2~9 사이의 숫자를 입력받은 후, 해당 숫자에 대한 구구단을 출력해주세요!\n",
    "\n",
    "1. 사용자에게 값을 받는다\n",
    "2. 사용자에게 받은 값을 변수에 넣고, 해당 변수값을 가지고 반복적으로 1~9까지 곱해준다.\n",
    "3. 1~9까지 반복으로 곱해주기 위해 반복문을 사용한다.\n",
    "4. 반복문을 사용하기 위해 range(1,10) 함수 및 인자값을 사용한다."
   ]
  },
  {
   "cell_type": "code",
   "execution_count": 33,
   "id": "af92ad09-c320-4102-9d97-d957c5fdbb0a",
   "metadata": {},
   "outputs": [
    {
     "name": "stdin",
     "output_type": "stream",
     "text": [
      "2~9까지의 숫자 중, 한가지를 입력해 주세요. 8486\n"
     ]
    },
    {
     "name": "stdout",
     "output_type": "stream",
     "text": [
      "계산이 불가합니다.\n"
     ]
    }
   ],
   "source": [
    "user_num = int(input(\"2~9까지의 숫자 중, 한가지를 입력해 주세요.\"))\n",
    "\n",
    "#해설 1\n",
    "if 2<= user_num <= 9:\n",
    "    for multiply in range(1,10) :\n",
    "        print(f\"{user_num}*{multiply}={user_num*multiply}입니다.\")\n",
    "else :\n",
    "    print(\"2~9 사이의 숫자만 입력해주세요.\")\n",
    "\n",
    "#해설2\n",
    "\n",
    "data = int(input(\"구구단을 위한 숫자를 입력해주세요!\"))\n",
    "\n",
    "if data >=2 and data <=9:\n",
    "    for digit in range(1,10):\n",
    "        print(f\"{data} x {digit} = {data*digit}\")\n",
    "    else :\n",
    "        print(\"2~9 사이의 숫자만 입력해주세요!\")"
   ]
  },
  {
   "cell_type": "markdown",
   "id": "c4e75483-89e0-4191-847b-0aecf89599dd",
   "metadata": {},
   "source": [
    "- name = \"[Dave],[David],[Andy],[Juliet]\"\n",
    "- 위 name이라는 변수안에 담긴 값을 다음처럼 화면에 출력해주세요.\n",
    "\n",
    "  Dave\n",
    "  \n",
    "  David\n",
    "\n",
    "  Andy\n",
    "\n",
    "  Juliet\n",
    "\n",
    "# 1.name의 string 데이터에 []를 삭제해준다.\n",
    "# 2.[]를 삭제해준 data를 다시 name에 할당한다\n",
    "# 3.name의 data를 리스트화 시켜준다\n",
    "# 4. 리스트를 반복문으로 하여 name을 출력한다.\n"
   ]
  },
  {
   "cell_type": "code",
   "execution_count": 64,
   "id": "6e37333c-87fd-490f-9591-de5eb81eda7d",
   "metadata": {},
   "outputs": [
    {
     "name": "stdout",
     "output_type": "stream",
     "text": [
      "Dave\n",
      "David\n",
      "Andy\n",
      "Juliet\n"
     ]
    }
   ],
   "source": [
    "name = \"[Dave],[David],[Andy],[Juliet]\"\n",
    "\n",
    "name01 = name.split(\",\")\n",
    "\n",
    "for str_name in name01:\n",
    "    print(str_name[1:-1]) #삭제보다는 슬라이싱으로 활용"
   ]
  },
  {
   "cell_type": "markdown",
   "id": "4fbbbedb-9cf1-4068-841f-8d35e2c9194d",
   "metadata": {},
   "source": [
    "- 1부터 30까지의 숫자 중 3의 배수만 출력해주세요!\n",
    "- 단, while문을 활용해 답을 도출하세요.\n",
    "\n"
   ]
  },
  {
   "cell_type": "code",
   "execution_count": 66,
   "id": "a73c7340-21c5-488f-b832-25081452f955",
   "metadata": {},
   "outputs": [
    {
     "name": "stdout",
     "output_type": "stream",
     "text": [
      "3\n",
      "6\n",
      "9\n",
      "12\n",
      "15\n",
      "18\n",
      "21\n",
      "24\n",
      "27\n",
      "30\n"
     ]
    }
   ],
   "source": [
    "# 반복문을 통해 1~30까지의 숫자를 생성 및 찾아오기\n",
    "#생성 및 찾아온 숫자 중 3의 배수를 찾는다  = > 3으로 나누었을 때, 나머지의 값이 0 => % 연산자 활용\n",
    "\n",
    "#해설 1, while문\n",
    "num = 0\n",
    "\n",
    "while num < 30 :\n",
    "    num += 1\n",
    "    if num % 3 == 0 :\n",
    "        print(num)"
   ]
  },
  {
   "cell_type": "code",
   "execution_count": 67,
   "id": "fa54df79-6367-4801-9613-5fffda488cd7",
   "metadata": {},
   "outputs": [
    {
     "name": "stdout",
     "output_type": "stream",
     "text": [
      "3\n",
      "6\n",
      "9\n",
      "12\n",
      "15\n",
      "18\n",
      "21\n",
      "24\n",
      "27\n",
      "30\n"
     ]
    }
   ],
   "source": [
    "#해설2, for-in문\n",
    "\n",
    "for nums in range(1,31):\n",
    "    if nums % 3 == 0 :\n",
    "        print(nums)"
   ]
  },
  {
   "cell_type": "markdown",
   "id": "11dbd0e7-b6f9-4fb5-9881-ccef0e608d7a",
   "metadata": {},
   "source": [
    "- 다음 리스트 자료구조에서 음수값은 삭제하고, 양수값만 가지고 있는 새로운 리스트 변수로 만들어서 출력해주세요.\n",
    "  "
   ]
  },
  {
   "cell_type": "code",
   "execution_count": 83,
   "id": "4e676e30-9de1-48f6-b598-0cb9b56f82a0",
   "metadata": {},
   "outputs": [
    {
     "name": "stdout",
     "output_type": "stream",
     "text": [
      "[0, 22, 31, 33]\n"
     ]
    }
   ],
   "source": [
    "#0. 리스트 안에 있는 각 값을 각각 분리한다.\n",
    "#1. 분리된 값 음수값을 찾는다\n",
    "#2. 음수값을 삭제한다.\n",
    "#3. 삭제한 후 남은 값을 새로운 리스트에 할당한다\n",
    "#4. 새롭게 할당된 리스트를 프린트한다.\n",
    "\n",
    "\n",
    "\n",
    "#num_list2 = str(num_list)[1:-1]\n",
    "#num_list3 = int(num_list2.split(\",\"))\n",
    "\n",
    "#for num_list4 in num_list3 :\n",
    "#    if num_list3>0:\n",
    "#        print(num_list4)\n",
    "#    else :\n",
    "#        num_list3.remove()\n",
    "\n",
    "#해설\n",
    "num_list = [0, -11, 31, 22, -11, 33, -44, -55]\n",
    "new_list = []\n",
    "for num in num_list : #num이라는 변수에 num_list에 있는 리스트 값을 찾아온다\n",
    "    if num >= 0 : #조건문 활용으로 num이 찾아본 값이 양수인지 음수인지 확인한다\n",
    "        new_list.append(num) #양수 조건에 해당한다면 새로운 리스트에 값을 할당한다\n",
    "        new_list.sort() #올림차순으로 정렬한다\n",
    "print(new_list) # 할당받은 값을 지닌 새로운 리스트를 출력한다\n",
    "        "
   ]
  },
  {
   "cell_type": "markdown",
   "id": "0e4ab94c-ae31-43e2-93e6-9516c83ffccf",
   "metadata": {},
   "source": [
    "- 아래 리스트에 있는 데이터들의 문자열 길이를 출력하세요.\n",
    "단, 한 줄에 1개씩 구분해서 출력해주세요.\n",
    "\n",
    "- list_data = [\"java\",\"C++\",\"Python\",\"Node\"]"
   ]
  },
  {
   "cell_type": "code",
   "execution_count": 90,
   "id": "17788a8a-8443-4c0d-a6fe-ec57c1a26d5f",
   "metadata": {},
   "outputs": [
    {
     "name": "stdout",
     "output_type": "stream",
     "text": [
      "java 의 길이는 : 4\n",
      "C++ 의 길이는 : 3\n",
      "Python 의 길이는 : 6\n",
      "Node 의 길이는 : 4\n"
     ]
    }
   ],
   "source": [
    "list_data = [\"java\",\"C++\",\"Python\",\"Node\"]\n",
    "\n",
    "# 각 데이터를 찾아오기\n",
    "# 그 데이터에 대한 길이를 출력한다\n",
    "\n",
    "for data in list_data : # for-in문 자체가 리스트, 딕셔너리 등 이터너블한 자료형에서 데이터를 찾아오는 행위를 함\n",
    "    print(data,\"의 길이는 :\", len(data))\n"
   ]
  },
  {
   "cell_type": "code",
   "execution_count": 104,
   "id": "0c8801ef-633e-4871-8029-abcb76ccfbea",
   "metadata": {},
   "outputs": [
    {
     "name": "stdout",
     "output_type": "stream",
     "text": [
      "exercise01\n",
      "exercise02\n",
      "exercise03\n",
      "exercise04\n"
     ]
    }
   ],
   "source": [
    "filelist = [\"exercise01.docx\", \"exercise02.docx\", \"exercise03.docx\", \"exercise04.docx\"]\n",
    "list = []\n",
    "#```\n",
    "#exercise01\n",
    "#exercise02\n",
    "#exercise03\n",
    "#exercise04\n",
    "#```\n",
    "\n",
    "for filename in filelist :\n",
    "    print(filename.split(\".\")[0])\n",
    "    "
   ]
  },
  {
   "cell_type": "code",
   "execution_count": 107,
   "id": "36177148-099a-4af7-805e-804d5720b2fa",
   "metadata": {},
   "outputs": [
    {
     "name": "stdout",
     "output_type": "stream",
     "text": [
      "exercise03.txt\n"
     ]
    }
   ],
   "source": [
    "filelist = [\"exercise01.docx\", \"exercise02.cvs\", \"exercise03.txt\", \"exercise04.hwp\"]\n",
    "# 확장자가 txt인 값만 출력\n",
    "\n",
    "\n",
    "#1. filelist에서 자료를 찾아온다.\n",
    "#2. .을 기준으로 나눈 인덱스 값이 txt인 것을 찾는다\n",
    "#3. 해당 값을 출력한다.\n",
    "\n",
    "for filename in filelist :#데이터를 찾는 행위\n",
    "    if filename.split(\".\")[1] == \"txt\" : #조건문을 통해 데이터 중 txt를 찾음\n",
    "        print(filename) #해당 값을 출력"
   ]
  }
 ],
 "metadata": {
  "kernelspec": {
   "display_name": "Python [conda env:base] *",
   "language": "python",
   "name": "conda-base-py"
  },
  "language_info": {
   "codemirror_mode": {
    "name": "ipython",
    "version": 3
   },
   "file_extension": ".py",
   "mimetype": "text/x-python",
   "name": "python",
   "nbconvert_exporter": "python",
   "pygments_lexer": "ipython3",
   "version": "3.13.5"
  }
 },
 "nbformat": 4,
 "nbformat_minor": 5
}
