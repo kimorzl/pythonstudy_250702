{
 "cells": [
  {
   "cell_type": "code",
   "execution_count": 1,
   "id": "81a356c8-dc0a-4aa5-95ad-134cc14f73ff",
   "metadata": {},
   "outputs": [
    {
     "name": "stdout",
     "output_type": "stream",
     "text": [
      "Defaulting to user installation because normal site-packages is not writeable\n",
      "Collecting konlpy\n",
      "  Downloading konlpy-0.6.0-py2.py3-none-any.whl.metadata (1.9 kB)\n",
      "Collecting JPype1>=0.7.0 (from konlpy)\n",
      "  Downloading jpype1-1.6.0-cp313-cp313-win_amd64.whl.metadata (5.1 kB)\n",
      "Requirement already satisfied: lxml>=4.1.0 in c:\\programdata\\anaconda3\\lib\\site-packages (from konlpy) (5.3.0)\n",
      "Requirement already satisfied: numpy>=1.6 in c:\\programdata\\anaconda3\\lib\\site-packages (from konlpy) (2.1.3)\n",
      "Requirement already satisfied: packaging in c:\\programdata\\anaconda3\\lib\\site-packages (from JPype1>=0.7.0->konlpy) (24.2)\n",
      "Downloading konlpy-0.6.0-py2.py3-none-any.whl (19.4 MB)\n",
      "   ---------------------------------------- 0.0/19.4 MB ? eta -:--:--\n",
      "   ---------------------------------------  19.4/19.4 MB 103.0 MB/s eta 0:00:01\n",
      "   ---------------------------------------- 19.4/19.4 MB 88.4 MB/s eta 0:00:00\n",
      "Downloading jpype1-1.6.0-cp313-cp313-win_amd64.whl (355 kB)\n",
      "Installing collected packages: JPype1, konlpy\n",
      "\n",
      "   ---------------------------------------- 0/2 [JPype1]\n",
      "   -------------------- ------------------- 1/2 [konlpy]\n",
      "   -------------------- ------------------- 1/2 [konlpy]\n",
      "   ---------------------------------------- 2/2 [konlpy]\n",
      "\n",
      "Successfully installed JPype1-1.6.0 konlpy-0.6.0\n",
      "Note: you may need to restart the kernel to use updated packages.\n"
     ]
    }
   ],
   "source": [
    "pip install konlpy"
   ]
  },
  {
   "cell_type": "code",
   "execution_count": 8,
   "id": "c01c81ae-3c57-4151-bd9d-aa77958dec31",
   "metadata": {
    "scrolled": true
   },
   "outputs": [
    {
     "name": "stdout",
     "output_type": "stream",
     "text": [
      "엑셀 저장 완료 : kurly_reviews.xlsx\n"
     ]
    }
   ],
   "source": [
    "from selenium import webdriver \n",
    "from selenium.webdriver.chrome.options import Options\n",
    "from bs4 import BeautifulSoup\n",
    "from openpyxl import Workbook\n",
    "from konlpy.tag import Okt \n",
    "from collections import Counter\n",
    "import time\n",
    "\n",
    "options = Options()\n",
    "options.add_argument(\"--no-sandbox\") #브라우저 내에서의 코드 실행을 다른 시스템 리소스로부터 격리시켜 보안성을 높이는 기술\n",
    "options.add_argument(\"--disable-dev-shm-usage\") #크롤링한 데이터가 너무 클 경우, 브라우저가 아닌 하드디스트 내에 데이터를 넣어놨다 추후 다시 불러오는 역할\n",
    "options.add_argument(\"--headless\") #selenium이 생겼을때 브라우저 창이 뜨는걸 방지하는 것\n",
    "\n",
    "driver = webdriver.Chrome(options=options)\n",
    "url = \"https://www.kurly.com/goods/1000358249\"\n",
    "test = driver.get(url)\n",
    "time.sleep(5)\n",
    "\n",
    "soup = BeautifulSoup(driver.page_source,\"html.parser\")\n",
    "reviews = soup.select(\"p.css-y49dcn.e36z05c13\")\n",
    "review_lists = [review.get_text().strip() for review in reviews]\n",
    "\n",
    "driver.quit()\n",
    "\n",
    "wb = Workbook()\n",
    "ws = wb.active\n",
    "ws.title = \"Kurly Reviews\"\n",
    "ws.append([\"리뷰 내용\"])\n",
    "\n",
    "for item in review_lists:\n",
    "    ws.append([item])\n",
    "\n",
    "#한국어 형태의 분석기 사용하기\n",
    "okt = Okt()\n",
    "all_text = \" \".join(review_lists) #리스트 값 내의 데이터를 하나의 문자열로 치환하는 방법\n",
    "nouns = okt.nouns(all_text) # 문자열 데이터 내 명사 값을 추출해오기. 단, 신조어 같이 사전에 등재되어있지 않은 것은 정규식으로 패턴을 지정해 데이터를 크롤링할 수 있다\n",
    "filtered_nouns = [n for n in nouns if len(n)>1]\n",
    "count = Counter(filtered_nouns) \n",
    "\n",
    "ws_keywords = wb.create_sheet(\"Keyword Frequency\")\n",
    "ws_keywords.append([\"키워드\", \"빈도수\"])\n",
    "for word, freq in count.most_common(30) :#most_common 위로부터 얼마나 많은 것까지 추출할건지\n",
    "    ws_keywords.append([word, freq])\n",
    "    \n",
    "wb.save(\"kurly_reviews.xlsx\")\n",
    "print(\"엑셀 저장 완료 : kurly_reviews.xlsx\")"
   ]
  },
  {
   "cell_type": "code",
   "execution_count": 11,
   "id": "fe898dfc-8abb-46b2-9d2a-3e5b91174f3f",
   "metadata": {},
   "outputs": [
    {
     "name": "stdout",
     "output_type": "stream",
     "text": [
      "완료 : 전체 키워드 분석 결과 저장됨\n"
     ]
    }
   ],
   "source": [
    "from openpyxl import load_workbook\n",
    "from konlpy.tag import Okt #한국어를 자연어로 인식해서 불러올 수 있는 라이브러리와 속성\n",
    "from collections import Counter #대문잘 시작된다면 프로토타입의 클래스 형식의 인스턴스 객체\n",
    "wb = load_workbook(\"연관키워드 20250722 1448.xlsx\")\n",
    "ws = wb.active #희망하는 오픈 파일의 첫번째 sheet 불러오기, active는 객체가 아니니 ()는 사용하지 말것!!!\n",
    "\n",
    "texts = [row[0] for row in ws.iter_rows(min_row = 2, max_col = 1, values_only = True ) if row[0]] \n",
    "#iter_row의 반환값은 리스트 형태로 나오며, excel내 행의 데이터를 연속적(이터러블한 객체)로 불러오는 역할\n",
    "#min_row = 2, max_col = 1열 2행의 값을 불러와 값이 없는게 아니라면이라는 조건\n",
    "#2행 1열부터 들어잇는 데이터들의 값만 찾아와 비어있는 값이 아니라면 리스트 형태로 값을 정렬해 text라는 변수에 넣어라\n",
    "\n",
    "okt = Okt()\n",
    "all_text = \" \".join(texts)\n",
    "nouns = okt.nouns(all_text) #명사만 추출해와줘\n",
    "\n",
    "filtered_nouns = [n for n in nouns if len(n)>1] #명사의 길이가 1자 이상인 n의 요소만 리스트로 넣어줘\n",
    "count = Counter(filtered_nouns)\n",
    "\n",
    "ws_keywords = wb.create_sheet(\"키워드 전체분석\") #지금 활성화 되어진 엑셀 파일에 새로운 sheet를 추가하는 것\n",
    "ws_keywords.append([\"명사\", \"빈도수\"]) #새로 추가되는 sheet의 행에 들어갈 내용\n",
    "for word, freq in sorted(count.items(), key=lambda x: x[1], reverse=True ) : #count안에 들어있는 내용을 내림차순으로 정렬해\n",
    "    ws_keywords.append([word, freq])\n",
    "\n",
    "wb.save(\"연간키워드_분석결과.xlsx\")\n",
    "print(\"완료 : 전체 키워드 분석 결과 저장됨\")"
   ]
  },
  {
   "cell_type": "code",
   "execution_count": 14,
   "id": "b7fe8851-f975-483f-adcd-cb295f76bb90",
   "metadata": {},
   "outputs": [
    {
     "name": "stdout",
     "output_type": "stream",
     "text": [
      "저장 완료\n"
     ]
    }
   ],
   "source": [
    "from openpyxl import load_workbook #엑셀관련 라이브러리에서 workbook을 불러오는 기능을 활용\n",
    "from konlpy.tag import Okt #한국어를 자연어로 인식해 불러올 라이브러리 함수\n",
    "from collections import Counter\n",
    "\n",
    "wb = load_workbook(\"연관키워드 20250722 1548.xlsx\") #엑셀파일을 불러와\n",
    "ws = wb.active #불러온 엑셀파일의 sheet활성화\n",
    "\n",
    "texts = [row[0] for row in ws.iter_rows(min_row=2, max_col=1, values_only= True) if row[0]]\n",
    "\n",
    "okt = Okt()\n",
    "all_text = \" \".join(texts)\n",
    "nouns = okt.nouns(all_text)\n",
    "\n",
    "filtered_nouns = [n for n in nouns if len(n) > 1]\n",
    "count = Counter(filtered_nouns)\n",
    "\n",
    "ws_keywords = wb.create_sheet(\"키워드 분석\")\n",
    "ws_keywords.append([\"명사\",\"빈도수\"])\n",
    "for word, freq in sorted(count.items(), key=lambda x: x[1], reverse=True) :\n",
    "    ws_keywords.append([word, freq])\n",
    "\n",
    "wb.save(\"일본 여행 키워드 연간 분석 결과.xlsx\")\n",
    "print(\"저장 완료\")"
   ]
  },
  {
   "cell_type": "code",
   "execution_count": 15,
   "id": "f107776f-b354-4324-be72-ceb7a713b096",
   "metadata": {},
   "outputs": [
    {
     "name": "stdout",
     "output_type": "stream",
     "text": [
      "저장 완료\n"
     ]
    }
   ],
   "source": [
    "from openpyxl import load_workbook #엑셀관련 라이브러리에서 workbook을 불러오는 기능을 활용\n",
    "from konlpy.tag import Okt #한국어를 자연어로 인식해 불러올 라이브러리 함수\n",
    "from collections import Counter\n",
    "\n",
    "wb = load_workbook(\"연관키워드 20250722 1559.xlsx\") #엑셀파일을 불러와\n",
    "ws = wb.active #불러온 엑셀파일의 sheet활성화\n",
    "\n",
    "texts = [row[0] for row in ws.iter_rows(min_row=2, max_col=1, values_only= True) if row[0]]\n",
    "\n",
    "okt = Okt()\n",
    "all_text = \" \".join(texts)\n",
    "nouns = okt.nouns(all_text)\n",
    "\n",
    "filtered_nouns = [n for n in nouns if len(n) > 1]\n",
    "count = Counter(filtered_nouns)\n",
    "\n",
    "ws_keywords = wb.create_sheet(\"키워드 분석\")\n",
    "ws_keywords.append([\"명사\",\"빈도수\"])\n",
    "for word, freq in sorted(count.items(), key=lambda x: x[1], reverse=True) :\n",
    "    ws_keywords.append([word, freq])\n",
    "\n",
    "wb.save(\"마스크팩 연간검색 키워드 정리.xlsx\")\n",
    "print(\"저장 완료\")"
   ]
  },
  {
   "cell_type": "code",
   "execution_count": 18,
   "id": "7f02f144-ecd1-43df-9fa2-2cac648537fb",
   "metadata": {},
   "outputs": [
    {
     "name": "stdout",
     "output_type": "stream",
     "text": [
      "완료 : 전체 키워드 분석 결과 저장됨\n"
     ]
    }
   ],
   "source": [
    "from openpyxl import load_workbook\n",
    "from konlpy.tag import Okt #한국어를 자연어로 인식해서 불러올 수 있는 라이브러리와 속성\n",
    "from collections import Counter #대문잘 시작된다면 프로토타입의 클래스 형식의 인스턴스 객체\n",
    "import re #정규표현식을 사용하기 위한 라이브러리\n",
    "\n",
    "wb = load_workbook(\"연관키워드 20250722 1448.xlsx\")\n",
    "ws = wb.active #희망하는 오픈 파일의 첫번째 sheet 불러오기, active는 객체가 아니니 ()는 사용하지 말것!!!\n",
    "\n",
    "texts = [row[0] for row in ws.iter_rows(min_row = 2, max_col = 1, values_only = True ) if row[0]] \n",
    "#iter_row의 반환값은 리스트 형태로 나오며, excel내 행의 데이터를 연속적(이터러블한 객체)로 불러오는 역할\n",
    "#min_row = 2, max_col = 1열 2행의 값을 불러와 값이 없는게 아니라면이라는 조건\n",
    "#2행 1열부터 들어잇는 데이터들의 값만 찾아와 비어있는 값이 아니라면 리스트 형태로 값을 정렬해 text라는 변수에 넣어라\n",
    "\n",
    "okt = Okt()\n",
    "all_text = \" \".join(texts)\n",
    "nouns_tokens = okt.nouns(all_text) #명사만 추출해와줘\n",
    "\n",
    "regex_tokens = re.findall(r'[A-Za-z]*\\d+[A-Za-z]+|\\d+[A-Za-z]*',all_text) #명사, 숫자 상관없이 패턴에 매칭되는 모든 단어/영어 대소문자 상관없이 * 횟수 상관없이 반복되고 숫자 들어가도 상관없다\n",
    "valid_one_letter = {\"금\",\"은\",\"동\"}\n",
    "stopwords = {\"사용\",\"정도\",\"조금\",\"제품\",\"때문\",\"생각\",\"만족\",\"구매\",\"다음\"}\n",
    "\n",
    "combined_tokens = nouns_tokens+regex_tokens\n",
    "filtered_tokens = [t for t in combined_tokens if (len(t)>1 or t in valid_one_letter) and t not in stopwords]\n",
    "\n",
    "filtered_nouns = [n for n in nouns if len(n)>1] #명사의 길이가 1자 이상인 n의 요소만 리스트로 넣어줘\n",
    "count = Counter(filtered_tokens)\n",
    "\n",
    "ws_keywords = wb.create_sheet(\"키워드 전체분석\") #지금 활성화 되어진 엑셀 파일에 새로운 sheet를 추가하는 것\n",
    "ws_keywords.append([\"명사\", \"빈도수\"]) #새로 추가되는 sheet의 행에 들어갈 내용\n",
    "for word, freq in sorted(count.items(), key=lambda x: x[1], reverse=True ) : #count안에 들어있는 내용을 내림차순으로 정렬해\n",
    "    ws_keywords.append([word, freq])\n",
    "\n",
    "wb.save(\"연간키워드_분석결과.xlsx\")\n",
    "print(\"완료 : 전체 키워드 분석 결과 저장됨\")"
   ]
  },
  {
   "cell_type": "code",
   "execution_count": null,
   "id": "5268e42b-606f-49de-b8e0-fcbad1fef869",
   "metadata": {},
   "outputs": [],
   "source": []
  }
 ],
 "metadata": {
  "kernelspec": {
   "display_name": "Python [conda env:base] *",
   "language": "python",
   "name": "conda-base-py"
  },
  "language_info": {
   "codemirror_mode": {
    "name": "ipython",
    "version": 3
   },
   "file_extension": ".py",
   "mimetype": "text/x-python",
   "name": "python",
   "nbconvert_exporter": "python",
   "pygments_lexer": "ipython3",
   "version": "3.13.5"
  }
 },
 "nbformat": 4,
 "nbformat_minor": 5
}
