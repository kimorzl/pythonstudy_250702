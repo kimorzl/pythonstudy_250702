{
 "cells": [
  {
   "cell_type": "markdown",
   "id": "3479350b-84dc-4544-baf1-b6806536dd82",
   "metadata": {},
   "source": [
    "##### 원하는 데이터를 크롤링 해왔을때\n",
    "##### 크롤링 데이터를 문서화시키는 것\n",
    "##### 문서화되어야 데이터 활용이 가능\n",
    "\n",
    "##### openpyxl 라이브러리 활용하여 수집된 데이터를 엑셀로 추출할 수 있음\n",
    "\n",
    "##### urllib는 내장 라이브러리로 별도 설치 필요없음\n",
    "##### but openpyxl은 외장라이브러리로 설치 필요\n",
    "\n"
   ]
  },
  {
   "cell_type": "code",
   "execution_count": 3,
   "id": "e806a4de-7ea6-4508-b972-ce75c5c7c3e4",
   "metadata": {},
   "outputs": [
    {
     "name": "stdout",
     "output_type": "stream",
     "text": [
      "Defaulting to user installation because normal site-packages is not writeable\n",
      "Requirement already satisfied: openpyxl in c:\\programdata\\anaconda3\\lib\\site-packages (3.1.5)\n",
      "Requirement already satisfied: et-xmlfile in c:\\programdata\\anaconda3\\lib\\site-packages (from openpyxl) (1.1.0)\n",
      "Note: you may need to restart the kernel to use updated packages.\n"
     ]
    }
   ],
   "source": [
    "pip install openpyxl"
   ]
  },
  {
   "cell_type": "code",
   "execution_count": null,
   "id": "c2dac37e-312f-4562-8fea-e1d26fa5026b",
   "metadata": {},
   "outputs": [],
   "source": [
    "import openpyxl\n",
    "\n",
    "# Workdboot() 프로토타입 객체를 실행시켜 하나의 엑셀파일을 생성하겠다\n",
    "excel_file = openpyxl.Workbook()\n",
    "\n",
    "# 엑셀파일 내부, 기본적으로 sheetrk 1개 존재, 해당 시트를 선택(*active)\n",
    "excel_sheet = excel_file.active\n",
    "\n",
    "# 선택한 엑셀시트 내부에 데이터 추가 및 삽입\n",
    "excel_sheet.append([\"data1\", \"data2\", \"data3\"])\n",
    "\n",
    "# 엑셀파일 저장하기\n",
    "excel_file.save(tmp.xls)\n",
    "\n",
    "# 엑셀 파일 종료하기\n",
    "excel_file.close()"
   ]
  },
  {
   "cell_type": "code",
   "execution_count": 23,
   "id": "07ce2367-b76b-4fde-a92b-4665a83f9ea8",
   "metadata": {},
   "outputs": [],
   "source": [
    "#1. 데이터 크롤링 part\n",
    "\n",
    "import requests\n",
    "from bs4 import BeautifulSoup\n",
    "\n",
    "#기존 작업방식, 쥬피터 노트북을 통해 크롤링한 데이터 찾아 값을 확인하고 끝\n",
    "#앞으로 작업방식\n",
    "#1. 데이터 찾아오기 -> for문 이용\n",
    "#2. 찾아온 데이터를 양식에 넣기\n",
    "#3. 엑셀에 양식에 넣은 데이터를 전달하여 파일화하기\n",
    "\n",
    "#변수의 종류 전역(global), 지역(local), 블락(block)\n",
    "\n",
    "product_list = list()\n",
    "url = \"https://davelee-fun.github.io/\"\n",
    "\n",
    "for page_num in range(10):\n",
    "    if page_num == 0:\n",
    "        res = requests.get(url)\n",
    "    else:\n",
    "        res = requests.get(f\"{url}page-{page_num+1}\")\n",
    "    soup = BeautifulSoup(res.content, \"html.parser\")\n",
    "    datas = soup.select(\"div.card\")\n",
    "\n",
    "    for data in datas : \n",
    "        product_name = data.select_one(\"div.card-body > h4.card-text\")\n",
    "        product_data = data.select_one(\"div.wrapfooter span.post-date\")\n",
    "        product_info = [product_name.get_text().strip(), product_data.get_text().strip()]\n",
    "        product_list.append(product_info)\n",
    "\n",
    "        #print(\"상품평 :\",product_info[0],\"\\n\",\"업로드 날짜 :\",product_info[1])"
   ]
  },
  {
   "cell_type": "code",
   "execution_count": 24,
   "id": "18eb5ce6-847a-4547-8399-e4725062a606",
   "metadata": {},
   "outputs": [],
   "source": [
    "#2. 엑셀시트 저장용 함수 생성 파트\n",
    "\n",
    "import openpyxl\n",
    "def write_excel_template(filename, sheetname, listdata) :\n",
    "    excel_file = openpyxl.Workbook()\n",
    "    excel_sheet = excel_file.active\n",
    "    excel_sheet.column_dimensions[\"A\"].width = 100\n",
    "\n",
    "    if sheetname != \"\" :\n",
    "        excel_sheet.title = sheetname\n",
    "\n",
    "    for item in listdata :\n",
    "        excel_sheet.append(item)\n",
    "    \n",
    "    excel_file.save(filename)\n",
    "    excel_file.close()"
   ]
  },
  {
   "cell_type": "code",
   "execution_count": 26,
   "id": "3d71aeda-c972-42d6-b07f-fa3f4cc53799",
   "metadata": {},
   "outputs": [],
   "source": [
    "#3. 엑셀시트 저장용 함수 호출\n",
    "\n",
    "write_excel_template(\"tem.xlsx\", \"상품정보\", product_list)"
   ]
  },
  {
   "cell_type": "code",
   "execution_count": null,
   "id": "c5af4456-85c6-41e9-9cf4-515ab64c2c7f",
   "metadata": {},
   "outputs": [],
   "source": [
    "#API : Application Programming Interface\n",
    "#UI : User Interface\n",
    "#UX : User Experience\n",
    "\n",
    "#API: 공공데이터포털에서 가져옴\n",
    "\n",
    "#JASON : Java Script Object Notation\n",
    "\n",
    "#과제1. 공공데이터포털 회원가입\n",
    "#과제2. tmdb (영화데이터) 회원가입\n",
    "#과제3. openweathermap 회원가입\n",
    "#과제4. 네이버개발자도구\n",
    "#과자5. 카카오 개발자도구"
   ]
  }
 ],
 "metadata": {
  "kernelspec": {
   "display_name": "Python [conda env:base] *",
   "language": "python",
   "name": "conda-base-py"
  },
  "language_info": {
   "codemirror_mode": {
    "name": "ipython",
    "version": 3
   },
   "file_extension": ".py",
   "mimetype": "text/x-python",
   "name": "python",
   "nbconvert_exporter": "python",
   "pygments_lexer": "ipython3",
   "version": "3.13.5"
  }
 },
 "nbformat": 4,
 "nbformat_minor": 5
}
