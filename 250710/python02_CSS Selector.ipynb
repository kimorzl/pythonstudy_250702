{
 "cells": [
  {
   "cell_type": "markdown",
   "id": "da827fd5-4b6d-42b6-819b-836da0617893",
   "metadata": {},
   "source": [
    "## 파이썬을 활용한 크롤링 방법론\n",
    "1. html 문서 구조 파악\n",
    "   - 태그들은 주로 반복 사용됨\n",
    "   - find, find_all() : 주요한 기능 담당\n",
    "   - 찾고자 하는 태그를 단독으로 찾음\n",
    "   - \n",
    "2. CSS Selector (*선택자) 활용\n",
    "    - html 내 태그, 클래스, 아이디 요소를 css파일에서 선택해 무언가를 하고자 할때 : 선택자\n",
    "    - li(단일태그), ul > li(직계 자손), ul li(후손)\n",
    "    - select()로 값을 찾을 수 있음 / html구조의 find를 대체하는 방식\n",
    "      * select()는 class속성을 갖는 선택자들을 찾아 반복문을 사용하고 싶을때 사용\n",
    "      * select_one()은 id속성과 같이 문서상 1번밖에 사용하지 못하는 경우 사용"
   ]
  },
  {
   "cell_type": "code",
   "execution_count": 12,
   "id": "017a9cee-9e2c-45c2-b9ff-842a4c608ded",
   "metadata": {},
   "outputs": [
    {
     "name": "stdout",
     "output_type": "stream",
     "text": [
      "클래스소개\n",
      "블로그개발필요한준비물준비하기\n",
      "Githubpages설정해서블로그첫페이지만들어보기\n",
      "초간단페이지만들어보기\n",
      "이쁘게테마적용해보기\n",
      "마크다운기초이해하고,실제나만의블로그페이지만들기\n",
      "다양한마크다운기법익혀보며,나만의블로그페이지꾸며보기\n",
      "강사가실제사용하는자동프로그램소개\n",
      "필요한프로그램설치시연\n",
      "데이터를엑셀파일로만들기\n",
      "엑셀파일이쁘게!이쁘게!\n",
      "나대신주기적으로파이썬프로그램실행하기\n",
      "파이썬으로슬랙(slack)메신저에글쓰기\n",
      "웹사이트변경사항주기적으로체크해서,메신저로알람주기\n",
      "네이버API사용해서,블로그에글쓰기\n",
      "자동으로쿠팡파트너스API로가져온상품정보,네이버블로그/트위터에홍보하기\n"
     ]
    }
   ],
   "source": [
    "import requests\n",
    "from bs4 import BeautifulSoup\n",
    "\n",
    "res = requests.get(\"https://crawlingtest.netlify.app/\")\n",
    "soup = BeautifulSoup(res.content, \"html.parser\")\n",
    "\n",
    "items = soup.select(\"li\")\n",
    "\n",
    "for item in items :\n",
    "    print(item.get_text().split(\"-\")[1].replace(\" \",\"\").replace(\"\\n\",\"\").strip().split(\"[\")[0])\n"
   ]
  },
  {
   "cell_type": "code",
   "execution_count": 14,
   "id": "4c05b990-2c0b-46e2-a699-a5e06a6d2a16",
   "metadata": {},
   "outputs": [
    {
     "name": "stdout",
     "output_type": "stream",
     "text": [
      "나만의엣지있는블로그사이트만들기\n",
      "당신의커리어에파이썬을입히세요!자신만의자동프로그램까지가져가는특별한강의\n"
     ]
    }
   ],
   "source": [
    "import requests\n",
    "from bs4 import BeautifulSoup\n",
    "\n",
    "res = requests.get(\"https://crawlingtest.netlify.app/\")\n",
    "soup = BeautifulSoup(res.content, \"html.parser\")\n",
    "\n",
    "items = soup.select(\"h3\")\n",
    "\n",
    "for item in items :\n",
    "    print(item.get_text().replace(\" \",\"\").replace(\"\\n\",\"\").strip())\n"
   ]
  },
  {
   "cell_type": "code",
   "execution_count": 16,
   "id": "5b992d21-f2c4-404a-ab52-0b1c79dc4a19",
   "metadata": {},
   "outputs": [
    {
     "data": {
      "text/plain": [
       "[<h1>메가스터디 크롤링 테스트 페이지</h1>]"
      ]
     },
     "execution_count": 16,
     "metadata": {},
     "output_type": "execute_result"
    }
   ],
   "source": [
    "import requests\n",
    "from bs4 import BeautifulSoup\n",
    "\n",
    "res = requests.get(\"https://crawlingtest.netlify.app/\")\n",
    "soup = BeautifulSoup(res.content, \"html.parser\")\n",
    "\n",
    "items = soup.select(\"body>h1\") #selec함수를 사용해 html이라는 직계자식 body의 직계자식인 h1 태그를 찾아오고 싶다.\n",
    "items\n",
    "\n",
    "#크롤링할때 depth가 적은 경우 find, find_all로 작업해도 무방\n",
    "# 하지만, depth가 많거나 구문이 깊은 경우 직계>후손으로 찾아 작업하기 좋음 (CSS를 이용하는 이유)"
   ]
  },
  {
   "cell_type": "code",
   "execution_count": 17,
   "id": "6908fa40-b764-4517-a160-57c9f20f3862",
   "metadata": {},
   "outputs": [
    {
     "name": "stdout",
     "output_type": "stream",
     "text": [
      "<li class=\"course\">\n",
      "<a href=\"#\">(왕초보) - 클래스 소개</a>\n",
      "</li>\n",
      "<li class=\"course\">\n",
      "<a href=\"#\">(왕초보) - 블로그 개발 필요한 준비물 준비하기</a>\n",
      "</li>\n",
      "<li class=\"course\">\n",
      "<a href=\"#\">(왕초보) - Github pages 설정해서 블로그 첫 페이지 만들어보기</a>\n",
      "</li>\n",
      "<li class=\"course\">\n",
      "<a href=\"#\">(왕초보) - 초간단 페이지 만들어보기</a>\n",
      "</li>\n",
      "<li class=\"course\">\n",
      "<a href=\"#\">(왕초보) - 이쁘게 테마 적용해보기</a>\n",
      "</li>\n",
      "<li class=\"course\">\n",
      "<a href=\"#\">(왕초보) - 마크다운 기초 이해하고, 실제 나만의 블로그 페이지\n",
      "          만들기</a>\n",
      "</li>\n",
      "<li class=\"course\">\n",
      "<a href=\"#\">(왕초보) - 다양한 마크다운 기법 익혀보며, 나만의 블로그 페이지\n",
      "          꾸며보기</a>\n",
      "</li>\n",
      "<li class=\"course\">\n",
      "<a href=\"#\">(초급) - 강사가 실제 사용하는 자동 프로그램 소개 [2]</a>\n",
      "</li>\n",
      "<li class=\"course\">\n",
      "<a href=\"#\">(초급) - 필요한 프로그램 설치 시연 [5]</a>\n",
      "</li>\n",
      "<li class=\"course\">\n",
      "<a href=\"#\">(초급) - 데이터를 엑셀 파일로 만들기 [9]</a>\n",
      "</li>\n",
      "<li class=\"course\">\n",
      "<a href=\"#\">(초급) -     엑셀 파일 이쁘게! 이쁘게! [8]</a>\n",
      "</li>\n",
      "<li class=\"course\">\n",
      "<a href=\"#\">(초급) -     나대신 주기적으로 파이썬 프로그램\n",
      "          실행하기 [7]</a>\n",
      "</li>\n",
      "<li class=\"course\">\n",
      "<a href=\"#\">(초급) - 파이썬으로 슬랙(slack) 메신저에 글쓰기 [40]</a>\n",
      "</li>\n",
      "<li class=\"course\">\n",
      "<a href=\"#\">(초급) - 웹사이트 변경사항 주기적으로 체크해서, 메신저로 알람주기\n",
      "          [12]</a>\n",
      "</li>\n",
      "<li class=\"course\">\n",
      "<a href=\"#\">(초급) - 네이버 API 사용해서, 블로그에 글쓰기 [42]</a>\n",
      "</li>\n",
      "<li class=\"course\">\n",
      "<a href=\"#\">(중급) - 자동으로 쿠팡파트너스 API 로 가져온 상품 정보, 네이버\n",
      "          블로그/트위터에 홍보하기 [412]</a>\n",
      "</li>\n"
     ]
    }
   ],
   "source": [
    "import requests\n",
    "from bs4 import BeautifulSoup\n",
    "\n",
    "res = requests.get(\"https://crawlingtest.netlify.app/\")\n",
    "soup = BeautifulSoup(res.content, \"html.parser\")\n",
    "\n",
    "items = soup.select(\"ul li\")\n",
    "for item in items :\n",
    "    print(item)"
   ]
  },
  {
   "cell_type": "code",
   "execution_count": 24,
   "id": "cbf697f8-5739-48e4-9519-2323cc9e0125",
   "metadata": {},
   "outputs": [
    {
     "name": "stdout",
     "output_type": "stream",
     "text": [
      "\n",
      "(왕초보) - 클래스 소개\n",
      "\n",
      "\n",
      "(왕초보) - 블로그 개발 필요한 준비물 준비하기\n",
      "\n",
      "\n",
      "(왕초보) - Github pages 설정해서 블로그 첫 페이지 만들어보기\n",
      "\n",
      "\n",
      "(왕초보) - 초간단 페이지 만들어보기\n",
      "\n",
      "\n",
      "(왕초보) - 이쁘게 테마 적용해보기\n",
      "\n",
      "\n",
      "(왕초보) - 마크다운 기초 이해하고, 실제 나만의 블로그 페이지\n",
      "          만들기\n",
      "\n",
      "\n",
      "(왕초보) - 다양한 마크다운 기법 익혀보며, 나만의 블로그 페이지\n",
      "          꾸며보기\n",
      "\n"
     ]
    }
   ],
   "source": [
    "import requests\n",
    "from bs4 import BeautifulSoup\n",
    "\n",
    "res = requests.get(\"https://crawlingtest.netlify.app/\")\n",
    "soup = BeautifulSoup(res.content, \"html.parser\")\n",
    "\n",
    "#selec는 태그 선택자로서 id, class 등 찾아올때 #, .를 사용해야한다\n",
    "\n",
    "#items = soup.select(\".course\") - class로 찾아오기\n",
    "#items = soup.select(\"#hobby_course_list\") #hobby_course_list를 id 값으로 가지는 영역 데이터 찾아오기\n",
    "items = soup.select(\"#hobby_course_list .course\") #id값 hobby_course_list 중 class값 course를 갖는 데이터를 찾아와라\n",
    "#items = soup.select(\"#hobby_course_list > .course\") 위 구문과 같은 의미\n",
    "\n",
    "for item in items :\n",
    "    print(item.get_text())"
   ]
  },
  {
   "cell_type": "code",
   "execution_count": 27,
   "id": "8a97d4b0-49f3-45ad-8b1e-f726ea389762",
   "metadata": {},
   "outputs": [
    {
     "data": {
      "text/plain": [
       "<li class=\"course\" id=\"specialad\">\n",
       "<a href=\"#\">(왕초보) - 클래스 소개</a>\n",
       "</li>"
      ]
     },
     "execution_count": 27,
     "metadata": {},
     "output_type": "execute_result"
    }
   ],
   "source": [
    "import requests\n",
    "from bs4 import BeautifulSoup\n",
    "\n",
    "res = requests.get(\"https://crawlingtest.netlify.app/\")\n",
    "soup = BeautifulSoup(res.content, \"html.parser\")\n",
    "\n",
    "#items = soup.select(\".course#specialad\") #course라는 class를 가지면서 specialad라는 id를 가진 데이터를 찾아와라\n",
    "#items = soup.select(\".course.maintitle\") #course와 maintitle이라는 class를 가진 데이터를 찾아와라\n",
    "#items = soup.select(\"body #hobby_course_list > .course#specialad\") #body라는 태그에 hobby_course_list라는 id를 후손 중 course라는 class와 specialad라는 id값을 갖는 직계를 찾아와라\n",
    "items = soup.select_one(\"#specialad\") \n",
    "items"
   ]
  },
  {
   "cell_type": "code",
   "execution_count": 39,
   "id": "aacf9754-3fc5-4c91-8ddd-0e1349a008db",
   "metadata": {},
   "outputs": [
    {
     "name": "stdout",
     "output_type": "stream",
     "text": [
      " 일정 / 커리큘럼 타이틀 / 난이도\n",
      " 5.1 ~ 6.15 / 나만의 엣지있는 블로그 사이트 만들기 (취미로 익히는 IT) / 초급\n",
      " 6.16 ~ 7.31 / 파이썬과 데이터과학 첫걸음 (IT 기본기 익히기) / 중급\n"
     ]
    }
   ],
   "source": [
    "import requests\n",
    "from bs4 import BeautifulSoup\n",
    "\n",
    "res = requests.get(\"https://crawlingtest.netlify.app/\")\n",
    "soup = BeautifulSoup(res.content, \"html.parser\")\n",
    "\n",
    "trs = soup.select(\"tr\")\n",
    "\n",
    "# for tr in trs :\n",
    "#    tds = tr.select(\"td\")\n",
    "#    for td in tds:\n",
    "#        print(td.get_text())\n",
    "\n",
    "for tr in trs :\n",
    "    tds = tr.find_all(\"td\")\n",
    "    row_str = \"\"\n",
    "    for td in tds :\n",
    "        row_str += f\" / {td.get_text()}\"\n",
    "    print(row_str[2:])"
   ]
  }
 ],
 "metadata": {
  "kernelspec": {
   "display_name": "Python [conda env:base] *",
   "language": "python",
   "name": "conda-base-py"
  },
  "language_info": {
   "codemirror_mode": {
    "name": "ipython",
    "version": 3
   },
   "file_extension": ".py",
   "mimetype": "text/x-python",
   "name": "python",
   "nbconvert_exporter": "python",
   "pygments_lexer": "ipython3",
   "version": "3.13.5"
  }
 },
 "nbformat": 4,
 "nbformat_minor": 5
}
